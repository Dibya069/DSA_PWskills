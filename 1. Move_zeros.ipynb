{
 "cells": [
  {
   "cell_type": "markdown",
   "id": "0c43d420-bdef-416b-b3ce-c28e557942da",
   "metadata": {},
   "source": [
    "### 1. Move Zeroes <br>\n",
    "Given an integer array nums, move all 0's to the end of it while maintaining the relative order of the non-zero elements.\n",
    "\n",
    "Note that you must do this in-place without making a copy of the array.\n",
    "\n",
    "Example 1:\n",
    "Input: nums = [0,1,0,3,12]\n",
    "Output: [1,3,12,0,0]\n",
    "\n",
    "Example 2:\n",
    "Input: nums = [0]\n",
    "Output: [0]\n",
    "\n",
    "Constraints:\n",
    "a. 1 <= nums.length <= 10^4\n",
    "b. -2^31 <= nums[i] <= 2^31 - 1"
   ]
  },
  {
   "cell_type": "code",
   "execution_count": 14,
   "id": "5256e7f2-54ab-4136-86a2-105713759649",
   "metadata": {},
   "outputs": [],
   "source": [
    "def fun1(arr):\n",
    "    p1 = 0 \n",
    "    p2 = len(arr) - 1\n",
    "    \n",
    "    while p1 <= p2:\n",
    "        if arr[p1] == 0:\n",
    "            arr.append(0)\n",
    "            arr.pop(p1)\n",
    "            p2 -= 1\n",
    "        else:\n",
    "            p1 += 1\n",
    "            \n",
    "    return arr"
   ]
  },
  {
   "cell_type": "code",
   "execution_count": 15,
   "id": "44513055-e60e-4a9f-920a-b21656f531c9",
   "metadata": {},
   "outputs": [
    {
     "name": "stdout",
     "output_type": "stream",
     "text": [
      "[1, 3, 12, 0, 0]\n"
     ]
    }
   ],
   "source": [
    "arr = [0,1,0,3,12]\n",
    "\n",
    "print(fun1(arr))"
   ]
  },
  {
   "cell_type": "code",
   "execution_count": null,
   "id": "6a83cf10-6a97-4228-a907-3859204d0b6c",
   "metadata": {},
   "outputs": [],
   "source": []
  }
 ],
 "metadata": {
  "kernelspec": {
   "display_name": "Python 3 (ipykernel)",
   "language": "python",
   "name": "python3"
  },
  "language_info": {
   "codemirror_mode": {
    "name": "ipython",
    "version": 3
   },
   "file_extension": ".py",
   "mimetype": "text/x-python",
   "name": "python",
   "nbconvert_exporter": "python",
   "pygments_lexer": "ipython3",
   "version": "3.9.5"
  }
 },
 "nbformat": 4,
 "nbformat_minor": 5
}
