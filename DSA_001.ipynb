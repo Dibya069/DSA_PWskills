{
 "cells": [
  {
   "cell_type": "markdown",
   "id": "5f62944c",
   "metadata": {},
   "source": [
    "<aside>\n",
    "💡 **Q1** Given an array of integers nums and an integer target, return indices of the two numbers such that they add up to target.\n",
    "\n",
    "You may assume that each input would have exactly one solution, and you may not use the same element twice.\n",
    "\n",
    "You can return the answer in any order.\n",
    "\n",
    "**Example:**\n",
    "Input: nums = [2,7,11,15], target = 9\n",
    "Output0 [0,1]\n",
    "\n",
    "**Explanation:** Because nums[0] + nums[1] == 9, we return [0, 1][\n",
    "\n",
    "</aside>"
   ]
  },
  {
   "cell_type": "code",
   "execution_count": 8,
   "id": "cc2ed416",
   "metadata": {},
   "outputs": [],
   "source": [
    "def fun(li, target):\n",
    "    p1 = 0\n",
    "    p2 = len(li)-1\n",
    "    res = []\n",
    "    \n",
    "    while p1 < p2:\n",
    "        if (li[p1] + li[p2] != target):\n",
    "            p2 -= 1\n",
    "            if p1 == p2:\n",
    "                p1 += 1\n",
    "                p2 = len(li) - 1\n",
    "        else:\n",
    "            res.append(p1)\n",
    "            res.append(p2)\n",
    "            p1 += 1\n",
    "            p2 = len(li) - 1\n",
    "            \n",
    "    return res"
   ]
  },
  {
   "cell_type": "code",
   "execution_count": 12,
   "id": "fb0b1010",
   "metadata": {},
   "outputs": [
    {
     "name": "stdout",
     "output_type": "stream",
     "text": [
      "[0, 1]\n"
     ]
    }
   ],
   "source": [
    "lom = [2, 7, 11, 15]\n",
    "tar = 9\n",
    "\n",
    "t = fun(lom, tar)\n",
    "print(t)"
   ]
  },
  {
   "cell_type": "markdown",
   "id": "0c97cc47",
   "metadata": {},
   "source": [
    "***"
   ]
  },
  {
   "cell_type": "markdown",
   "id": "73f91711",
   "metadata": {},
   "source": [
    "<aside>\n",
    "💡 **Q2** Given an integer array nums and an integer val, remove all occurrences of val in nums in-place. The order of the elements may be changed. Then return the number of elements in nums which are not equal to val.\n",
    "\n",
    "Consider the number of elements in nums which are not equal to val be k, to get accepted, you need to do the following things:\n",
    "\n",
    "- Change the array nums such that the first k elements of nums contain the elements which are not equal to val. The remaining elements of nums are not important as well as the size of nums.\n",
    "- Return k.\n",
    "\n",
    "**Example :**\n",
    "Input: nums = [3,2,2,3], val = 3\n",
    "Output: 2, nums = [2,2,_*,_*]\n",
    "\n",
    "**Explanation:** Your function should return k = 2, with the first two elements of nums being 2. It does not matter what you leave beyond the returned k (hence they are underscores)[\n",
    "\n",
    "</aside>"
   ]
  },
  {
   "cell_type": "code",
   "execution_count": 66,
   "id": "0a4b8058",
   "metadata": {},
   "outputs": [],
   "source": [
    "class qu2:\n",
    "    def fun(self, nums, val):\n",
    "        count = nums.count(val)\n",
    "        \n",
    "        for i in range(count):\n",
    "            nums.remove(val)\n",
    "            nums.append(val)\n",
    "            \n",
    "        for i, n in enumerate(nums):\n",
    "            if n == val:\n",
    "                nums[i] = \"*\"\n",
    "        return nums\n",
    "    \n",
    "qus2 = qu2()"
   ]
  },
  {
   "cell_type": "code",
   "execution_count": 67,
   "id": "f02e1d71",
   "metadata": {},
   "outputs": [
    {
     "name": "stdout",
     "output_type": "stream",
     "text": [
      "[2, 2, '*', '*']\n"
     ]
    }
   ],
   "source": [
    "nums = [3,2,2,3] \n",
    "val = 3\n",
    "\n",
    "print(qus2.fun(nums, val))"
   ]
  },
  {
   "cell_type": "markdown",
   "id": "ac2e845c",
   "metadata": {},
   "source": [
    "***"
   ]
  },
  {
   "cell_type": "markdown",
   "id": "7305a488",
   "metadata": {},
   "source": [
    "<aside>\n",
    "💡 **Q3** Given a sorted array of distinct integers and a target value, return the index if the target is found. If not, return the index where it would be if it were inserted in order.\n",
    "\n",
    "You must write an algorithm with O(log n) runtime complexity.\n",
    "\n",
    "**Example 1:**\n",
    "Input: nums = [1,3,5,6], target = 5\n",
    "\n",
    "Output: 2\n",
    "\n",
    "</aside>"
   ]
  },
  {
   "cell_type": "code",
   "execution_count": 78,
   "id": "449baaa9",
   "metadata": {},
   "outputs": [],
   "source": [
    "class qu3:\n",
    "    def fun(self, nums, tar):\n",
    "        p1 = 0\n",
    "        p2 = len(nums) - 1\n",
    "        \n",
    "        while p1 < p2:\n",
    "            pm = (p1 + p2) // 2\n",
    "            \n",
    "            if nums[pm] > tar:\n",
    "                p2 = pm - 1\n",
    "            elif nums[pm] < tar:\n",
    "                p1 = pm + 1\n",
    "            else:\n",
    "                return pm\n",
    "            \n",
    "qus3 = qu3()"
   ]
  },
  {
   "cell_type": "code",
   "execution_count": 79,
   "id": "c64793bf",
   "metadata": {},
   "outputs": [
    {
     "name": "stdout",
     "output_type": "stream",
     "text": [
      "2\n"
     ]
    }
   ],
   "source": [
    "nums = [1,3,5,6] \n",
    "target = 5\n",
    "\n",
    "print(qus3.fun(nums, target))"
   ]
  },
  {
   "cell_type": "markdown",
   "id": "f2c5d388",
   "metadata": {},
   "source": [
    "***"
   ]
  },
  {
   "cell_type": "markdown",
   "id": "86a5804b",
   "metadata": {},
   "source": [
    "<aside>\n",
    "💡 **Q4** You are given a large integer represented as an integer array digits, where each digits[i] is the ith digit of the integer. The digits are ordered from most significant to least significant in left-to-right order. The large integer does not contain any leading 0's.\n",
    "\n",
    "Increment the large integer by one and return the resulting array of digits.\n",
    "\n",
    "**Example 1:**\n",
    "Input: digits = [1,2,3]\n",
    "Output: [1,2,4]\n",
    "\n",
    "**Explanation:** The array represents the integer 123.\n",
    "\n",
    "Incrementing by one gives 123 + 1 = 124.\n",
    "Thus, the result should be [1,2,4].\n",
    "\n",
    "</aside>"
   ]
  },
  {
   "cell_type": "code",
   "execution_count": 1,
   "id": "61d10144",
   "metadata": {},
   "outputs": [],
   "source": [
    "class qu4:\n",
    "    def fun(self, digits):\n",
    "        dif = digits[1] - digits[0]\n",
    "        \n",
    "        num = int(\"\".join(map(str, digits)))\n",
    "        res1 = num + dif\n",
    "        res2 = list(map(int, str(res1)))\n",
    "        \n",
    "        return res2\n",
    "qus4 = qu4()"
   ]
  },
  {
   "cell_type": "code",
   "execution_count": 2,
   "id": "cc80fd94",
   "metadata": {},
   "outputs": [
    {
     "name": "stdout",
     "output_type": "stream",
     "text": [
      "[1, 2, 4]\n"
     ]
    }
   ],
   "source": [
    "digits = [1, 2, 3]\n",
    "print(qus4.fun(digits))"
   ]
  },
  {
   "cell_type": "markdown",
   "id": "b0ca232c",
   "metadata": {},
   "source": [
    "***"
   ]
  },
  {
   "cell_type": "markdown",
   "id": "7f5e8411-cd5d-4d37-b9b7-9f89b2a36a5a",
   "metadata": {},
   "source": [
    "<aside>\n",
    "💡 **Q5** You are given two integer arrays nums1 and nums2, sorted in non-decreasing order, and two integers m and n, representing the number of elements in nums1 and nums2 respectively.\n",
    "\n",
    "Merge nums1 and nums2 into a single array sorted in non-decreasing order.\n",
    "\n",
    "The final sorted array should not be returned by the function, but instead be stored inside the array nums1. To accommodate this, nums1 has a length of m + n, where the first m elements denote the elements that should be merged, and the last n elements are set to 0 and should be ignored. nums2 has a length of n.\n",
    "\n",
    "**Example 1:**\n",
    "Input: nums1 = [1,2,3,0,0,0], m = 3, nums2 = [2,5,6], n = 3\n",
    "Output: [1,2,2,3,5,6]\n",
    "\n",
    "**Explanation:** The arrays we are merging are [1,2,3] and [2,5,6].\n",
    "The result of the merge is [1,2,2,3,5,6] with the underlined elements coming from nums1.\n",
    "\n",
    "</aside>"
   ]
  },
  {
   "cell_type": "code",
   "execution_count": 75,
   "id": "fd2b2005-b176-471d-9680-5ea26b5956b5",
   "metadata": {},
   "outputs": [],
   "source": [
    "class qu5:\n",
    "    def merge(self, nums1, m, nums2, n):\n",
    "        # Start merging from the end of the merged array\n",
    "        i = m - 1\n",
    "        j = n - 1\n",
    "        k = m + n - 1\n",
    "\n",
    "        # Merge the arrays by comparing elements from the end\n",
    "        while i >= 0 and j >= 0:\n",
    "            if nums1[i] > nums2[j]:\n",
    "                nums1[k] = nums1[i]\n",
    "                i -= 1\n",
    "            else:\n",
    "                nums1[k] = nums2[j]\n",
    "                j -= 1\n",
    "            k -= 1\n",
    "\n",
    "        # Copy remaining elements from nums2 to nums1 if any\n",
    "        while j >= 0:\n",
    "            nums1[k] = nums2[j]\n",
    "            j -= 1\n",
    "            k -= 1\n",
    "\n",
    "        return nums1\n",
    "    \n",
    "qus5 = qu5()"
   ]
  },
  {
   "cell_type": "code",
   "execution_count": 76,
   "id": "810a8833-128b-41fd-b994-b522ccc11a68",
   "metadata": {},
   "outputs": [
    {
     "name": "stdout",
     "output_type": "stream",
     "text": [
      "[1, 2, 2, 3, 5, 6]\n"
     ]
    }
   ],
   "source": [
    "nums1 = [1,2,3,0,0,0] \n",
    "m = 3\n",
    "nums2 = [2,5,6]\n",
    "n = 3\n",
    "\n",
    "print(qus5.merge(nums1, m, nums2, n))"
   ]
  },
  {
   "cell_type": "markdown",
   "id": "32d2a25b-f2c6-4c1f-a48f-d4bc5d3fe5ba",
   "metadata": {},
   "source": [
    "***"
   ]
  },
  {
   "cell_type": "markdown",
   "id": "0c5ddf33-795b-465a-bc6c-fe68a86ddbb1",
   "metadata": {},
   "source": [
    "<aside>\n",
    "💡 **Q6** Given an integer array nums, return true if any value appears at least twice in the array, and return false if every element is distinct.\n",
    "\n",
    "**Example 1:**\n",
    "Input: nums = [1,2,3,1]\n",
    "\n",
    "Output: true\n",
    "\n",
    "</aside>"
   ]
  },
  {
   "cell_type": "code",
   "execution_count": 64,
   "id": "5744743a-f65a-491a-9440-164b49157405",
   "metadata": {},
   "outputs": [],
   "source": [
    "class qu6:\n",
    "    def fun(self, nums):\n",
    "        num_set = set()\n",
    "\n",
    "        for n in nums:\n",
    "            if n in num_set:\n",
    "                return True\n",
    "            num_set.add(n)\n",
    "\n",
    "        return False\n",
    "        \n",
    "qus6 = qu6()\n",
    "            "
   ]
  },
  {
   "cell_type": "code",
   "execution_count": 65,
   "id": "0c6e94d9-cd65-401b-aceb-cf129228f843",
   "metadata": {},
   "outputs": [
    {
     "name": "stdout",
     "output_type": "stream",
     "text": [
      "True\n"
     ]
    }
   ],
   "source": [
    "nums = [1, 2, 3, 4, 1]\n",
    "\n",
    "print(qus6.fun(nums))"
   ]
  },
  {
   "cell_type": "markdown",
   "id": "a6575f20-bd46-45fe-b49c-7dc370e8a47e",
   "metadata": {},
   "source": [
    "***"
   ]
  },
  {
   "cell_type": "markdown",
   "id": "8a615058-3faf-4196-85c2-894e666ae05b",
   "metadata": {},
   "source": [
    "<aside>\n",
    "💡 **Q7** Given an integer array nums, move all 0's to the end of it while maintaining the relative order of the nonzero elements.\n",
    "\n",
    "Note that you must do this in-place without making a copy of the array.\n",
    "\n",
    "**Example 1:**\n",
    "Input: nums = [0,1,0,3,12]\n",
    "Output: [1,3,12,0,0]\n",
    "\n",
    "</aside>"
   ]
  },
  {
   "cell_type": "code",
   "execution_count": 46,
   "id": "63dcf175-d4ef-4348-9024-fdbe0beac6f6",
   "metadata": {},
   "outputs": [],
   "source": [
    "class qu7:\n",
    "    def fun1(self, arr):\n",
    "        p1 = 0 \n",
    "        p2 = len(arr) - 1\n",
    "\n",
    "        while p1 <= p2:\n",
    "            if arr[p1] == 0:\n",
    "                arr.append(0)\n",
    "                arr.pop(p1)\n",
    "                p2 -= 1\n",
    "            else:\n",
    "                p1 += 1\n",
    "\n",
    "        return arr\n",
    "        \n",
    "\n",
    "qus7 = qu7()"
   ]
  },
  {
   "cell_type": "code",
   "execution_count": 47,
   "id": "a60f3539-f794-44b4-806e-55270ccd93a5",
   "metadata": {},
   "outputs": [
    {
     "name": "stdout",
     "output_type": "stream",
     "text": [
      "[1, 3, 12, 0, 0]\n"
     ]
    }
   ],
   "source": [
    "nums = [0,1,0,3,12]\n",
    "print(qus7.fun1(nums))"
   ]
  },
  {
   "cell_type": "markdown",
   "id": "91cc9d57-c68d-47fb-b735-1b2a8e5409dd",
   "metadata": {},
   "source": [
    "***"
   ]
  },
  {
   "cell_type": "markdown",
   "id": "b937ede5-17a5-4732-a4e0-82b97b17efbd",
   "metadata": {},
   "source": [
    "<aside>\n",
    "💡 **Q8** You have a set of integers s, which originally contains all the numbers from 1 to n. Unfortunately, due to some error, one of the numbers in s got duplicated to another number in the set, which results in repetition of one number and loss of another number.\n",
    "\n",
    "You are given an integer array nums representing the data status of this set after the error.\n",
    "\n",
    "Find the number that occurs twice and the number that is missing and return them in the form of an array.\n",
    "\n",
    "**Example 1:**\n",
    "Input: nums = [1,2,2,4]\n",
    "Output: [2,3]\n",
    "\n",
    "</aside>"
   ]
  },
  {
   "cell_type": "code",
   "execution_count": 57,
   "id": "f2c57e19-60ea-4e9f-a5c5-44abf6505de6",
   "metadata": {},
   "outputs": [],
   "source": [
    "class qu8:\n",
    "    def fun(self, nums):\n",
    "        p1 = 0\n",
    "        p2 = len(nums) - 1\n",
    "        res = []\n",
    "        \n",
    "        while p1 < p2:\n",
    "            if (nums[p1] == (p1 + 1)):\n",
    "                p1 += 1\n",
    "            else:\n",
    "                res.append(nums[p1])\n",
    "                res.append(p1 + 1)\n",
    "                p1 += 1\n",
    "        return res\n",
    "    \n",
    "qus8 = qu8()"
   ]
  },
  {
   "cell_type": "code",
   "execution_count": 58,
   "id": "118fc021-a5fe-4ae0-be42-13407987731f",
   "metadata": {},
   "outputs": [
    {
     "name": "stdout",
     "output_type": "stream",
     "text": [
      "[2, 3]\n"
     ]
    }
   ],
   "source": [
    "nums = [1,2,2,4]\n",
    "print(qus8.fun(nums))"
   ]
  },
  {
   "cell_type": "code",
   "execution_count": null,
   "id": "70e75e45-aaa6-43dc-ae4a-cc25c1cac1eb",
   "metadata": {},
   "outputs": [],
   "source": []
  }
 ],
 "metadata": {
  "kernelspec": {
   "display_name": "Python 3 (ipykernel)",
   "language": "python",
   "name": "python3"
  },
  "language_info": {
   "codemirror_mode": {
    "name": "ipython",
    "version": 3
   },
   "file_extension": ".py",
   "mimetype": "text/x-python",
   "name": "python",
   "nbconvert_exporter": "python",
   "pygments_lexer": "ipython3",
   "version": "3.9.5"
  }
 },
 "nbformat": 4,
 "nbformat_minor": 5
}
