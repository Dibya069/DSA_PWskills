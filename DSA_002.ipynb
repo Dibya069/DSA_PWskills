{
 "cells": [
  {
   "cell_type": "markdown",
   "id": "5f62944c",
   "metadata": {},
   "source": [
    "<aside>\n",
    "💡 **Question 1**\n",
    "Given an integer array nums of 2n integers, group these integers into n pairs (a1, b1), (a2, b2),..., (an, bn) such that the sum of min(ai, bi) for all i is maximized. Return the maximized sum.\n",
    "\n",
    "**Example 1:**\n",
    "Input: nums = [1,4,3,2]\n",
    "Output: 4\n",
    "\n",
    "**Explanation:** All possible pairings (ignoring the ordering of elements) are:\n",
    "\n",
    "1. (1, 4), (2, 3) -> min(1, 4) + min(2, 3) = 1 + 2 = 3\n",
    "2. (1, 3), (2, 4) -> min(1, 3) + min(2, 4) = 1 + 2 = 3\n",
    "3. (1, 2), (3, 4) -> min(1, 2) + min(3, 4) = 1 + 3 = 4\n",
    "So the maximum possible sum is 4\n",
    "</aside>"
   ]
  },
  {
   "cell_type": "code",
   "execution_count": 27,
   "id": "cc2ed416",
   "metadata": {},
   "outputs": [],
   "source": [
    "def calculate_max_pair_sum(nums):\n",
    "    #sorted_nums = sorted(nums)  # Sort the numbers in ascending order\n",
    "    \n",
    "    pair_sums = [nums[i] + nums[i+1] for i in range(len(nums) // 2)]\n",
    "    print(pair_sums)\n",
    "    max_pair_sum = max(pair_sums)\n",
    "    \n",
    "    print(pair_sums)\n",
    "    return max_pair_sum"
   ]
  },
  {
   "cell_type": "code",
   "execution_count": 28,
   "id": "36a23a95-6841-45b0-b74e-cfbcc02d18fa",
   "metadata": {},
   "outputs": [
    {
     "name": "stdout",
     "output_type": "stream",
     "text": [
      "[3, 5]\n",
      "[3, 5]\n",
      "5\n"
     ]
    }
   ],
   "source": [
    "nums = [1, 2, 3, 4]\n",
    "print(calculate_max_pair_sum(nums))"
   ]
  },
  {
   "cell_type": "markdown",
   "id": "0c97cc47",
   "metadata": {},
   "source": [
    "***"
   ]
  },
  {
   "cell_type": "markdown",
   "id": "73f91711",
   "metadata": {},
   "source": [
    "<aside>\n",
    "💡 **Question 2**\n",
    "Alice has n candies, where the ith candy is of type candyType[i]. Alice noticed that she started to gain weight, so she visited a doctor. \n",
    "\n",
    "The doctor advised Alice to only eat n / 2 of the candies she has (n is always even). Alice likes her candies very much, and she wants to eat the maximum number of different types of candies while still following the doctor's advice. \n",
    "\n",
    "Given the integer array candyType of length n, return the maximum number of different types of candies she can eat if she only eats n / 2 of them.\n",
    "\n",
    "**Example 1:**\n",
    "Input: candyType = [1,1,2,2,3,3]\n",
    "Output: 3\n",
    "\n",
    "**Explanation**: Alice can only eat 6 / 2 = 3 candies. Since there are only 3 types, she can eat one of each type.\n",
    "\n",
    "</aside>"
   ]
  },
  {
   "cell_type": "code",
   "execution_count": 13,
   "id": "0a4b8058",
   "metadata": {},
   "outputs": [],
   "source": [
    "class q2:\n",
    "    def q(self, nums):\n",
    "        unique_types = set(nums)\n",
    "        return min(len(unique_types), len(nums) // 2)\n",
    "    \n",
    "qus2 = q2()"
   ]
  },
  {
   "cell_type": "code",
   "execution_count": 14,
   "id": "f02e1d71",
   "metadata": {},
   "outputs": [
    {
     "name": "stdout",
     "output_type": "stream",
     "text": [
      "3\n"
     ]
    }
   ],
   "source": [
    "nums = [1,1,2,2,3,3]\n",
    "print(qus2.q(nums))"
   ]
  },
  {
   "cell_type": "markdown",
   "id": "ac2e845c",
   "metadata": {},
   "source": [
    "***"
   ]
  },
  {
   "cell_type": "markdown",
   "id": "7305a488",
   "metadata": {},
   "source": [
    "## Question 3\n",
    "### We define a harmonious array as an array where the difference between its maximum value\n",
    "and its minimum value is exactly 1.\n",
    "\n",
    "Given an integer array nums, return the length of its longest harmonious subsequence\n",
    "among all its possible subsequences.\n",
    "\n",
    "A subsequence of an array is a sequence that can be derived from the array by deleting some or no elements without changing the order of the remaining elements.\n",
    "\n",
    "Example 1:\n",
    "Input: nums = [1,3,2,2,5,2,3,7]\n",
    "Output: 5\n",
    "\n",
    "Explanation: The longest harmonious subsequence is [3,2,2,2,3]."
   ]
  },
  {
   "cell_type": "code",
   "execution_count": 7,
   "id": "449baaa9",
   "metadata": {},
   "outputs": [],
   "source": [
    "class qu3:\n",
    "    def findLHS(self, nums):\n",
    "        num_count = {}\n",
    "        for num in nums:\n",
    "            num_count[num] = num_count.get(num, 0) + 1\n",
    "            print(num_count)\n",
    "\n",
    "        max_length = 0\n",
    "        for num in num_count:\n",
    "            if num + 1 in num_count:\n",
    "                max_length = max(max_length, num_count[num] + num_count[num + 1])\n",
    "\n",
    "        return max_length\n",
    "            \n",
    "qus3 = qu3()"
   ]
  },
  {
   "cell_type": "code",
   "execution_count": 8,
   "id": "c64793bf",
   "metadata": {},
   "outputs": [
    {
     "name": "stdout",
     "output_type": "stream",
     "text": [
      "{1: 1}\n",
      "{1: 1, 3: 1}\n",
      "{1: 1, 3: 1, 2: 1}\n",
      "{1: 1, 3: 1, 2: 2}\n",
      "{1: 1, 3: 1, 2: 2, 5: 1}\n",
      "{1: 1, 3: 1, 2: 3, 5: 1}\n",
      "{1: 1, 3: 2, 2: 3, 5: 1}\n",
      "{1: 1, 3: 2, 2: 3, 5: 1, 7: 1}\n",
      "5\n"
     ]
    }
   ],
   "source": [
    "nums = [1,3,2,2,5,2,3,7] \n",
    "\n",
    "print(qus3.findLHS(nums))"
   ]
  },
  {
   "cell_type": "markdown",
   "id": "f2c5d388",
   "metadata": {},
   "source": [
    "***"
   ]
  },
  {
   "cell_type": "markdown",
   "id": "86a5804b",
   "metadata": {},
   "source": [
    "### Question 4\n",
    "#### You have a long flowerbed in which some of the plots are planted, and some are not.\n",
    "However, flowers cannot be planted in adjacent plots.\n",
    "Given an integer array flowerbed containing 0's and 1's, where 0 means empty and 1 means not empty, and an integer n, return true if n new flowers can be planted in the flowerbed without violating the no-adjacent-flowers rule and false otherwise.\n",
    "\n",
    "Example 1:\n",
    "Input: flowerbed = [1,0,0,0,1], n = 1\n",
    "Output: true"
   ]
  },
  {
   "cell_type": "code",
   "execution_count": 3,
   "id": "61d10144",
   "metadata": {},
   "outputs": [],
   "source": [
    "class qu4:\n",
    "    def can_place_flowers(self, flowerbed, n):\n",
    "        length = len(flowerbed)\n",
    "        if length == 0:\n",
    "            return False\n",
    "\n",
    "        if length == 1:\n",
    "            return flowerbed[0] == 0 or n == 0\n",
    "\n",
    "        count = 0\n",
    "        i = 0\n",
    "        while i < length:\n",
    "            if flowerbed[i] == 0 and (i == 0 or flowerbed[i-1] == 0) and (i == length-1 or flowerbed[i+1] == 0):\n",
    "                flowerbed[i] = 1\n",
    "                count += 1\n",
    "            i += 1\n",
    "\n",
    "        return count >= n\n",
    "        \n",
    "qus4 = qu4()"
   ]
  },
  {
   "cell_type": "code",
   "execution_count": 4,
   "id": "cc80fd94",
   "metadata": {},
   "outputs": [
    {
     "name": "stdout",
     "output_type": "stream",
     "text": [
      "True\n"
     ]
    }
   ],
   "source": [
    "flowerbed = [1,0,0,0,1]\n",
    "n = 1\n",
    "print(qus4.can_place_flowers(flowerbed, n))"
   ]
  },
  {
   "cell_type": "markdown",
   "id": "b0ca232c",
   "metadata": {},
   "source": [
    "***"
   ]
  },
  {
   "cell_type": "markdown",
   "id": "7f5e8411-cd5d-4d37-b9b7-9f89b2a36a5a",
   "metadata": {},
   "source": [
    "## Question 5\n",
    "### Given an integer array nums, find three numbers whose product is maximum and return the maximum product.\n",
    "\n",
    "Example 1:\n",
    "Input: nums = [1,2,3]\n",
    "Output: 6"
   ]
  },
  {
   "cell_type": "code",
   "execution_count": 17,
   "id": "fd2b2005-b176-471d-9680-5ea26b5956b5",
   "metadata": {},
   "outputs": [],
   "source": [
    "class qu5:\n",
    "    def fun(self, nums):\n",
    "        n = len(nums)\n",
    "        for i in range(n):\n",
    "            # Flag to check if any swaps are made in the current pass\n",
    "            swapped = False\n",
    "\n",
    "            for j in range(0, n-i-1):\n",
    "                if nums[j] > nums[j+1]:\n",
    "                    # Swap the elements\n",
    "                    nums[j], nums[j+1] = nums[j+1], nums[j]\n",
    "                    swapped = True\n",
    "\n",
    "            # If no swaps are made in the current pass, the array is already sorted\n",
    "            if not swapped:\n",
    "                break\n",
    "                \n",
    "        return (nums[-1]*nums[-2]*nums[-3], nums)\n",
    "    \n",
    "qus5 = qu5()"
   ]
  },
  {
   "cell_type": "code",
   "execution_count": 18,
   "id": "810a8833-128b-41fd-b994-b522ccc11a68",
   "metadata": {},
   "outputs": [
    {
     "name": "stdout",
     "output_type": "stream",
     "text": [
      "(210, [1, 2, 3, 4, 5, 6, 7])\n"
     ]
    }
   ],
   "source": [
    "nums = [4, 5, 2, 7, 3, 1, 6]\n",
    "\n",
    "print(qus5.fun(nums))"
   ]
  },
  {
   "cell_type": "markdown",
   "id": "32d2a25b-f2c6-4c1f-a48f-d4bc5d3fe5ba",
   "metadata": {},
   "source": [
    "***"
   ]
  },
  {
   "cell_type": "markdown",
   "id": "0c5ddf33-795b-465a-bc6c-fe68a86ddbb1",
   "metadata": {},
   "source": [
    "## Question 6\n",
    "### Given an array of integers nums which is sorted in ascending order, and an integer target,\n",
    "write a function to search target in nums. If target exists, then return its index. Otherwise,\n",
    "return -1.\n",
    "\n",
    "You must write an algorithm with O(log n) runtime complexity.\n",
    "\n",
    "Input: nums = [-1,0,3,5,9,12], target = 9\n",
    "Output: 4\n",
    "\n",
    "Explanation: 9 exists in nums and its index is 4"
   ]
  },
  {
   "cell_type": "code",
   "execution_count": 64,
   "id": "5744743a-f65a-491a-9440-164b49157405",
   "metadata": {},
   "outputs": [],
   "source": [
    "class qu6:\n",
    "    def fun(self, nums):\n",
    "        num_set = set()\n",
    "\n",
    "        for n in nums:\n",
    "            if n in num_set:\n",
    "                return True\n",
    "            num_set.add(n)\n",
    "\n",
    "        return False\n",
    "        \n",
    "qus6 = qu6()\n",
    "            "
   ]
  },
  {
   "cell_type": "code",
   "execution_count": 65,
   "id": "0c6e94d9-cd65-401b-aceb-cf129228f843",
   "metadata": {},
   "outputs": [
    {
     "name": "stdout",
     "output_type": "stream",
     "text": [
      "True\n"
     ]
    }
   ],
   "source": [
    "nums = [1, 2, 3, 4, 1]\n",
    "\n",
    "print(qus6.fun(nums))"
   ]
  },
  {
   "cell_type": "markdown",
   "id": "a6575f20-bd46-45fe-b49c-7dc370e8a47e",
   "metadata": {},
   "source": [
    "***"
   ]
  },
  {
   "cell_type": "markdown",
   "id": "8a615058-3faf-4196-85c2-894e666ae05b",
   "metadata": {},
   "source": [
    "## Question 7\n",
    "### An array is monotonic if it is either monotone increasing or monotone decreasing.\n",
    "\n",
    "An array nums is monotone increasing if for all i <= j, nums[i] <= nums[j]. An array nums is\n",
    "monotone decreasing if for all i <= j, nums[i] >= nums[j].\n",
    "\n",
    "Given an integer array nums, return true if the given array is monotonic, or false otherwise.\n",
    "\n",
    "Example 1:\n",
    "Input: nums = [1,2,2,3]\n",
    "Output: true"
   ]
  },
  {
   "cell_type": "code",
   "execution_count": 46,
   "id": "63dcf175-d4ef-4348-9024-fdbe0beac6f6",
   "metadata": {},
   "outputs": [],
   "source": [
    "class qu7:\n",
    "    def fun1(self, arr):\n",
    "        i = 0\n",
    "        j = arr[i] + 1\n",
    "        \n",
    "        while i <= j:\n",
    "            if arr[i] <= arr[j]:\n",
    "                return print()\n",
    "\n",
    "qus7 = qu7()"
   ]
  },
  {
   "cell_type": "code",
   "execution_count": 47,
   "id": "a60f3539-f794-44b4-806e-55270ccd93a5",
   "metadata": {},
   "outputs": [
    {
     "name": "stdout",
     "output_type": "stream",
     "text": [
      "[1, 3, 12, 0, 0]\n"
     ]
    }
   ],
   "source": [
    "nums = [0,1,0,3,12]\n",
    "print(qus7.fun1(nums))"
   ]
  },
  {
   "cell_type": "markdown",
   "id": "91cc9d57-c68d-47fb-b735-1b2a8e5409dd",
   "metadata": {},
   "source": [
    "***"
   ]
  },
  {
   "cell_type": "markdown",
   "id": "b937ede5-17a5-4732-a4e0-82b97b17efbd",
   "metadata": {},
   "source": [
    "## Question 8\n",
    "### You are given an integer array nums and an integer k.\n",
    "\n",
    "In one operation, you can choose any index i where 0 <= i < nums.length and change nums[i] to nums[i] + x where x is an integer from the range [-k, k]. You can apply this operation at most once for each index i.\n",
    "\n",
    "The score of nums is the difference between the maximum and minimum elements in nums.\n",
    "\n",
    "Return the minimum score of nums after applying the mentioned operation at most once for each index in it.\n",
    "\n",
    "Example 1:\n",
    "Input: nums = [1], k = 0\n",
    "Output: 0\n",
    "\n",
    "Explanation: The score is max(nums) - min(nums) = 1 - 1 = 0."
   ]
  },
  {
   "cell_type": "code",
   "execution_count": 81,
   "id": "f2c57e19-60ea-4e9f-a5c5-44abf6505de6",
   "metadata": {},
   "outputs": [],
   "source": [
    "class qu8:\n",
    "    def dom(self, nums, k):\n",
    "        \n",
    "        for i in range(len(nums)):\n",
    "            for x in range(-k, k, 1):\n",
    "                nums[i] = nums[i] + x\n",
    "                \n",
    "        return (max(nums) - min(nums))\n",
    "    \n",
    "q8 = qu8()"
   ]
  },
  {
   "cell_type": "code",
   "execution_count": 87,
   "id": "118fc021-a5fe-4ae0-be42-13407987731f",
   "metadata": {},
   "outputs": [
    {
     "name": "stdout",
     "output_type": "stream",
     "text": [
      "0\n"
     ]
    }
   ],
   "source": [
    "nums = [1] \n",
    "k = 0\n",
    "\n",
    "print(q8.dom(nums, k))"
   ]
  },
  {
   "cell_type": "code",
   "execution_count": null,
   "id": "b73aeca9",
   "metadata": {},
   "outputs": [],
   "source": []
  },
  {
   "cell_type": "code",
   "execution_count": null,
   "id": "cf641b0b",
   "metadata": {},
   "outputs": [],
   "source": []
  }
 ],
 "metadata": {
  "kernelspec": {
   "display_name": "Python 3 (ipykernel)",
   "language": "python",
   "name": "python3"
  },
  "language_info": {
   "codemirror_mode": {
    "name": "ipython",
    "version": 3
   },
   "file_extension": ".py",
   "mimetype": "text/x-python",
   "name": "python",
   "nbconvert_exporter": "python",
   "pygments_lexer": "ipython3",
   "version": "3.9.5"
  }
 },
 "nbformat": 4,
 "nbformat_minor": 5
}
