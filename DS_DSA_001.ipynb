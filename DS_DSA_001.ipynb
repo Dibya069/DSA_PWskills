{
 "cells": [
  {
   "cell_type": "markdown",
   "id": "e147e5ae-651c-4a52-ae5d-91034b83cd22",
   "metadata": {},
   "source": [
    "### 1. Write a Python program to reverse a string without using any built-in string reversal functions.\n"
   ]
  },
  {
   "cell_type": "code",
   "execution_count": 8,
   "id": "b64897df-47e0-42aa-abf7-14f22de10eb9",
   "metadata": {},
   "outputs": [
    {
     "name": "stdin",
     "output_type": "stream",
     "text": [
      "Enter the string:  Hello ji\n"
     ]
    },
    {
     "name": "stdout",
     "output_type": "stream",
     "text": [
      "ij olleH\n"
     ]
    }
   ],
   "source": [
    "x = input(\"Enter the string: \")\n",
    "\n",
    "reverse_x = x[::-1]\n",
    "\n",
    "print(reverse_x)"
   ]
  },
  {
   "cell_type": "markdown",
   "id": "6b7cbca3-f9f0-4e6f-8cbf-c3287be7067e",
   "metadata": {},
   "source": [
    "### 2. Implement a function to check if a given string is a palindrome.\n"
   ]
  },
  {
   "cell_type": "code",
   "execution_count": 12,
   "id": "4a8ffd00-18e1-4125-aa1d-99cb38178e43",
   "metadata": {},
   "outputs": [
    {
     "name": "stdout",
     "output_type": "stream",
     "text": [
      "True\n",
      "False\n"
     ]
    }
   ],
   "source": [
    "def pal(sen):\n",
    "    if sen[::-1] == sen:\n",
    "        return True\n",
    "    else:\n",
    "        return False\n",
    "    \n",
    "tom = \"maam\"\n",
    "jom = \"sir\"\n",
    "\n",
    "print(pal(tom))\n",
    "print(pal(jom))"
   ]
  },
  {
   "cell_type": "markdown",
   "id": "1f58b843-0cb1-4403-a3a9-187039d6c225",
   "metadata": {},
   "source": [
    "### 3. Write a program to find the largest element in a given list.\n"
   ]
  },
  {
   "cell_type": "code",
   "execution_count": 17,
   "id": "17c61627-8eb1-45b2-af93-12657f27c88c",
   "metadata": {},
   "outputs": [],
   "source": [
    "def large(nums):\n",
    "    n = len(nums)\n",
    "    for i in range(n):\n",
    "        # Flag to check if any swaps are made in the current pass\n",
    "        swapped = False\n",
    "\n",
    "        for j in range(0, n-i-1):\n",
    "            if nums[j] > nums[j+1]:\n",
    "                # Swap the elements\n",
    "                nums[j], nums[j+1] = nums[j+1], nums[j]\n",
    "                swapped = True\n",
    "\n",
    "        # If no swaps are made in the current pass, the array is already sorted\n",
    "        if not swapped:\n",
    "            break\n",
    "    return nums[-1]    \n"
   ]
  },
  {
   "cell_type": "code",
   "execution_count": 18,
   "id": "846ffb92-a8b8-431a-841f-cba9f34ac857",
   "metadata": {},
   "outputs": [
    {
     "name": "stdout",
     "output_type": "stream",
     "text": [
      "8\n"
     ]
    }
   ],
   "source": [
    "nums = [2, 3, 6, 2, 8]\n",
    "\n",
    "print(large(nums))"
   ]
  },
  {
   "cell_type": "markdown",
   "id": "d6030852-54ef-4d63-abb8-481d2c683610",
   "metadata": {},
   "source": [
    "### 4. Implement a function to count the occurrence of each element in a list.\n"
   ]
  },
  {
   "cell_type": "code",
   "execution_count": 19,
   "id": "d87c9fa9-85e1-4c4d-8ab4-cfc6a492c7ff",
   "metadata": {},
   "outputs": [],
   "source": [
    "def fun(nums):\n",
    "    tom = {}\n",
    "    \n",
    "    for i in nums:\n",
    "        if i in tom:\n",
    "            tom[i] += 1\n",
    "        else:\n",
    "            tom[i] = 1\n",
    "            \n",
    "    return tom\n"
   ]
  },
  {
   "cell_type": "code",
   "execution_count": 20,
   "id": "8d415fbc-de36-4eae-b449-88e86eb590ac",
   "metadata": {},
   "outputs": [
    {
     "name": "stdout",
     "output_type": "stream",
     "text": [
      "{2: 4, 3: 2, 4: 2, 5: 1, 6: 1}\n"
     ]
    }
   ],
   "source": [
    "nums = [2, 3, 4, 2, 3, 5, 2, 4, 6, 2]\n",
    "print(fun(nums))"
   ]
  },
  {
   "cell_type": "markdown",
   "id": "ecc832d2-5d86-4354-ab75-244d78eb6d00",
   "metadata": {},
   "source": [
    "### 5. Write a Python program to find the second largest number in a list.\n"
   ]
  },
  {
   "cell_type": "code",
   "execution_count": 26,
   "id": "0b5a7f7a-d41d-45f1-add6-5cb6eaef258b",
   "metadata": {},
   "outputs": [
    {
     "name": "stdout",
     "output_type": "stream",
     "text": [
      "5\n"
     ]
    }
   ],
   "source": [
    "nums = [2, 3, 4, 2, 3, 5, 2, 4, 6, 2]\n",
    "\n",
    "s_nums = sorted(nums)\n",
    "\n",
    "print(s_nums[-2])"
   ]
  },
  {
   "cell_type": "markdown",
   "id": "9dd95682-b5a4-4e1c-bf58-ebc400ec09da",
   "metadata": {},
   "source": [
    "### 6. Implement a function to remove duplicate elements from a list.\n"
   ]
  },
  {
   "cell_type": "code",
   "execution_count": 31,
   "id": "0dfc67a0-5238-4c9f-9f8f-03050005558e",
   "metadata": {},
   "outputs": [
    {
     "name": "stdout",
     "output_type": "stream",
     "text": [
      "[2, 3, 4, 5, 6]\n"
     ]
    }
   ],
   "source": [
    "def fun(nums):\n",
    "    return list(set(nums))\n",
    "\n",
    "nums = [2, 3, 4, 2, 3, 5, 2, 4, 6, 2]\n",
    "print(fun(nums))"
   ]
  },
  {
   "cell_type": "markdown",
   "id": "68e435eb-af05-49f1-bece-5257b4cc022c",
   "metadata": {},
   "source": [
    "### 7. Write a program to calculate the factorial of a given number.\n"
   ]
  },
  {
   "cell_type": "code",
   "execution_count": 10,
   "id": "9a17493a-b948-42e8-88ea-7be6df0055fc",
   "metadata": {},
   "outputs": [],
   "source": [
    "def fact(n):\n",
    "    if n < 0:\n",
    "        return None\n",
    "    elif n == 0:\n",
    "        return 1\n",
    "    return n * fact(n-1)"
   ]
  },
  {
   "cell_type": "code",
   "execution_count": 15,
   "id": "42aad82a-56f2-430f-ad5a-ae3c93625007",
   "metadata": {},
   "outputs": [
    {
     "name": "stdout",
     "output_type": "stream",
     "text": [
      "120\n"
     ]
    }
   ],
   "source": [
    "print(fact(5))"
   ]
  },
  {
   "cell_type": "markdown",
   "id": "6a5ee3ad-5d8b-422d-aadd-045d21450077",
   "metadata": {},
   "source": [
    "### 8. Implement a function to check if a given number is prime.\n"
   ]
  },
  {
   "cell_type": "code",
   "execution_count": 16,
   "id": "f13d0bf1-3c0e-44d0-b8ae-f3631fe7b46a",
   "metadata": {},
   "outputs": [],
   "source": [
    "def prime(n):\n",
    "    count = 0\n",
    "    for i in range(2, (n // 2)):\n",
    "        if n % i == 0:\n",
    "            count += 1\n",
    "            \n",
    "    if count == 0:\n",
    "        return print(\"Prime Number\")\n",
    "    else:\n",
    "        return print(\"Not Prime NUmber\")\n",
    "    "
   ]
  },
  {
   "cell_type": "code",
   "execution_count": 21,
   "id": "9173c087-b2c5-411f-8371-b97cdf873c8d",
   "metadata": {},
   "outputs": [
    {
     "name": "stdout",
     "output_type": "stream",
     "text": [
      "Prime Number\n"
     ]
    }
   ],
   "source": [
    "prime(113)"
   ]
  },
  {
   "cell_type": "markdown",
   "id": "334bf52e-44f3-4977-8647-d6bc478538bd",
   "metadata": {},
   "source": [
    "### 9. Write a Python program to sort a list of integers in ascending order.\n",
    "\n"
   ]
  },
  {
   "cell_type": "code",
   "execution_count": 22,
   "id": "0e366008-114d-475c-a2b4-208cab4e5479",
   "metadata": {},
   "outputs": [],
   "source": [
    "def sor(n):\n",
    "    l = len(n)\n",
    "    \n",
    "    for i in range(l-1):\n",
    "        for j in range(l-i-1):\n",
    "            if n[j] > n[j+1]:\n",
    "                n[j], n[j+1] = n[j+1], n[j]\n",
    "                \n",
    "    return n"
   ]
  },
  {
   "cell_type": "code",
   "execution_count": 23,
   "id": "59cc5189-51a2-421b-91ce-5a1519d0a75d",
   "metadata": {},
   "outputs": [
    {
     "name": "stdout",
     "output_type": "stream",
     "text": [
      "[2, 2, 2, 2, 3, 3, 4, 4, 5, 6]\n"
     ]
    }
   ],
   "source": [
    "nums = [2, 3, 4, 2, 3, 5, 2, 4, 6, 2]\n",
    "print(sor(nums))"
   ]
  },
  {
   "cell_type": "markdown",
   "id": "3f974c48-50dc-43e8-bf12-049be53224ce",
   "metadata": {},
   "source": [
    "### 10. Implement a function to find the sum of all numbers in a list.\n"
   ]
  },
  {
   "cell_type": "code",
   "execution_count": 24,
   "id": "e8024715-bb61-4eda-893f-dacc5e641179",
   "metadata": {},
   "outputs": [],
   "source": [
    "def su(l):\n",
    "    s = 0\n",
    "    for i in l:\n",
    "        s += i\n",
    "    return s"
   ]
  },
  {
   "cell_type": "code",
   "execution_count": 25,
   "id": "d17c81a2-2c5a-472b-a9e5-de887b4593e0",
   "metadata": {},
   "outputs": [
    {
     "name": "stdout",
     "output_type": "stream",
     "text": [
      "33\n"
     ]
    }
   ],
   "source": [
    "nums = [2, 3, 4, 2, 3, 5, 2, 4, 6, 2]\n",
    "print(su(nums))"
   ]
  },
  {
   "cell_type": "markdown",
   "id": "7019bfc2-83a7-48c2-9bc0-93753abc49fb",
   "metadata": {},
   "source": [
    "### 11. Write a program to find the common elements between two lists.\n"
   ]
  },
  {
   "cell_type": "code",
   "execution_count": 26,
   "id": "ed7eef77-cae3-4417-99fa-e20524a8bbce",
   "metadata": {},
   "outputs": [],
   "source": [
    "def find_common_elements(list1, list2):\n",
    "    common_elements = []\n",
    "    for element in list1:\n",
    "        if element in list2:\n",
    "            common_elements.append(element)\n",
    "    return common_elements"
   ]
  },
  {
   "cell_type": "code",
   "execution_count": 27,
   "id": "d5de94fe-7a56-46d0-bbd9-d8c9a7071943",
   "metadata": {},
   "outputs": [
    {
     "name": "stdout",
     "output_type": "stream",
     "text": [
      "Common elements: [4, 5]\n"
     ]
    }
   ],
   "source": [
    "list1 = [1, 2, 3, 4, 5]\n",
    "list2 = [4, 5, 6, 7, 8]\n",
    "common_elements = find_common_elements(list1, list2)\n",
    "print(\"Common elements:\", common_elements)"
   ]
  },
  {
   "cell_type": "markdown",
   "id": "69fa9886-6703-4d38-9964-d5e14e15257c",
   "metadata": {},
   "source": [
    "### 12. Implement a function to check if a given string is an anagram of another string.\n"
   ]
  },
  {
   "cell_type": "code",
   "execution_count": 1,
   "id": "8adcc0a5-a301-40a6-ab7c-b455e15ddd96",
   "metadata": {},
   "outputs": [],
   "source": [
    "def is_anagram(str1, str2):\n",
    "    # Convert both strings to lowercase (assuming case-insensitive comparison)\n",
    "    str1 = str1.lower()\n",
    "    str2 = str2.lower()\n",
    "\n",
    "    # Remove spaces and punctuation from the strings\n",
    "    str1 = ''.join(c for c in str1 if c.isalnum())\n",
    "    str2 = ''.join(c for c in str2 if c.isalnum())\n",
    "\n",
    "    # Sort the characters in both strings\n",
    "    sorted_str1 = sorted(str1)\n",
    "    sorted_str2 = sorted(str2)\n",
    "\n",
    "    # Compare the sorted strings\n",
    "    return sorted_str1 == sorted_str2"
   ]
  },
  {
   "cell_type": "code",
   "execution_count": 2,
   "id": "f4a390a9",
   "metadata": {},
   "outputs": [
    {
     "name": "stdout",
     "output_type": "stream",
     "text": [
      "True\n"
     ]
    }
   ],
   "source": [
    "str1 = \"hello\"\n",
    "str2 = \"Loleh\"\n",
    "print(is_anagram(str1, str2))"
   ]
  },
  {
   "cell_type": "markdown",
   "id": "f3e49acb",
   "metadata": {},
   "source": [
    "### 13. Write a Python program to generate all permutations of a given string.\n"
   ]
  },
  {
   "cell_type": "code",
   "execution_count": 3,
   "id": "87de83d4",
   "metadata": {},
   "outputs": [],
   "source": [
    "from itertools import permutations\n",
    "\n",
    "def generate_permutations(string):\n",
    "    # Generate all permutations of the string\n",
    "    perms = permutations(string)\n",
    "\n",
    "    # Convert the permutations to a list of strings\n",
    "    perms = [''.join(perm) for perm in perms]\n",
    "\n",
    "    return perms"
   ]
  },
  {
   "cell_type": "code",
   "execution_count": 4,
   "id": "f0b6cce2",
   "metadata": {},
   "outputs": [
    {
     "name": "stdout",
     "output_type": "stream",
     "text": [
      "['print', 'pritn', 'prnit', 'prnti', 'prtin', 'prtni', 'pirnt', 'pirtn', 'pinrt', 'pintr', 'pitrn', 'pitnr', 'pnrit', 'pnrti', 'pnirt', 'pnitr', 'pntri', 'pntir', 'ptrin', 'ptrni', 'ptirn', 'ptinr', 'ptnri', 'ptnir', 'rpint', 'rpitn', 'rpnit', 'rpnti', 'rptin', 'rptni', 'ripnt', 'riptn', 'rinpt', 'rintp', 'ritpn', 'ritnp', 'rnpit', 'rnpti', 'rnipt', 'rnitp', 'rntpi', 'rntip', 'rtpin', 'rtpni', 'rtipn', 'rtinp', 'rtnpi', 'rtnip', 'iprnt', 'iprtn', 'ipnrt', 'ipntr', 'iptrn', 'iptnr', 'irpnt', 'irptn', 'irnpt', 'irntp', 'irtpn', 'irtnp', 'inprt', 'inptr', 'inrpt', 'inrtp', 'intpr', 'intrp', 'itprn', 'itpnr', 'itrpn', 'itrnp', 'itnpr', 'itnrp', 'nprit', 'nprti', 'npirt', 'npitr', 'nptri', 'nptir', 'nrpit', 'nrpti', 'nript', 'nritp', 'nrtpi', 'nrtip', 'niprt', 'niptr', 'nirpt', 'nirtp', 'nitpr', 'nitrp', 'ntpri', 'ntpir', 'ntrpi', 'ntrip', 'ntipr', 'ntirp', 'tprin', 'tprni', 'tpirn', 'tpinr', 'tpnri', 'tpnir', 'trpin', 'trpni', 'tripn', 'trinp', 'trnpi', 'trnip', 'tiprn', 'tipnr', 'tirpn', 'tirnp', 'tinpr', 'tinrp', 'tnpri', 'tnpir', 'tnrpi', 'tnrip', 'tnipr', 'tnirp']\n"
     ]
    }
   ],
   "source": [
    "print(generate_permutations(\"print\"))"
   ]
  },
  {
   "cell_type": "markdown",
   "id": "4b3048dd",
   "metadata": {},
   "source": [
    "### 14. Implement a function to calculate the Fibonacci sequence up to a given number of terms.\n"
   ]
  },
  {
   "cell_type": "code",
   "execution_count": 5,
   "id": "e0ed109c",
   "metadata": {},
   "outputs": [],
   "source": [
    "def fibonacci_sequence(n):\n",
    "    # Handle special cases\n",
    "    if n <= 0:\n",
    "        return []\n",
    "\n",
    "    if n == 1:\n",
    "        return [0]\n",
    "\n",
    "    # Initialize the sequence with the first two terms\n",
    "    sequence = [0, 1]\n",
    "\n",
    "    # Generate subsequent terms\n",
    "    while len(sequence) < n:\n",
    "        next_term = sequence[-1] + sequence[-2]\n",
    "        sequence.append(next_term)\n",
    "\n",
    "    return sequence"
   ]
  },
  {
   "cell_type": "code",
   "execution_count": 6,
   "id": "e5ba9e58",
   "metadata": {},
   "outputs": [
    {
     "name": "stdout",
     "output_type": "stream",
     "text": [
      "[0, 1, 1, 2, 3]\n"
     ]
    }
   ],
   "source": [
    "print(fibonacci_sequence(5))"
   ]
  },
  {
   "cell_type": "markdown",
   "id": "e7063c91",
   "metadata": {},
   "source": [
    "### 15. Write a program to find the median of a list of numbers.\n"
   ]
  },
  {
   "cell_type": "code",
   "execution_count": 12,
   "id": "d6977b77",
   "metadata": {},
   "outputs": [],
   "source": [
    "def find_median(numbers):\n",
    "    sorted_numbers = sorted(numbers)\n",
    "    n = len(sorted_numbers)\n",
    "    middle_index = n // 2\n",
    "\n",
    "    if n % 2 == 1:\n",
    "        median = sorted_numbers[middle_index]\n",
    "    else:\n",
    "        median = (sorted_numbers[middle_index - 1] + sorted_numbers[middle_index]) / 2\n",
    "\n",
    "    return median"
   ]
  },
  {
   "cell_type": "code",
   "execution_count": 13,
   "id": "a42d24ec",
   "metadata": {},
   "outputs": [
    {
     "name": "stdout",
     "output_type": "stream",
     "text": [
      "3.0\n"
     ]
    }
   ],
   "source": [
    "nums = [2, 3, 3, 1, 4, 5]\n",
    "print(find_median(nums))"
   ]
  },
  {
   "cell_type": "markdown",
   "id": "cf209c54",
   "metadata": {},
   "source": [
    "### 16. Implement a function to check if a given list is sorted in non-decreasing order.\n"
   ]
  },
  {
   "cell_type": "code",
   "execution_count": 16,
   "id": "94f5eeb9",
   "metadata": {},
   "outputs": [],
   "source": [
    "def check_dec(nums):\n",
    "    for i in range(len(nums) - 1):\n",
    "        if nums[i] > nums[i + 1]:\n",
    "            return \"Decreasing order\"\n",
    "    return \"Non-decreasing order\""
   ]
  },
  {
   "cell_type": "code",
   "execution_count": 19,
   "id": "8893e8c9",
   "metadata": {},
   "outputs": [
    {
     "name": "stdout",
     "output_type": "stream",
     "text": [
      "Decreasing order\n",
      "Decreasing order\n"
     ]
    }
   ],
   "source": [
    "nums1 = [4, 3, 2, 1]\n",
    "nums2 = [1, 2, 4, 3, 2]\n",
    "print(check_dec(nums1))\n",
    "print(check_dec(nums2))"
   ]
  },
  {
   "cell_type": "markdown",
   "id": "5053627a",
   "metadata": {},
   "source": [
    "### 17. Write a Python program to find the intersection of two lists.\n"
   ]
  },
  {
   "cell_type": "code",
   "execution_count": 20,
   "id": "22dac42f",
   "metadata": {},
   "outputs": [],
   "source": [
    "def lis_intersection(l1, l2):\n",
    "    s1 = set(l1)\n",
    "    s2 = set(l2)\n",
    "    \n",
    "    intersection = list(s1.intersection(s2))\n",
    "    return intersection"
   ]
  },
  {
   "cell_type": "code",
   "execution_count": 21,
   "id": "f39afa28",
   "metadata": {},
   "outputs": [
    {
     "name": "stdout",
     "output_type": "stream",
     "text": [
      "[2, 3]\n"
     ]
    }
   ],
   "source": [
    "n1 = [2, 3, 5, 6, 3]\n",
    "n2 = [4, 3, 2, 1, 7]\n",
    "\n",
    "print(lis_intersection(n1, n2))"
   ]
  },
  {
   "cell_type": "markdown",
   "id": "d74b36fa",
   "metadata": {},
   "source": [
    "### 18. Implement a function to find the maximum subarray sum in a given list.\n"
   ]
  },
  {
   "cell_type": "code",
   "execution_count": 81,
   "id": "b54a2e1d",
   "metadata": {},
   "outputs": [
    {
     "name": "stdout",
     "output_type": "stream",
     "text": [
      "Maximum subarray sum: 6\n"
     ]
    }
   ],
   "source": [
    "def max_subarray_sum(nums):\n",
    "    if not nums:\n",
    "        return 0\n",
    "\n",
    "    max_sum = float('-inf')  # Initialize with negative infinity\n",
    "    current_sum = 0\n",
    "\n",
    "    for num in nums:\n",
    "        current_sum = max(num, current_sum + num)\n",
    "        max_sum = max(max_sum, current_sum)\n",
    "\n",
    "    return max_sum\n",
    "\n",
    "# Test the function\n",
    "numbers = [-2, 1, -3, 4, -1, 2, 1, -5, 4]\n",
    "result = max_subarray_sum(numbers)\n",
    "print(\"Maximum subarray sum:\", result)\n"
   ]
  },
  {
   "cell_type": "markdown",
   "id": "772dd22d",
   "metadata": {},
   "source": [
    "***"
   ]
  },
  {
   "cell_type": "markdown",
   "id": "0ac20b15",
   "metadata": {},
   "source": [
    "### 19. Write a program to remove all vowels from a given string.\n"
   ]
  },
  {
   "cell_type": "code",
   "execution_count": 82,
   "id": "8e385c6c",
   "metadata": {},
   "outputs": [
    {
     "name": "stdout",
     "output_type": "stream",
     "text": [
      "String with vowels removed: Hll, Wrld!\n"
     ]
    }
   ],
   "source": [
    "def remove_vowels(string):\n",
    "    vowels = ['a', 'e', 'i', 'o', 'u', 'A', 'E', 'I', 'O', 'U']\n",
    "    result = \"\"\n",
    "    \n",
    "    for char in string:\n",
    "        if char not in vowels:\n",
    "            result += char\n",
    "    \n",
    "    return result\n",
    "\n",
    "# Test the function\n",
    "input_string = \"Hello, World!\"\n",
    "result = remove_vowels(input_string)\n",
    "print(\"String with vowels removed:\", result)\n"
   ]
  },
  {
   "cell_type": "markdown",
   "id": "d2fbb462",
   "metadata": {},
   "source": [
    "***"
   ]
  },
  {
   "cell_type": "markdown",
   "id": "30fcaafa",
   "metadata": {},
   "source": [
    "### 20. Implement a function to reverse the order of words in a given sentence."
   ]
  },
  {
   "cell_type": "code",
   "execution_count": 83,
   "id": "7f544a0c",
   "metadata": {},
   "outputs": [
    {
     "name": "stdout",
     "output_type": "stream",
     "text": [
      "Reversed sentence: sentence. a is This World! Hello,\n"
     ]
    }
   ],
   "source": [
    "def reverse_sentence(sentence):\n",
    "    words = sentence.split()  # Split the sentence into words\n",
    "    reversed_words = words[::-1]  # Reverse the order of words\n",
    "    reversed_sentence = ' '.join(reversed_words)  # Join the reversed words with spaces\n",
    "    \n",
    "    return reversed_sentence\n",
    "\n",
    "# Test the function\n",
    "input_sentence = \"Hello, World! This is a sentence.\"\n",
    "result = reverse_sentence(input_sentence)\n",
    "print(\"Reversed sentence:\", result)\n"
   ]
  },
  {
   "cell_type": "markdown",
   "id": "fa34bc39",
   "metadata": {},
   "source": [
    "***"
   ]
  },
  {
   "cell_type": "markdown",
   "id": "317d62d0",
   "metadata": {},
   "source": [
    "### 21. Write a Python program to check if two strings are anagrams of each other.\n"
   ]
  },
  {
   "cell_type": "code",
   "execution_count": 23,
   "id": "802731a9",
   "metadata": {},
   "outputs": [],
   "source": [
    "def are_anagrams(s1, s2):\n",
    "    # Convert strings to lowercase and remove whitespace\n",
    "    s1 = s1.lower().replace(\" \", \"\")\n",
    "    s2 = s2.lower().replace(\" \", \"\")\n",
    "\n",
    "    # Check if the sorted characters of the two strings are equal\n",
    "    return sorted(s1) == sorted(s2)"
   ]
  },
  {
   "cell_type": "code",
   "execution_count": 24,
   "id": "3c8ce05e",
   "metadata": {},
   "outputs": [
    {
     "name": "stdout",
     "output_type": "stream",
     "text": [
      "True\n"
     ]
    }
   ],
   "source": [
    "s1 = \"tom gone\"\n",
    "s2 = \"gone tom\"\n",
    "print(are_anagrams(s1, s2))"
   ]
  },
  {
   "cell_type": "markdown",
   "id": "fe5329b7",
   "metadata": {},
   "source": [
    "***"
   ]
  },
  {
   "cell_type": "markdown",
   "id": "73e31fe7",
   "metadata": {},
   "source": [
    "### 22. Implement a function to find the first non-repeating character in a string."
   ]
  },
  {
   "cell_type": "code",
   "execution_count": 38,
   "id": "ef9343ec",
   "metadata": {},
   "outputs": [],
   "source": [
    "def find_first_non_repeating_char(s):\n",
    "    # Create a dictionary to count the occurrences of each character\n",
    "    char_counts = {}\n",
    "\n",
    "    # Count the occurrences of each character\n",
    "    for char in s:\n",
    "        char_counts[char] = char_counts.get(char, 0) + 1\n",
    "\n",
    "    # Find the first character with count 1\n",
    "    for char in s:\n",
    "        if char_counts[char] == 1:\n",
    "            return char\n",
    "\n",
    "    # If no non-repeating character is found, return None\n",
    "    return None"
   ]
  },
  {
   "cell_type": "code",
   "execution_count": 75,
   "id": "022a05cb",
   "metadata": {},
   "outputs": [
    {
     "name": "stdout",
     "output_type": "stream",
     "text": [
      "g\n"
     ]
    }
   ],
   "source": [
    "s = \"good bad tom jerry\"\n",
    "print(find_first_non_repeating_char(s))"
   ]
  },
  {
   "cell_type": "markdown",
   "id": "3636b3ff",
   "metadata": {},
   "source": [
    "***"
   ]
  },
  {
   "cell_type": "markdown",
   "id": "9aac3bf8",
   "metadata": {},
   "source": [
    "### 23. Write a program to find the prime factors of a given number.\n"
   ]
  },
  {
   "cell_type": "code",
   "execution_count": 85,
   "id": "41b1ce5a",
   "metadata": {},
   "outputs": [
    {
     "name": "stdout",
     "output_type": "stream",
     "text": [
      "Prime factors of 84 : [2, 2, 3, 7]\n"
     ]
    }
   ],
   "source": [
    "def prime_factors(number):\n",
    "    factors = []\n",
    "    divisor = 2\n",
    "\n",
    "    while divisor <= number:\n",
    "        if number % divisor == 0:\n",
    "            factors.append(divisor)\n",
    "            number //= divisor\n",
    "        else:\n",
    "            divisor += 1\n",
    "\n",
    "    return factors\n",
    "\n",
    "# Test the function\n",
    "input_number = 84\n",
    "result = prime_factors(input_number)\n",
    "print(\"Prime factors of\", input_number, \":\", result)\n"
   ]
  },
  {
   "cell_type": "markdown",
   "id": "2a22bbe4",
   "metadata": {},
   "source": [
    "***"
   ]
  },
  {
   "cell_type": "markdown",
   "id": "805cef20",
   "metadata": {},
   "source": [
    "### 24. Implement a function to check if a given number is a power of two.\n"
   ]
  },
  {
   "cell_type": "code",
   "execution_count": 40,
   "id": "8846172d",
   "metadata": {},
   "outputs": [],
   "source": [
    "def is_power_of_two(n):\n",
    "    if n <= 0:\n",
    "        return False\n",
    "\n",
    "    while n % 2 == 0:\n",
    "        n //= 2\n",
    "\n",
    "    return n == 1\n"
   ]
  },
  {
   "cell_type": "code",
   "execution_count": 86,
   "id": "d29aa2b1",
   "metadata": {},
   "outputs": [
    {
     "name": "stdout",
     "output_type": "stream",
     "text": [
      "True\n"
     ]
    }
   ],
   "source": [
    "n = 32\n",
    "print(is_power_of_two(n))"
   ]
  },
  {
   "cell_type": "markdown",
   "id": "2737eca2",
   "metadata": {},
   "source": [
    "***"
   ]
  },
  {
   "cell_type": "markdown",
   "id": "343205a3",
   "metadata": {},
   "source": [
    "### 25. Write a Python program to merge two sorted lists into a single sorted list."
   ]
  },
  {
   "cell_type": "code",
   "execution_count": 41,
   "id": "e4f506cf",
   "metadata": {},
   "outputs": [],
   "source": [
    "def merge_sorted_lists(lst1, lst2):\n",
    "    merged = []\n",
    "    i = 0  # Pointer for lst1\n",
    "    j = 0  # Pointer for lst2\n",
    "\n",
    "    # Merge the two lists in sorted order\n",
    "    while i < len(lst1) and j < len(lst2):\n",
    "        if lst1[i] <= lst2[j]:\n",
    "            merged.append(lst1[i])\n",
    "            i += 1\n",
    "        else:\n",
    "            merged.append(lst2[j])\n",
    "            j += 1\n",
    "\n",
    "    # Add any remaining elements from lst1 or lst2\n",
    "    merged.extend(lst1[i:])\n",
    "    merged.extend(lst2[j:])\n",
    "\n",
    "    return merged\n"
   ]
  },
  {
   "cell_type": "code",
   "execution_count": 87,
   "id": "687f1d53",
   "metadata": {},
   "outputs": [
    {
     "name": "stdout",
     "output_type": "stream",
     "text": [
      "[2, 3, 3, 4, 5, 6, 7, 7, 8, 23, 8, 4, 9, 2]\n"
     ]
    }
   ],
   "source": [
    "l1 = [2, 3, 4, 5, 6, 7, 8]\n",
    "l2 = [3, 7, 23, 8, 4, 9, 2]\n",
    "\n",
    "print(merge_sorted_lists(l1, l2))"
   ]
  },
  {
   "cell_type": "markdown",
   "id": "90b2ecf0",
   "metadata": {},
   "source": [
    "***"
   ]
  },
  {
   "cell_type": "markdown",
   "id": "077671b7",
   "metadata": {},
   "source": [
    "### 26. Implement a function to find the mode of a list of numbers.\n"
   ]
  },
  {
   "cell_type": "code",
   "execution_count": 90,
   "id": "0364637d",
   "metadata": {},
   "outputs": [
    {
     "name": "stdout",
     "output_type": "stream",
     "text": [
      "Mode(s) of the list: [2]\n"
     ]
    }
   ],
   "source": [
    "from collections import Counter\n",
    "\n",
    "def find_mode(numbers):\n",
    "    # Count the occurrences of each number\n",
    "    count_dict = Counter(numbers)\n",
    "    \n",
    "    # Find the maximum occurrence\n",
    "    max_count = max(count_dict.values())\n",
    "    \n",
    "    # Find all numbers with maximum occurrence (mode)\n",
    "    mode = [num for num, count in count_dict.items() if count == max_count]\n",
    "    \n",
    "    return mode\n",
    "\n",
    "# Test the function\n",
    "number_list = [1, 2, 3, 2, 4, 3, 2, 4, 5]\n",
    "result = find_mode(number_list)\n",
    "print(\"Mode(s) of the list:\", result)\n",
    "\n"
   ]
  },
  {
   "cell_type": "markdown",
   "id": "bac614a2",
   "metadata": {},
   "source": [
    "***"
   ]
  },
  {
   "cell_type": "markdown",
   "id": "bc5f40fc",
   "metadata": {},
   "source": [
    "### 27. Write a program to find the greatest common divisor (GCD) of two numbers.\n"
   ]
  },
  {
   "cell_type": "code",
   "execution_count": 43,
   "id": "fb2690a8",
   "metadata": {},
   "outputs": [],
   "source": [
    "def gcd(a, b):\n",
    "    while b != 0:\n",
    "        a, b = b, a % b\n",
    "    return a\n"
   ]
  },
  {
   "cell_type": "code",
   "execution_count": 91,
   "id": "8f56525c",
   "metadata": {},
   "outputs": [
    {
     "name": "stdout",
     "output_type": "stream",
     "text": [
      "2\n"
     ]
    }
   ],
   "source": [
    "a = 4\n",
    "b = 14\n",
    "\n",
    "print(gcd(a, b))"
   ]
  },
  {
   "cell_type": "markdown",
   "id": "d95e4275",
   "metadata": {},
   "source": [
    "***"
   ]
  },
  {
   "cell_type": "markdown",
   "id": "624c1d8a",
   "metadata": {},
   "source": [
    "### 28. Implement a function to calculate the square root of a given number.\n"
   ]
  },
  {
   "cell_type": "code",
   "execution_count": 44,
   "id": "966f6b1d",
   "metadata": {},
   "outputs": [],
   "source": [
    "def square_root(n):\n",
    "    if n < 0:\n",
    "        return None\n",
    "\n",
    "    if n == 0 or n == 1:\n",
    "        return n\n",
    "\n",
    "    # Using the Babylonian method for approximating square roots\n",
    "    x = n\n",
    "    y = (x + 1) // 2\n",
    "    while y < x:\n",
    "        x = y\n",
    "        y = (x + n // x) // 2\n",
    "\n",
    "    return x\n"
   ]
  },
  {
   "cell_type": "code",
   "execution_count": 92,
   "id": "6528f01a",
   "metadata": {},
   "outputs": [
    {
     "name": "stdout",
     "output_type": "stream",
     "text": [
      "4\n"
     ]
    }
   ],
   "source": [
    "n = 23\n",
    "print(square_root(n))"
   ]
  },
  {
   "cell_type": "markdown",
   "id": "1a8e4d45",
   "metadata": {},
   "source": [
    "***"
   ]
  },
  {
   "cell_type": "markdown",
   "id": "63c44980",
   "metadata": {},
   "source": [
    "### 29. Write a Python program to check if a given string is a valid palindrome ignoring non-alphanumeric characters.\n"
   ]
  },
  {
   "cell_type": "code",
   "execution_count": 45,
   "id": "05127bc3",
   "metadata": {},
   "outputs": [],
   "source": [
    "import re\n",
    "\n",
    "def is_valid_palindrome(s):\n",
    "    # Remove non-alphanumeric characters and convert to lowercase\n",
    "    s = re.sub(r'\\W+', '', s).lower()\n",
    "\n",
    "    return s == s[::-1]\n"
   ]
  },
  {
   "cell_type": "code",
   "execution_count": 93,
   "id": "ad31afdd",
   "metadata": {},
   "outputs": [
    {
     "name": "stdout",
     "output_type": "stream",
     "text": [
      "False\n"
     ]
    }
   ],
   "source": [
    "s = \"maam I am good\"\n",
    "print(is_valid_palindrome(s))"
   ]
  },
  {
   "cell_type": "markdown",
   "id": "a61a945d",
   "metadata": {},
   "source": [
    "***"
   ]
  },
  {
   "cell_type": "markdown",
   "id": "f3e2332e",
   "metadata": {},
   "source": [
    "### 30. Implement a function to find the minimum element in a rotated sorted list.\n"
   ]
  },
  {
   "cell_type": "code",
   "execution_count": 95,
   "id": "a62b1dcb",
   "metadata": {},
   "outputs": [
    {
     "name": "stdout",
     "output_type": "stream",
     "text": [
      "Minimum element: 0\n"
     ]
    }
   ],
   "source": [
    "def find_minimum(nums):\n",
    "    left = 0\n",
    "    right = len(nums) - 1\n",
    "    \n",
    "    while left < right:\n",
    "        mid = left + (right - left) // 2\n",
    "        \n",
    "        if nums[mid] > nums[right]:\n",
    "            left = mid + 1\n",
    "        else:\n",
    "            right = mid\n",
    "    \n",
    "    return nums[left]\n",
    "\n",
    "# Test the function\n",
    "numbers = [4, 5, 6, 7, 0, 1, 2]\n",
    "result = find_minimum(numbers)\n",
    "print(\"Minimum element:\", result)\n"
   ]
  },
  {
   "cell_type": "markdown",
   "id": "72537059",
   "metadata": {},
   "source": [
    "***"
   ]
  },
  {
   "cell_type": "markdown",
   "id": "344a3ccb",
   "metadata": {},
   "source": [
    "### 31. Write a program to find the sum of all even numbers in a list.\n"
   ]
  },
  {
   "cell_type": "code",
   "execution_count": 56,
   "id": "3fecbaae",
   "metadata": {},
   "outputs": [
    {
     "name": "stdout",
     "output_type": "stream",
     "text": [
      "30\n"
     ]
    }
   ],
   "source": [
    "def sum_of_even_numbers(lst):\n",
    "    sum = 0\n",
    "    for num in lst:\n",
    "        if num % 2 == 0:\n",
    "            sum += num\n",
    "    return sum\n",
    "\n",
    "# Example usage\n",
    "numbers = [1, 2, 3, 4, 5, 6, 7, 8, 9, 10]\n",
    "result = sum_of_even_numbers(numbers)\n",
    "print(result) "
   ]
  },
  {
   "cell_type": "markdown",
   "id": "329065e4",
   "metadata": {},
   "source": [
    "********"
   ]
  },
  {
   "cell_type": "markdown",
   "id": "ed3ed437",
   "metadata": {},
   "source": [
    "### 32. Implement a function to calculate the power of a number using recursion.\n"
   ]
  },
  {
   "cell_type": "code",
   "execution_count": 57,
   "id": "391b444d",
   "metadata": {},
   "outputs": [
    {
     "name": "stdout",
     "output_type": "stream",
     "text": [
      "8\n"
     ]
    }
   ],
   "source": [
    "def power(base, exponent):\n",
    "    if exponent == 0:\n",
    "        return 1\n",
    "    else:\n",
    "        return base * power(base, exponent - 1)\n",
    "\n",
    "# Example usage\n",
    "result = power(2, 3)\n",
    "print(result)  "
   ]
  },
  {
   "cell_type": "markdown",
   "id": "c2d44cca",
   "metadata": {},
   "source": [
    "***"
   ]
  },
  {
   "cell_type": "markdown",
   "id": "a6586872",
   "metadata": {},
   "source": [
    "### 33. Write a Python program to remove duplicates from a list while preserving the order.\n"
   ]
  },
  {
   "cell_type": "code",
   "execution_count": 58,
   "id": "d49abe1f",
   "metadata": {},
   "outputs": [
    {
     "name": "stdout",
     "output_type": "stream",
     "text": [
      "[1, 2, 3, 4, 5, 6]\n"
     ]
    }
   ],
   "source": [
    "def remove_duplicates(lst):\n",
    "    seen = set()\n",
    "    result = []\n",
    "    for num in lst:\n",
    "        if num not in seen:\n",
    "            seen.add(num)\n",
    "            result.append(num)\n",
    "    return result\n",
    "\n",
    "# Example usage\n",
    "numbers = [1, 2, 3, 2, 4, 1, 5, 6, 5]\n",
    "result = remove_duplicates(numbers)\n",
    "print(result)"
   ]
  },
  {
   "cell_type": "markdown",
   "id": "8376ac72",
   "metadata": {},
   "source": [
    "***"
   ]
  },
  {
   "cell_type": "markdown",
   "id": "309af121",
   "metadata": {},
   "source": [
    "### 34. Implement a function to find the longest common prefix among a list of strings.\n"
   ]
  },
  {
   "cell_type": "code",
   "execution_count": 60,
   "id": "d30796ef",
   "metadata": {},
   "outputs": [
    {
     "name": "stdout",
     "output_type": "stream",
     "text": [
      "fl\n"
     ]
    }
   ],
   "source": [
    "def longest_common_prefix(strs):\n",
    "    if not strs:\n",
    "        return \"\"\n",
    "    prefix = strs[0]\n",
    "    for i in range(1, len(strs)):\n",
    "        while strs[i].find(prefix) != 0:\n",
    "            prefix = prefix[:-1]\n",
    "            if not prefix:\n",
    "                return \"\"\n",
    "    return prefix\n",
    "\n",
    "# Example usage\n",
    "strings = [\"flower\", \"flow\", \"flight\"]\n",
    "result = longest_common_prefix(strings)\n",
    "print(result) "
   ]
  },
  {
   "cell_type": "markdown",
   "id": "6c7360cb",
   "metadata": {},
   "source": [
    "***"
   ]
  },
  {
   "cell_type": "markdown",
   "id": "63a30199",
   "metadata": {},
   "source": [
    "### 35. Write a program to check if a given number is a perfect square.\n"
   ]
  },
  {
   "cell_type": "code",
   "execution_count": 61,
   "id": "abdeba2b",
   "metadata": {},
   "outputs": [
    {
     "name": "stdout",
     "output_type": "stream",
     "text": [
      "True\n"
     ]
    }
   ],
   "source": [
    "def is_perfect_square(num):\n",
    "    if num < 0:\n",
    "        return False\n",
    "    sqrt = int(num ** 0.5)\n",
    "    return sqrt * sqrt == num\n",
    "\n",
    "# Example usage\n",
    "result = is_perfect_square(16)\n",
    "print(result) "
   ]
  },
  {
   "cell_type": "markdown",
   "id": "45342637",
   "metadata": {},
   "source": [
    "***"
   ]
  },
  {
   "cell_type": "markdown",
   "id": "bef580e7",
   "metadata": {},
   "source": [
    "### 36. Implement a function to calculate the product of all elements in a list.\n"
   ]
  },
  {
   "cell_type": "code",
   "execution_count": 62,
   "id": "eb84d9a7",
   "metadata": {},
   "outputs": [
    {
     "name": "stdout",
     "output_type": "stream",
     "text": [
      "120\n"
     ]
    }
   ],
   "source": [
    "def product_of_elements(lst):\n",
    "    product = 1\n",
    "    for num in lst:\n",
    "        product *= num\n",
    "    return product\n",
    "\n",
    "# Example usage\n",
    "numbers = [1, 2, 3, 4, 5]\n",
    "result = product_of_elements(numbers)\n",
    "print(result)"
   ]
  },
  {
   "cell_type": "markdown",
   "id": "d1b1bf30",
   "metadata": {},
   "source": [
    "***"
   ]
  },
  {
   "cell_type": "markdown",
   "id": "369c67c9",
   "metadata": {},
   "source": [
    "### 37. Write a Python program to reverse the order of words in a sentence while preserving the word order.\n"
   ]
  },
  {
   "cell_type": "code",
   "execution_count": 63,
   "id": "f6c5524d",
   "metadata": {},
   "outputs": [
    {
     "name": "stdout",
     "output_type": "stream",
     "text": [
      "world! Hello,\n"
     ]
    }
   ],
   "source": [
    "def reverse_words(sentence):\n",
    "    words = sentence.split()\n",
    "    reversed_words = ' '.join(reversed(words))\n",
    "    return reversed_words\n",
    "\n",
    "# Example usage\n",
    "text = \"Hello, world!\"\n",
    "result = reverse_words(text)\n",
    "print(result)"
   ]
  },
  {
   "cell_type": "markdown",
   "id": "e5ecd32a",
   "metadata": {},
   "source": [
    "***"
   ]
  },
  {
   "cell_type": "markdown",
   "id": "f6807a61",
   "metadata": {},
   "source": [
    "### 38. Implement a function to find the missing number in a given list of consecutive numbers.\n"
   ]
  },
  {
   "cell_type": "code",
   "execution_count": 64,
   "id": "f9cab7d7",
   "metadata": {},
   "outputs": [
    {
     "name": "stdout",
     "output_type": "stream",
     "text": [
      "4\n"
     ]
    }
   ],
   "source": [
    "def find_missing_number(lst):\n",
    "    n = len(lst) + 1\n",
    "    total_sum = (n * (n + 1)) // 2\n",
    "    actual_sum = sum(lst)\n",
    "    missing_number = total_sum - actual_sum\n",
    "    return missing_number\n",
    "\n",
    "# Example usage\n",
    "numbers = [1, 2, 3, 5, 6, 7, 8, 9, 10]\n",
    "result = find_missing_number(numbers)\n",
    "print(result) "
   ]
  },
  {
   "cell_type": "markdown",
   "id": "3020120f",
   "metadata": {},
   "source": [
    "***"
   ]
  },
  {
   "cell_type": "markdown",
   "id": "4e8f92f6",
   "metadata": {},
   "source": [
    "### 39. Write a program to find the sum of digits of a given number.\n"
   ]
  },
  {
   "cell_type": "code",
   "execution_count": 65,
   "id": "b570db62",
   "metadata": {},
   "outputs": [
    {
     "name": "stdout",
     "output_type": "stream",
     "text": [
      "15\n"
     ]
    }
   ],
   "source": [
    "def sum_of_digits(num):\n",
    "    total = 0\n",
    "    while num > 0:\n",
    "        digit = num % 10\n",
    "        total += digit\n",
    "        num //= 10\n",
    "    return total\n",
    "\n",
    "# Example usage\n",
    "result = sum_of_digits(12345)\n",
    "print(result)"
   ]
  },
  {
   "cell_type": "markdown",
   "id": "56378135",
   "metadata": {},
   "source": [
    "***"
   ]
  },
  {
   "cell_type": "markdown",
   "id": "321186ab",
   "metadata": {},
   "source": [
    "### 40. Implement a function to check if a given string is a valid palindrome considering case sensitivity.\n"
   ]
  },
  {
   "cell_type": "code",
   "execution_count": 66,
   "id": "48e01945",
   "metadata": {},
   "outputs": [
    {
     "name": "stdout",
     "output_type": "stream",
     "text": [
      "True\n"
     ]
    }
   ],
   "source": [
    "def is_palindrome(string):\n",
    "    reversed_string = string[::-1]\n",
    "    return string == reversed_string\n",
    "\n",
    "# Example usage\n",
    "text = \"level\"\n",
    "result = is_palindrome(text)\n",
    "print(result)"
   ]
  },
  {
   "cell_type": "markdown",
   "id": "bcf2778f",
   "metadata": {},
   "source": [
    "***"
   ]
  },
  {
   "cell_type": "markdown",
   "id": "b7698dd8",
   "metadata": {},
   "source": [
    "### 41. Write a Python program to find the smallest missing positive integer in a list.\n"
   ]
  },
  {
   "cell_type": "code",
   "execution_count": 74,
   "id": "7ea933a0",
   "metadata": {},
   "outputs": [
    {
     "name": "stdout",
     "output_type": "stream",
     "text": [
      "The smallest missing positive integer is: 1\n"
     ]
    }
   ],
   "source": [
    "def find_smallest_missing_positive(nums):\n",
    "    tom = set()\n",
    "    p1 = 0\n",
    "    p2 = len(nums) - 1\n",
    "\n",
    "    while p1 < p2:\n",
    "        if nums[p1] < nums[p1 + 1]:\n",
    "            tom.add(nums[p1])\n",
    "        else:\n",
    "            tom.add(nums[p1 + 1])\n",
    "        p1 += 1\n",
    "\n",
    "    # Find the smallest missing positive integer\n",
    "    smallest = 1\n",
    "    while smallest in tom:\n",
    "        smallest += 1\n",
    "    \n",
    "    return smallest\n",
    "\n",
    "# Test the function\n",
    "numbers = [3, 5, -1, 1, -2, 4, 2]\n",
    "result = find_smallest_missing_positive(numbers)\n",
    "print(\"The smallest missing positive integer is:\", result)"
   ]
  },
  {
   "cell_type": "markdown",
   "id": "bbcbe868",
   "metadata": {},
   "source": [
    "***"
   ]
  },
  {
   "cell_type": "markdown",
   "id": "4cbbbdd8",
   "metadata": {},
   "source": [
    "### 42. Implement a function to find the longest palindrome substring in a given string.\n"
   ]
  },
  {
   "cell_type": "code",
   "execution_count": 76,
   "id": "0d0657de",
   "metadata": {},
   "outputs": [
    {
     "name": "stdout",
     "output_type": "stream",
     "text": [
      "Longest palindrome substring: bab\n"
     ]
    }
   ],
   "source": [
    "def longest_palindrome_substring(s):\n",
    "    n = len(s)\n",
    "    max_length = 0\n",
    "    start = 0\n",
    "    \n",
    "    # Helper function to expand around the center\n",
    "    def expand_around_center(left, right):\n",
    "        nonlocal max_length, start\n",
    "        while left >= 0 and right < n and s[left] == s[right]:\n",
    "            left -= 1\n",
    "            right += 1\n",
    "        current_length = right - left - 1\n",
    "        if current_length > max_length:\n",
    "            max_length = current_length\n",
    "            start = left + 1\n",
    "    \n",
    "    # Iterate over each character as the center of palindrome\n",
    "    for i in range(n):\n",
    "        expand_around_center(i, i)  # odd-length palindrome\n",
    "        expand_around_center(i, i + 1)  # even-length palindrome\n",
    "    \n",
    "    return s[start:start + max_length]\n",
    "\n",
    "# Test the function\n",
    "input_string = \"babad\"\n",
    "result = longest_palindrome_substring(input_string)\n",
    "print(\"Longest palindrome substring:\", result)\n"
   ]
  },
  {
   "cell_type": "markdown",
   "id": "02d6eb8e",
   "metadata": {},
   "source": [
    "***"
   ]
  },
  {
   "cell_type": "markdown",
   "id": "c1834db4",
   "metadata": {},
   "source": [
    "### 43. Write a program to find the number of occurrences of a given element in a list.\n"
   ]
  },
  {
   "cell_type": "code",
   "execution_count": 77,
   "id": "e5de89c3",
   "metadata": {},
   "outputs": [
    {
     "name": "stdout",
     "output_type": "stream",
     "text": [
      "Number of occurrences: 4\n"
     ]
    }
   ],
   "source": [
    "def count_occurrences(lst, element):\n",
    "    count = 0\n",
    "    for item in lst:\n",
    "        if item == element:\n",
    "            count += 1\n",
    "    return count\n",
    "\n",
    "# Test the function\n",
    "numbers = [1, 2, 3, 4, 2, 2, 5, 2]\n",
    "element = 2\n",
    "result = count_occurrences(numbers, element)\n",
    "print(\"Number of occurrences:\", result)\n"
   ]
  },
  {
   "cell_type": "markdown",
   "id": "dd1824af",
   "metadata": {},
   "source": [
    "***"
   ]
  },
  {
   "cell_type": "markdown",
   "id": "0c1c3b96",
   "metadata": {},
   "source": [
    "### 44. Implement a function to check if a given number is a perfect number.\n"
   ]
  },
  {
   "cell_type": "code",
   "execution_count": 78,
   "id": "8748d425",
   "metadata": {},
   "outputs": [
    {
     "name": "stdout",
     "output_type": "stream",
     "text": [
      "28 is a perfect number\n"
     ]
    }
   ],
   "source": [
    "def is_perfect_number(num):\n",
    "    if num <= 0:\n",
    "        return False\n",
    "    factors = [1]\n",
    "    for i in range(2, int(num**0.5) + 1):\n",
    "        if num % i == 0:\n",
    "            factors.append(i)\n",
    "            factors.append(num // i)\n",
    "    return sum(factors) == num\n",
    "\n",
    "# Test the function\n",
    "number = 28\n",
    "result = is_perfect_number(number)\n",
    "if result:\n",
    "    print(number, \"is a perfect number\")\n",
    "else:\n",
    "    print(number, \"is not a perfect number\")\n"
   ]
  },
  {
   "cell_type": "markdown",
   "id": "b06b7ab9",
   "metadata": {},
   "source": [
    "***"
   ]
  },
  {
   "cell_type": "markdown",
   "id": "e01f1fd2",
   "metadata": {},
   "source": [
    "### 45. Write a Python program to remove all duplicates from a string.\n"
   ]
  },
  {
   "cell_type": "code",
   "execution_count": 79,
   "id": "7e449e48",
   "metadata": {},
   "outputs": [
    {
     "name": "stdout",
     "output_type": "stream",
     "text": [
      "String with duplicates removed: ! lWro,dHe\n"
     ]
    }
   ],
   "source": [
    "def remove_duplicates(string):\n",
    "    return ''.join(set(string))\n",
    "\n",
    "# Test the function\n",
    "input_string = \"Hello, World!\"\n",
    "result = remove_duplicates(input_string)\n",
    "print(\"String with duplicates removed:\", result)\n"
   ]
  },
  {
   "cell_type": "markdown",
   "id": "b7e69f70",
   "metadata": {},
   "source": [
    "***"
   ]
  },
  {
   "cell_type": "markdown",
   "id": "676bbd74",
   "metadata": {},
   "source": [
    "### 46. Implement a function to find the first missing positive"
   ]
  },
  {
   "cell_type": "code",
   "execution_count": 80,
   "id": "f66e873a",
   "metadata": {},
   "outputs": [
    {
     "name": "stdout",
     "output_type": "stream",
     "text": [
      "First missing positive integer: 6\n"
     ]
    }
   ],
   "source": [
    "def find_first_missing_positive(nums):\n",
    "    n = len(nums)\n",
    "\n",
    "    # Move all non-positive integers to the left side\n",
    "    j = 0\n",
    "    for i in range(n):\n",
    "        if nums[i] <= 0:\n",
    "            nums[i], nums[j] = nums[j], nums[i]\n",
    "            j += 1\n",
    "\n",
    "    # Consider only positive integers\n",
    "    nums = nums[j:]\n",
    "\n",
    "    # Mark visited integers as negative\n",
    "    for i in range(len(nums)):\n",
    "        num = abs(nums[i])\n",
    "        if num <= len(nums):\n",
    "            nums[num - 1] = -abs(nums[num - 1])\n",
    "\n",
    "    # Find the first positive integer\n",
    "    for i in range(len(nums)):\n",
    "        if nums[i] > 0:\n",
    "            return i + 1\n",
    "\n",
    "    # If all positive integers are present, return the next one\n",
    "    return len(nums) + 1\n",
    "\n",
    "# Test the function\n",
    "numbers = [3, 5, -1, 1, -2, 4, 2]\n",
    "result = find_first_missing_positive(numbers)\n",
    "print(\"First missing positive integer:\", result)\n"
   ]
  }
 ],
 "metadata": {
  "kernelspec": {
   "display_name": "Python 3 (ipykernel)",
   "language": "python",
   "name": "python3"
  },
  "language_info": {
   "codemirror_mode": {
    "name": "ipython",
    "version": 3
   },
   "file_extension": ".py",
   "mimetype": "text/x-python",
   "name": "python",
   "nbconvert_exporter": "python",
   "pygments_lexer": "ipython3",
   "version": "3.9.5"
  }
 },
 "nbformat": 4,
 "nbformat_minor": 5
}
