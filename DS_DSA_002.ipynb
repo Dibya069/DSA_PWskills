{
 "cells": [
  {
   "cell_type": "markdown",
   "id": "19614361",
   "metadata": {},
   "source": [
    "## 1. Scenario: A company wants to analyze the sales performance of its products in different regions. They have collected the following data:\n",
    "   ```\n",
    "   Region A: [10, 15, 12, 8, 14]\n",
    "   Region B: [18, 20, 16, 22, 25]\n",
    "   Calculate the mean sales for each region.\n",
    "```\n"
   ]
  },
  {
   "cell_type": "code",
   "execution_count": 96,
   "id": "44e5addd",
   "metadata": {},
   "outputs": [
    {
     "name": "stdout",
     "output_type": "stream",
     "text": [
      "Mean sales for Region A: 11.8\n",
      "Mean sales for Region B: 20.2\n"
     ]
    }
   ],
   "source": [
    "region_a_sales = [10, 15, 12, 8, 14]\n",
    "region_b_sales = [18, 20, 16, 22, 25]\n",
    "\n",
    "mean_region_a = sum(region_a_sales) / len(region_a_sales)\n",
    "mean_region_b = sum(region_b_sales) / len(region_b_sales)\n",
    "\n",
    "print(\"Mean sales for Region A:\", mean_region_a)\n",
    "print(\"Mean sales for Region B:\", mean_region_b)\n"
   ]
  },
  {
   "cell_type": "markdown",
   "id": "a3fc84e6",
   "metadata": {},
   "source": [
    "***"
   ]
  },
  {
   "cell_type": "markdown",
   "id": "abd71004",
   "metadata": {},
   "source": [
    "## 2. Scenario: A survey is conducted to measure customer satisfaction on a scale of 1 to 5. The data collected is as follows:\n",
    "   ```\n",
    "    [4, 5, 2, 3, 5, 4, 3, 2, 4, 5]\n",
    "   Calculate the mode of the survey responses.\n",
    "```\n"
   ]
  },
  {
   "cell_type": "code",
   "execution_count": 97,
   "id": "870c4b27",
   "metadata": {},
   "outputs": [
    {
     "name": "stdout",
     "output_type": "stream",
     "text": [
      "Mode of the survey responses: 4\n"
     ]
    }
   ],
   "source": [
    "survey_responses = [4, 5, 2, 3, 5, 4, 3, 2, 4, 5]\n",
    "\n",
    "from statistics import mode\n",
    "\n",
    "mode_response = mode(survey_responses)\n",
    "\n",
    "print(\"Mode of the survey responses:\", mode_response)\n"
   ]
  },
  {
   "cell_type": "markdown",
   "id": "8e329903",
   "metadata": {},
   "source": [
    "***"
   ]
  },
  {
   "cell_type": "markdown",
   "id": "5c28788c",
   "metadata": {},
   "source": [
    "## 3. Scenario: A company wants to compare the salaries of two departments. The salary data for Department A and Department B are as follows:\n",
    "   ```\n",
    "    Department A: [5000, 6000, 5500, 7000]\n",
    "   Department B: [4500, 5500, 5800, 6000, 5200]\n",
    "   Calculate the median salary for each department.\n",
    "```\n"
   ]
  },
  {
   "cell_type": "code",
   "execution_count": 98,
   "id": "9d6b6d4b",
   "metadata": {},
   "outputs": [
    {
     "name": "stdout",
     "output_type": "stream",
     "text": [
      "Median salary for Department A: 5750.0\n",
      "Median salary for Department B: 5500\n"
     ]
    }
   ],
   "source": [
    "department_a_salaries = [5000, 6000, 5500, 7000]\n",
    "department_b_salaries = [4500, 5500, 5800, 6000, 5200]\n",
    "\n",
    "from statistics import median\n",
    "\n",
    "median_department_a = median(department_a_salaries)\n",
    "median_department_b = median(department_b_salaries)\n",
    "\n",
    "print(\"Median salary for Department A:\", median_department_a)\n",
    "print(\"Median salary for Department B:\", median_department_b)\n"
   ]
  },
  {
   "cell_type": "markdown",
   "id": "8507b9c5",
   "metadata": {},
   "source": [
    "***"
   ]
  },
  {
   "cell_type": "markdown",
   "id": "41852b7d",
   "metadata": {},
   "source": [
    "## 4. Scenario: A data analyst wants to determine the variability in the daily stock prices of a company. The data collected is as follows:\n",
    "   ```\n",
    "    [25.5, 24.8, 26.1, 25.3, 24.9]\n",
    "   Calculate the range of the stock prices.\n",
    "```\n"
   ]
  },
  {
   "cell_type": "code",
   "execution_count": 99,
   "id": "9b45429d",
   "metadata": {},
   "outputs": [
    {
     "name": "stdout",
     "output_type": "stream",
     "text": [
      "Range of stock prices: 1.3000000000000007\n"
     ]
    }
   ],
   "source": [
    "stock_prices = [25.5, 24.8, 26.1, 25.3, 24.9]\n",
    "\n",
    "stock_price_range = max(stock_prices) - min(stock_prices)\n",
    "\n",
    "print(\"Range of stock prices:\", stock_price_range)\n"
   ]
  },
  {
   "cell_type": "markdown",
   "id": "83291bfa",
   "metadata": {},
   "source": [
    "***"
   ]
  },
  {
   "cell_type": "markdown",
   "id": "c12549ef",
   "metadata": {},
   "source": [
    "## 5. Scenario: A study is conducted to compare the performance of two different teaching methods. The test scores of the students in each group are as follows:\n",
    "   ```\n",
    "    Group A: [85, 90, 92, 88, 91]\n",
    "   Group B: [82, 88, 90, 86, 87]\n",
    "   Perform a t-test to determine if there is a significant difference in the mean scores between the two groups.\n",
    "```\n"
   ]
  },
  {
   "cell_type": "code",
   "execution_count": 101,
   "id": "f1739453",
   "metadata": {},
   "outputs": [
    {
     "name": "stdout",
     "output_type": "stream",
     "text": [
      "There is no significant difference in the mean scores between the two groups.\n"
     ]
    }
   ],
   "source": [
    "group_a_scores = [85, 90, 92, 88, 91]\n",
    "group_b_scores = [82, 88, 90, 86, 87]\n",
    "\n",
    "from scipy.stats import ttest_ind\n",
    "\n",
    "t_statistic, p_value = ttest_ind(group_a_scores, group_b_scores)\n",
    "\n",
    "if p_value < 0.05:\n",
    "    print(\"There is a significant difference in the mean scores between the two groups.\")\n",
    "else:\n",
    "    print(\"There is no significant difference in the mean scores between the two groups.\")\n"
   ]
  },
  {
   "cell_type": "markdown",
   "id": "9266d1ff",
   "metadata": {},
   "source": [
    "***"
   ]
  },
  {
   "cell_type": "markdown",
   "id": "9a61d2ac",
   "metadata": {},
   "source": [
    "## 6. Scenario: A company wants to analyze the relationship between advertising expenditure and sales. The data collected is as follows:\n",
    "   ```\n",
    "    Advertising Expenditure (in thousands): [10, 15, 12, 8, 14]\n",
    "   Sales (in thousands): [25, 30, 28, 20, 26]\n",
    "   Calculate the correlation coefficient between advertising expenditure and sales.\n",
    "```"
   ]
  },
  {
   "cell_type": "code",
   "execution_count": 102,
   "id": "2d2c2d78",
   "metadata": {},
   "outputs": [
    {
     "name": "stdout",
     "output_type": "stream",
     "text": [
      "Correlation coefficient: 0.8757511375750133\n"
     ]
    }
   ],
   "source": [
    "advertising_expenditure = [10, 15, 12, 8, 14]\n",
    "sales = [25, 30, 28, 20, 26]\n",
    "\n",
    "from scipy.stats import pearsonr\n",
    "\n",
    "correlation_coefficient, p_value = pearsonr(advertising_expenditure, sales)\n",
    "\n",
    "print(\"Correlation coefficient:\", correlation_coefficient)\n"
   ]
  },
  {
   "cell_type": "markdown",
   "id": "a0126d6b",
   "metadata": {},
   "source": [
    "***"
   ]
  },
  {
   "cell_type": "markdown",
   "id": "7391509c",
   "metadata": {},
   "source": [
    "## 7. Scenario: A survey is conducted to measure the heights of a group of people. The data collected is as follows:\n",
    "   ```\n",
    "    [160, 170, 165, 155, 175, 180, 170]\n",
    "   Calculate the standard deviation of the heights.\n",
    "```\n"
   ]
  },
  {
   "cell_type": "code",
   "execution_count": 103,
   "id": "d04a321e",
   "metadata": {},
   "outputs": [
    {
     "name": "stdout",
     "output_type": "stream",
     "text": [
      "Standard deviation of heights: 8.591246929842246\n"
     ]
    }
   ],
   "source": [
    "heights = [160, 170, 165, 155, 175, 180, 170]\n",
    "\n",
    "from statistics import stdev\n",
    "\n",
    "standard_deviation = stdev(heights)\n",
    "\n",
    "print(\"Standard deviation of heights:\", standard_deviation)\n"
   ]
  },
  {
   "cell_type": "markdown",
   "id": "14b0b60a",
   "metadata": {},
   "source": [
    "***"
   ]
  },
  {
   "cell_type": "markdown",
   "id": "1ca3f95f",
   "metadata": {},
   "source": [
    "## 8. Scenario: A company wants to analyze the relationship between employee tenure and job satisfaction. The data collected is as follows:\n",
    "   ```\n",
    "    Employee Tenure (in years): [2, 3, 5, 4, 6, 2, 4]\n",
    "   Job Satisfaction (on a scale of 1 to 10): [7, 8, 6, 9, 5, 7, 6]\n",
    "   Perform a linear regression analysis to predict job satisfaction based on employee tenure.\n",
    "```\n"
   ]
  },
  {
   "cell_type": "code",
   "execution_count": 104,
   "id": "69da4a6a",
   "metadata": {},
   "outputs": [
    {
     "name": "stdout",
     "output_type": "stream",
     "text": [
      "Slope: -0.4680851063829787\n",
      "Intercept: 8.595744680851062\n",
      "R-value: -0.520573376708331\n",
      "P-value: 0.23095550952297988\n",
      "Standard error: 0.34333860006713723\n"
     ]
    }
   ],
   "source": [
    "employee_tenure = [2, 3, 5, 4, 6, 2, 4]\n",
    "job_satisfaction = [7, 8, 6, 9, 5, 7, 6]\n",
    "\n",
    "from scipy.stats import linregress\n",
    "\n",
    "slope, intercept, r_value, p_value, std_err = linregress(employee_tenure, job_satisfaction)\n",
    "\n",
    "print(\"Slope:\", slope)\n",
    "print(\"Intercept:\", intercept)\n",
    "print(\"R-value:\", r_value)\n",
    "print(\"P-value:\", p_value)\n",
    "print(\"Standard error:\", std_err)\n"
   ]
  },
  {
   "cell_type": "markdown",
   "id": "a1694880",
   "metadata": {},
   "source": [
    "****"
   ]
  },
  {
   "cell_type": "markdown",
   "id": "5ee6a9cd",
   "metadata": {},
   "source": [
    "## 9. Scenario: A study is conducted to compare the effectiveness of two different medications. The recovery times of the patients in each group are as follows:\n",
    "   ```\n",
    "    Medication A: [10, 12, 14, 11, 13]\n",
    "   Medication B: [15, 17, 16, 14, 18]\n",
    "   Perform an analysis of variance (ANOVA) to determine if there is a significant difference in the mean recovery times between the two medications.\n",
    "```\n"
   ]
  },
  {
   "cell_type": "code",
   "execution_count": 105,
   "id": "9eba4016",
   "metadata": {},
   "outputs": [
    {
     "name": "stdout",
     "output_type": "stream",
     "text": [
      "There is a significant difference in the mean recovery times between the two medications.\n"
     ]
    }
   ],
   "source": [
    "medication_a_times = [10, 12, 14, 11, 13]\n",
    "medication_b_times = [15, 17, 16, 14, 18]\n",
    "\n",
    "from scipy.stats import f_oneway\n",
    "\n",
    "f_statistic, p_value = f_oneway(medication_a_times, medication_b_times)\n",
    "\n",
    "if p_value < 0.05:\n",
    "    print(\"There is a significant difference in the mean recovery times between the two medications.\")\n",
    "else:\n",
    "    print(\"There is no significant difference in the mean recovery times between the two medications.\")\n"
   ]
  },
  {
   "cell_type": "markdown",
   "id": "bd1d1f33",
   "metadata": {},
   "source": [
    "***"
   ]
  },
  {
   "cell_type": "markdown",
   "id": "18fcbfd8",
   "metadata": {},
   "source": [
    "## 10. Scenario: A company wants to analyze customer feedback ratings on a scale of 1 to 10. The data collected is as follows:\n",
    "```\n",
    "    [8, 9, 7, 6, 8, 10, 9, 8, 7, 8]\n",
    "    Calculate the 75th percentile of the feedback ratings.\n",
    "```\n"
   ]
  },
  {
   "cell_type": "code",
   "execution_count": 106,
   "id": "1c66ab90",
   "metadata": {},
   "outputs": [
    {
     "name": "stdout",
     "output_type": "stream",
     "text": [
      "75th percentile of feedback ratings: 8.75\n"
     ]
    }
   ],
   "source": [
    "feedback_ratings = [8, 9, 7, 6, 8, 10, 9, 8, 7, 8]\n",
    "\n",
    "from numpy import percentile\n",
    "\n",
    "percentile_75th = percentile(feedback_ratings, 75)\n",
    "\n",
    "print(\"75th percentile of feedback ratings:\", percentile_75th)\n"
   ]
  },
  {
   "cell_type": "markdown",
   "id": "abedc6ab",
   "metadata": {},
   "source": [
    "***"
   ]
  },
  {
   "cell_type": "markdown",
   "id": "f00eb097",
   "metadata": {},
   "source": [
    "## 11. Scenario: A quality control department wants to test the weight consistency of a product. The weights of a sample of products are as follows:\n",
    "   ```\n",
    "    [10.2, 9.8, 10.0, 10.5, 10.3, 10.1]\n",
    "    Perform a hypothesis test to determine if the mean weight differs significantly from 10 grams.\n",
    "```\n"
   ]
  },
  {
   "cell_type": "code",
   "execution_count": 107,
   "id": "464de3c1",
   "metadata": {},
   "outputs": [
    {
     "name": "stdout",
     "output_type": "stream",
     "text": [
      "The mean weight does not differ significantly from 10 grams.\n"
     ]
    }
   ],
   "source": [
    "weights = [10.2, 9.8, 10.0, 10.5, 10.3, 10.1]\n",
    "\n",
    "from scipy.stats import ttest_1samp\n",
    "\n",
    "t_statistic, p_value = ttest_1samp(weights, 10)\n",
    "\n",
    "if p_value < 0.05:\n",
    "    print(\"The mean weight differs significantly from 10 grams.\")\n",
    "else:\n",
    "    print(\"The mean weight does not differ significantly from 10 grams.\")\n"
   ]
  },
  {
   "cell_type": "markdown",
   "id": "802846d3",
   "metadata": {},
   "source": [
    "***"
   ]
  },
  {
   "cell_type": "markdown",
   "id": "c6feea71",
   "metadata": {},
   "source": [
    "## 12. Scenario: A company wants to analyze the click-through rates of two different website designs. The number of clicks for each design is as follows:\n",
    "    ```\n",
    "    Design A: [100, 120, 110, 90, 95]\n",
    "    Design B: [80, 85, 90, 95, 100]\n",
    "    Perform a chi-square test to determine if there is a significant difference in the click-through rates between the two designs.\n",
    "```"
   ]
  },
  {
   "cell_type": "code",
   "execution_count": 108,
   "id": "ac440fc1",
   "metadata": {},
   "outputs": [
    {
     "name": "stdout",
     "output_type": "stream",
     "text": [
      "There is no significant difference in the click-through rates between the two designs.\n"
     ]
    }
   ],
   "source": [
    "design_a_clicks = [100, 120, 110, 90, 95]\n",
    "design_b_clicks = [80, 85, 90, 95, 100]\n",
    "\n",
    "from scipy.stats import chi2_contingency\n",
    "\n",
    "observed = [design_a_clicks, design_b_clicks]\n",
    "\n",
    "chi2, p_value, _, _ = chi2_contingency(observed)\n",
    "\n",
    "if p_value < 0.05:\n",
    "    print(\"There is a significant difference in the click-through rates between the two designs.\")\n",
    "else:\n",
    "    print(\"There is no significant difference in the click-through rates between the two designs.\")\n"
   ]
  },
  {
   "cell_type": "markdown",
   "id": "e7d585c4",
   "metadata": {},
   "source": [
    "***"
   ]
  },
  {
   "cell_type": "markdown",
   "id": "ff09eab2",
   "metadata": {},
   "source": [
    "## 13. Scenario: A survey is conducted to measure customer satisfaction with a product on a scale of 1 to 10. The data collected is as follows:\n",
    "    ```\n",
    "    [7, 9, 6, 8, 10, 7, 8, 9, 7, 8]\n",
    "    Calculate the 95% confidence interval for the population mean satisfaction score.\n",
    "```\n"
   ]
  },
  {
   "cell_type": "code",
   "execution_count": 109,
   "id": "30b06ff2",
   "metadata": {},
   "outputs": [
    {
     "name": "stdout",
     "output_type": "stream",
     "text": [
      "95% Confidence Interval: (7.043561120599888, 8.756438879400113)\n"
     ]
    }
   ],
   "source": [
    "import statistics\n",
    "from scipy.stats import t\n",
    "\n",
    "satisfaction_scores = [7, 9, 6, 8, 10, 7, 8, 9, 7, 8]\n",
    "\n",
    "sample_mean = statistics.mean(satisfaction_scores)\n",
    "sample_std_dev = statistics.stdev(satisfaction_scores)\n",
    "sample_size = len(satisfaction_scores)\n",
    "\n",
    "confidence_level = 0.95\n",
    "alpha = 1 - confidence_level\n",
    "\n",
    "t_value = t.ppf(1 - alpha / 2, df=sample_size - 1)\n",
    "margin_of_error = t_value * sample_std_dev / (sample_size ** 0.5)\n",
    "\n",
    "confidence_interval = (sample_mean - margin_of_error, sample_mean + margin_of_error)\n",
    "\n",
    "print(\"95% Confidence Interval:\", confidence_interval)\n"
   ]
  },
  {
   "cell_type": "markdown",
   "id": "2de4514b",
   "metadata": {},
   "source": [
    "***"
   ]
  },
  {
   "cell_type": "markdown",
   "id": "39928bf7",
   "metadata": {},
   "source": [
    "## 14. Scenario: A company wants to analyze the effect of temperature on product performance. The data collected is as follows:\n",
    "    ```\n",
    "    Temperature (in degrees Celsius): [20, 22, 23, 19, 21]\n",
    "    Performance (on a scale of 1 to 10): [8, 7, 9, 6, 8]\n",
    "    Perform a simple linear regression to predict performance based on temperature.\n",
    "```\n"
   ]
  },
  {
   "cell_type": "code",
   "execution_count": 110,
   "id": "dee63cf5",
   "metadata": {},
   "outputs": [
    {
     "name": "stdout",
     "output_type": "stream",
     "text": [
      "Slope: 0.5\n",
      "Intercept: -2.9000000000000004\n",
      "R-value: 0.6933752452815364\n",
      "P-value: 0.19417134561205843\n",
      "Standard error: 0.30000000000000004\n"
     ]
    }
   ],
   "source": [
    "import numpy as np\n",
    "from scipy.stats import linregress\n",
    "\n",
    "temperature = [20, 22, 23, 19, 21]\n",
    "performance = [8, 7, 9, 6, 8]\n",
    "\n",
    "slope, intercept, r_value, p_value, std_err = linregress(temperature, performance)\n",
    "\n",
    "print(\"Slope:\", slope)\n",
    "print(\"Intercept:\", intercept)\n",
    "print(\"R-value:\", r_value)\n",
    "print(\"P-value:\", p_value)\n",
    "print(\"Standard error:\", std_err)\n"
   ]
  },
  {
   "cell_type": "markdown",
   "id": "53a1ea31",
   "metadata": {},
   "source": [
    "***"
   ]
  },
  {
   "cell_type": "markdown",
   "id": "b6407dc7",
   "metadata": {},
   "source": [
    "## 15. Scenario: A study is conducted to compare the preferences of two groups of participants. The preferences are measured on a Likert scale from 1 to 5. The data collected is as follows:\n",
    "    ```\n",
    "    Group A: [4, 3, 5, 2, 4]\n",
    "    Group B: [3, 2, 4, 3, 3]\n",
    "    Perform a Mann-Whitney U test to determine if there is a significant difference in the median preferences between the two groups.\n",
    "```\n"
   ]
  },
  {
   "cell_type": "code",
   "execution_count": 111,
   "id": "2a421c47",
   "metadata": {},
   "outputs": [
    {
     "name": "stdout",
     "output_type": "stream",
     "text": [
      "There is no significant difference in the median preferences between the two groups.\n"
     ]
    }
   ],
   "source": [
    "from scipy.stats import mannwhitneyu\n",
    "\n",
    "group_a_preferences = [4, 3, 5, 2, 4]\n",
    "group_b_preferences = [3, 2, 4, 3, 3]\n",
    "\n",
    "statistic, p_value = mannwhitneyu(group_a_preferences, group_b_preferences)\n",
    "\n",
    "if p_value < 0.05:\n",
    "    print(\"There is a significant difference in the median preferences between the two groups.\")\n",
    "else:\n",
    "    print(\"There is no significant difference in the median preferences between the two groups.\")\n"
   ]
  },
  {
   "cell_type": "markdown",
   "id": "ae96f32e",
   "metadata": {},
   "source": [
    "***"
   ]
  },
  {
   "cell_type": "markdown",
   "id": "4f7a4959",
   "metadata": {},
   "source": [
    "## 16. Scenario: A company wants to analyze the distribution of customer ages. The data collected is as follows:\n",
    "    ```\n",
    "    [25, 30, 35, 40, 45, 50, 55, 60, 65, 70]\n",
    "    Calculate the interquartile range (IQR) of the ages.\n",
    "```\n"
   ]
  },
  {
   "cell_type": "code",
   "execution_count": 112,
   "id": "f0b842b1",
   "metadata": {},
   "outputs": [
    {
     "name": "stdout",
     "output_type": "stream",
     "text": [
      "Interquartile Range (IQR) of ages: 22.5\n"
     ]
    }
   ],
   "source": [
    "ages = [25, 30, 35, 40, 45, 50, 55, 60, 65, 70]\n",
    "\n",
    "q3, q1 = np.percentile(ages, [75, 25])\n",
    "iqr = q3 - q1\n",
    "\n",
    "print(\"Interquartile Range (IQR) of ages:\", iqr)\n"
   ]
  },
  {
   "cell_type": "markdown",
   "id": "a8f14c44",
   "metadata": {},
   "source": [
    "***"
   ]
  },
  {
   "cell_type": "markdown",
   "id": "f7f34405",
   "metadata": {},
   "source": [
    "## 17. Scenario: A study is conducted to compare the performance of three different machine learning algorithms. The accuracy scores for each algorithm are as follows:\n",
    "    ```\n",
    "    Algorithm A: [0.85, 0.80, 0.82, 0.87, 0.83]\n",
    "    Algorithm B: [0.78, 0.82, 0.84, 0.80, 0.79]\n",
    "    Algorithm C: [0.90, 0.88, 0.89, 0.86, 0.87]\n",
    "    Perform a Kruskal-Wallis test to determine if there is a significant difference in the median accuracy scores between the algorithms.\n",
    "```\n"
   ]
  },
  {
   "cell_type": "code",
   "execution_count": 113,
   "id": "cf3dfc68",
   "metadata": {},
   "outputs": [
    {
     "name": "stdout",
     "output_type": "stream",
     "text": [
      "There is a significant difference in the median accuracy scores between the algorithms.\n"
     ]
    }
   ],
   "source": [
    "from scipy.stats import kruskal\n",
    "\n",
    "algorithm_a_scores = [0.85, 0.80, 0.82, 0.87, 0.83]\n",
    "algorithm_b_scores = [0.78, 0.82, 0.84, 0.80, 0.79]\n",
    "algorithm_c_scores = [0.90, 0.88, 0.89, 0.86, 0.87]\n",
    "\n",
    "statistic, p_value = kruskal(algorithm_a_scores, algorithm_b_scores, algorithm_c_scores)\n",
    "\n",
    "if p_value < 0.05:\n",
    "    print(\"There is a significant difference in the median accuracy scores between the algorithms.\")\n",
    "else:\n",
    "    print(\"There is no significant difference in the median accuracy scores between the algorithms.\")\n"
   ]
  },
  {
   "cell_type": "markdown",
   "id": "d1b73ab4",
   "metadata": {},
   "source": [
    "***"
   ]
  },
  {
   "cell_type": "markdown",
   "id": "d285f726",
   "metadata": {},
   "source": [
    "## 18. Scenario: A company wants to analyze the effect of price on sales. The data collected is as follows:\n",
    "    ```\n",
    "    Price (in dollars): [10, 15, 12, 8, 14]\n",
    "    Sales: [100, 80, 90, 110, 95]\n",
    "    Perform a simple linear regression to predict sales based on price.\n",
    "```\n"
   ]
  },
  {
   "cell_type": "code",
   "execution_count": 114,
   "id": "3d71dfc2",
   "metadata": {},
   "outputs": [
    {
     "name": "stdout",
     "output_type": "stream",
     "text": [
      "Slope: -3.506097560975609\n",
      "Intercept: 136.3719512195122\n",
      "R-value: -0.8979991308594848\n",
      "P-value: 0.03850178234753776\n",
      "Standard error: 0.9918303504036147\n"
     ]
    }
   ],
   "source": [
    "import numpy as np\n",
    "from scipy.stats import linregress\n",
    "\n",
    "price = [10, 15, 12, 8, 14]\n",
    "sales = [100, 80, 90, 110, 95]\n",
    "\n",
    "slope, intercept, r_value, p_value, std_err = linregress(price, sales)\n",
    "\n",
    "print(\"Slope:\", slope)\n",
    "print(\"Intercept:\", intercept)\n",
    "print(\"R-value:\", r_value)\n",
    "print(\"P-value:\", p_value)\n",
    "print(\"Standard error:\", std_err)\n"
   ]
  },
  {
   "cell_type": "markdown",
   "id": "850bf021",
   "metadata": {},
   "source": [
    "***"
   ]
  },
  {
   "cell_type": "markdown",
   "id": "0005e624",
   "metadata": {},
   "source": [
    "## 19. Scenario: A survey is conducted to measure the satisfaction levels of customers with a new product. The data collected is as follows:\n",
    "    ```\n",
    "    [7, 8, 9, 6, 8, 7, 9, 7, 8, 7]\n",
    "    Calculate the standard error of the mean satisfaction score.\n",
    "```\n"
   ]
  },
  {
   "cell_type": "code",
   "execution_count": 115,
   "id": "d3f38edd",
   "metadata": {},
   "outputs": [
    {
     "name": "stdout",
     "output_type": "stream",
     "text": [
      "Standard Error of the Mean Satisfaction Score: 0.30550504633038933\n"
     ]
    }
   ],
   "source": [
    "import statistics\n",
    "\n",
    "satisfaction_scores = [7, 8, 9, 6, 8, 7, 9, 7, 8, 7]\n",
    "\n",
    "sample_size = len(satisfaction_scores)\n",
    "sample_std_dev = statistics.stdev(satisfaction_scores)\n",
    "\n",
    "standard_error = sample_std_dev / (sample_size ** 0.5)\n",
    "\n",
    "print(\"Standard Error of the Mean Satisfaction Score:\", standard_error)\n"
   ]
  },
  {
   "cell_type": "markdown",
   "id": "8efa2465",
   "metadata": {},
   "source": [
    "***"
   ]
  },
  {
   "cell_type": "markdown",
   "id": "c3ac0442",
   "metadata": {},
   "source": [
    "## 20. Scenario: A company wants to analyze the relationship between advertising expenditure and sales. The data collected is as follows:\n",
    "    ```\n",
    "    Advertising Expenditure (in thousands): [10, 15, 12, 8, 14]\n",
    "    Sales (in thousands): [25, 30, 28, 20, 26]\n",
    "    Perform a multiple regression analysis to predict sales based on advertising expenditure.\n",
    "```\n"
   ]
  },
  {
   "cell_type": "code",
   "execution_count": 117,
   "id": "1e536533",
   "metadata": {},
   "outputs": [
    {
     "name": "stdout",
     "output_type": "stream",
     "text": [
      "Slope: 1.1524390243902436\n",
      "Intercept: 12.201219512195125\n",
      "R-value: 0.8757511375750133\n",
      "P-value: 0.051583194188217135\n",
      "Standard error: 0.3667840473337744\n"
     ]
    }
   ],
   "source": [
    "import numpy as np\n",
    "from scipy.stats import linregress\n",
    "\n",
    "advertising_expenditure = [10, 15, 12, 8, 14]\n",
    "sales = [25, 30, 28, 20, 26]\n",
    "\n",
    "slope, intercept, r_value, p_value, std_err = linregress(advertising_expenditure, sales)\n",
    "\n",
    "print(\"Slope:\", slope)\n",
    "print(\"Intercept:\", intercept)\n",
    "print(\"R-value:\", r_value)\n",
    "print(\"P-value:\", p_value)\n",
    "print(\"Standard error:\", std_err)\n"
   ]
  }
 ],
 "metadata": {
  "kernelspec": {
   "display_name": "Python 3 (ipykernel)",
   "language": "python",
   "name": "python3"
  },
  "language_info": {
   "codemirror_mode": {
    "name": "ipython",
    "version": 3
   },
   "file_extension": ".py",
   "mimetype": "text/x-python",
   "name": "python",
   "nbconvert_exporter": "python",
   "pygments_lexer": "ipython3",
   "version": "3.9.5"
  }
 },
 "nbformat": 4,
 "nbformat_minor": 5
}
