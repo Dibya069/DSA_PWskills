{
 "cells": [
  {
   "cell_type": "markdown",
   "id": "468e7cf0",
   "metadata": {},
   "source": [
    "## Question 1\n",
    "Given an integer array nums of length n and an integer target, find three integers\n",
    "in nums such that the sum is closest to the target.\n",
    "Return the sum of the three integers.\n",
    "\n",
    "You may assume that each input would have exactly one solution.\n",
    "\n",
    "```\n",
    "Example 1:\n",
    "Input: nums = [-1,2,1,-4], target = 1\n",
    "Output: 2\n",
    "\n",
    "Explanation: The sum that is closest to the target is 2. (-1 + 2 + 1 = 2).\n",
    "```"
   ]
  },
  {
   "cell_type": "code",
   "execution_count": 173,
   "id": "6e893e48",
   "metadata": {},
   "outputs": [],
   "source": [
    "class Solution:\n",
    "    def threeSumClosest(self, nums, target):\n",
    "        cl = float(\"inf\")\n",
    "        nums.sort()\n",
    "\n",
    "        for i in range(len(nums) - 2):\n",
    "            l, r = i + 1, len(nums) - 1\n",
    "            while l < r:\n",
    "                s3 = nums[i] + nums[l] + nums[r]\n",
    "                print(s3)\n",
    "\n",
    "                if s3 < target:\n",
    "                    l += 1\n",
    "                else:\n",
    "                    r -= 1\n",
    "\n",
    "                if abs(s3 - target) < abs(cl - target):\n",
    "                    cl = s3\n",
    "        return cl\n",
    "    \n",
    "ans = Solution()"
   ]
  },
  {
   "cell_type": "code",
   "execution_count": 174,
   "id": "8b2b2746",
   "metadata": {},
   "outputs": [
    {
     "name": "stdout",
     "output_type": "stream",
     "text": [
      "-3\n",
      "-1\n",
      "2\n",
      "2\n"
     ]
    }
   ],
   "source": [
    "nums = [-1,2,1,-4]\n",
    "target = 1\n",
    "\n",
    "print(ans.threeSumClosest(nums, target))"
   ]
  },
  {
   "cell_type": "markdown",
   "id": "d28f3aca",
   "metadata": {},
   "source": [
    "***"
   ]
  },
  {
   "cell_type": "markdown",
   "id": "3299beb9",
   "metadata": {},
   "source": [
    "## Question 2\n",
    "Given an array nums of n integers, return an array of all the unique quadruplets\n",
    "[nums[a], nums[b], nums[c], nums[d]] such that:\n",
    "```\n",
    "           ● 0 <= a, b, c, d < n\n",
    "           ● a, b, c, and d are distinct.\n",
    "           ● nums[a] + nums[b] + nums[c] + nums[d] == target\n",
    "\n",
    "You may return the answer in any order.\n",
    "\n",
    "Example 1:\n",
    "Input: nums = [1,0,-1,0,-2,2], target = 0\n",
    "Output: [[-2,-1,1,2],[-2,0,0,2],[-1,0,0,1]]\n",
    "```"
   ]
  },
  {
   "cell_type": "code",
   "execution_count": 183,
   "id": "7bd20ab4",
   "metadata": {},
   "outputs": [],
   "source": [
    " class Solution2:\n",
    "    def fourSum(self, nums, target):\n",
    "        ans = set()\n",
    "        nums.sort()\n",
    "        for i in range(len(nums)):\n",
    "            for j in range(i+1,len(nums)):\n",
    "                k,l = j+1,len(nums)-1\n",
    "                while k<l:\n",
    "                    s = nums[i]+nums[j]+nums[k]+nums[l]\n",
    "                    if s == target:\n",
    "                        ans.add((nums[i],nums[j],nums[k],nums[l]))\n",
    "                        l-=1\n",
    "                        k+=1\n",
    "                    elif s > target:\n",
    "                        l-=1\n",
    "                    else:\n",
    "                        k+=1\n",
    "                  \n",
    "        return list(ans)\n",
    "ans2 = Solution2()"
   ]
  },
  {
   "cell_type": "code",
   "execution_count": 184,
   "id": "bcbe9807",
   "metadata": {},
   "outputs": [
    {
     "name": "stdout",
     "output_type": "stream",
     "text": [
      "[(-2, -1, 1, 2), (-1, 0, 0, 1), (-2, 0, 0, 2)]\n"
     ]
    }
   ],
   "source": [
    "nums = [1,0,-1,0,-2,2]\n",
    "target = 0\n",
    "\n",
    "print(ans2.fourSum(nums, target))"
   ]
  },
  {
   "cell_type": "markdown",
   "id": "843011fa",
   "metadata": {},
   "source": [
    "***"
   ]
  },
  {
   "cell_type": "markdown",
   "id": "f89795bf",
   "metadata": {},
   "source": [
    "<aside>\n",
    "💡 **Question 3**\n",
    "A permutation of an array of integers is an arrangement of its members into a\n",
    "sequence or linear order.\n",
    "\n",
    "For example, for arr = [1,2,3], the following are all the permutations of arr:\n",
    "[1,2,3], [1,3,2], [2, 1, 3], [2, 3, 1], [3,1,2], [3,2,1].\n",
    "\n",
    "The next permutation of an array of integers is the next lexicographically greater\n",
    "permutation of its integer. More formally, if all the permutations of the array are\n",
    "sorted in one container according to their lexicographical order, then the next\n",
    "permutation of that array is the permutation that follows it in the sorted container.\n",
    "\n",
    "If such an arrangement is not possible, the array must be rearranged as the\n",
    "lowest possible order (i.e., sorted in ascending order).\n",
    "```\n",
    "● For example, the next permutation of arr = [1,2,3] is [1,3,2].\n",
    "● Similarly, the next permutation of arr = [2,3,1] is [3,1,2].\n",
    "● While the next permutation of arr = [3,2,1] is [1,2,3] because [3,2,1] does not\n",
    "have a lexicographical larger rearrangement.\n",
    "\n",
    "Given an array of integers nums, find the next permutation of nums.\n",
    "The replacement must be in place and use only constant extra memory.\n",
    "\n",
    "**Example 1:**\n",
    "Input: nums = [1,2,3]\n",
    "Output: [1,3,2]\n",
    "```\n",
    "</aside>"
   ]
  },
  {
   "cell_type": "code",
   "execution_count": 189,
   "id": "32560319",
   "metadata": {},
   "outputs": [],
   "source": [
    "class Solution3:\n",
    "    ## \"Can't Able to solve this code\"\n",
    "            \n",
    "ans3 = Solution3()"
   ]
  },
  {
   "cell_type": "markdown",
   "id": "471fae1e",
   "metadata": {},
   "source": [
    "***"
   ]
  },
  {
   "cell_type": "markdown",
   "id": "048533b8",
   "metadata": {},
   "source": [
    "## Question 4\n",
    "Given a sorted array of distinct integers and a target value, return the index if the\n",
    "target is found. If not, return the index where it would be if it were inserted in\n",
    "order.\n",
    "\n",
    "You must write an algorithm with O(log n) runtime complexity.\n",
    "```\n",
    "Example 1:\n",
    "Input: nums = [1,3,5,6], target = 5\n",
    "Output: 2\n",
    "```"
   ]
  },
  {
   "cell_type": "code",
   "execution_count": 192,
   "id": "1589f69f",
   "metadata": {},
   "outputs": [],
   "source": [
    "class Solution4:\n",
    "    def sorte_index(self, nums, tar):\n",
    "        p1 = 0\n",
    "        p2 = len(nums) - 1\n",
    "        \n",
    "        while p1 < p2:\n",
    "            p3 = (p1 + p2) // 2\n",
    "            if nums[p3] < tar:\n",
    "                p1 = p3\n",
    "            elif nums[p3] > tar:\n",
    "                p2 = p3\n",
    "            else:\n",
    "                return p3\n",
    "            \n",
    "ans4 = Solution4()"
   ]
  },
  {
   "cell_type": "code",
   "execution_count": 193,
   "id": "acc0e9b9",
   "metadata": {},
   "outputs": [
    {
     "name": "stdout",
     "output_type": "stream",
     "text": [
      "2\n"
     ]
    }
   ],
   "source": [
    "nums = [1,3,5,6]\n",
    "tar = 5\n",
    "\n",
    "print(ans4.sorte_index(nums, tar))"
   ]
  },
  {
   "cell_type": "markdown",
   "id": "fbdb97d1",
   "metadata": {},
   "source": [
    "***"
   ]
  },
  {
   "cell_type": "markdown",
   "id": "33eabd68",
   "metadata": {},
   "source": [
    "<aside>\n",
    "💡 **Question 5**\n",
    "You are given a large integer represented as an integer array digits, where each\n",
    "digits[i] is the ith digit of the integer. The digits are ordered from most significant\n",
    "to least significant in left-to-right order. The large integer does not contain any\n",
    "leading 0's.\n",
    "\n",
    "Increment the large integer by one and return the resulting array of digits.\n",
    "\n",
    "**Example 1:**\n",
    "Input: digits = [1,2,3]\n",
    "Output: [1,2,4]\n",
    "\n",
    "**Explanation:** The array represents the integer 123.\n",
    "Incrementing by one gives 123 + 1 = 124.\n",
    "Thus, the result should be [1,2,4].\n",
    "\n",
    "</aside>"
   ]
  },
  {
   "cell_type": "code",
   "execution_count": 194,
   "id": "a1351a85",
   "metadata": {},
   "outputs": [],
   "source": [
    "class Solution5:\n",
    "    def plusOne(self, digits):\n",
    "        for i in range(len(digits) -1, -1, -1):\n",
    "            if digits[i] == 9:\n",
    "                digits[i] = 0\n",
    "                \n",
    "            else:\n",
    "                digits[i] += 1\n",
    "                return digits\n",
    "\n",
    "        digits.append(0)\n",
    "        digits[0] = 1\n",
    "        return digits\n",
    "    \n",
    "ans5 = Solution5()"
   ]
  },
  {
   "cell_type": "code",
   "execution_count": 195,
   "id": "9fb7b406",
   "metadata": {},
   "outputs": [
    {
     "name": "stdout",
     "output_type": "stream",
     "text": [
      "[1, 2, 4]\n"
     ]
    }
   ],
   "source": [
    "digits = [1,2,3] \n",
    "print(ans5.plusOne(digits))"
   ]
  },
  {
   "cell_type": "markdown",
   "id": "60c2e332",
   "metadata": {},
   "source": [
    "***"
   ]
  },
  {
   "cell_type": "markdown",
   "id": "409e07cf",
   "metadata": {},
   "source": [
    "## Question 6\n",
    "Given a non-empty array of integers nums, every element appears twice except\n",
    "for one. Find that single one.\n",
    "\n",
    "You must implement a solution with a linear runtime complexity and use only\n",
    "constant extra space.\n",
    "\n",
    "```\n",
    "Example 1:\n",
    "Input: nums = [2,2,1]\n",
    "Output: 1\n",
    "```"
   ]
  },
  {
   "cell_type": "code",
   "execution_count": 197,
   "id": "0e4a0ee8",
   "metadata": {},
   "outputs": [],
   "source": [
    "class Solution6:\n",
    "    def singleNumber(self, nums):\n",
    "        res = nums[0]\n",
    "        for i in nums[1:]:\n",
    "            res ^= i\n",
    "        return res\n",
    "    \n",
    "ans6 = Solution6()"
   ]
  },
  {
   "cell_type": "code",
   "execution_count": 198,
   "id": "a5a83f62",
   "metadata": {},
   "outputs": [
    {
     "name": "stdout",
     "output_type": "stream",
     "text": [
      "1\n"
     ]
    }
   ],
   "source": [
    "nums = [2,2,1]\n",
    "print(ans6.singleNumber(nums))"
   ]
  },
  {
   "cell_type": "markdown",
   "id": "aa83a8ef",
   "metadata": {},
   "source": [
    "***"
   ]
  },
  {
   "cell_type": "markdown",
   "id": "25db2f7b",
   "metadata": {},
   "source": [
    "## Question 7\n",
    "You are given an inclusive range [lower, upper] and a sorted unique integer array\n",
    "nums, where all elements are within the inclusive range.\n",
    "\n",
    "A number x is considered missing if x is in the range [lower, upper] and x is not in\n",
    "nums.\n",
    "\n",
    "Return the shortest sorted list of ranges that exactly covers all the missing\n",
    "numbers. That is, no element of nums is included in any of the ranges, and each\n",
    "missing number is covered by one of the ranges.\n",
    "\n",
    "```\n",
    "Example 1:\n",
    "Input: nums = [0,1,3,50,75], lower = 0, upper = 99\n",
    "Output: [[2,2],[4,49],[51,74],[76,99]]\n",
    "\n",
    "Explanation: The ranges are:\n",
    "[2,2]\n",
    "[4,49]\n",
    "[51,74]\n",
    "[76,99]\n",
    "```"
   ]
  },
  {
   "cell_type": "code",
   "execution_count": 201,
   "id": "d96d4854",
   "metadata": {},
   "outputs": [],
   "source": [
    "class Solution7:\n",
    "    def findMissingRanges(self, nums, lower, upper):\n",
    "        def f(a, b):\n",
    "            return str(a) if a == b else f'{a}->{b}'\n",
    "\n",
    "        n = len(nums)\n",
    "        if n == 0:\n",
    "            return [f(lower, upper)]\n",
    "        ans = []\n",
    "        if nums[0] > lower:\n",
    "            ans.append(f(lower, nums[0] - 1))\n",
    "        for a, b in enumerate(nums):\n",
    "            if b - a > 1:\n",
    "                ans.append(f(a + 1, b - 1))\n",
    "        if nums[-1] < upper:\n",
    "            ans.append(f(nums[-1] + 1, upper))\n",
    "        return ans\n",
    "    \n",
    "ans7 = Solution7()"
   ]
  },
  {
   "cell_type": "code",
   "execution_count": 202,
   "id": "f27f7b9d",
   "metadata": {},
   "outputs": [
    {
     "name": "stdout",
     "output_type": "stream",
     "text": [
      "['4->49', '5->74', '76->99']\n"
     ]
    }
   ],
   "source": [
    "nums = [0,1,3,50,75]\n",
    "lower = 0\n",
    "upper = 99\n",
    "\n",
    "print(ans7.findMissingRanges(nums, lower, upper))"
   ]
  },
  {
   "cell_type": "markdown",
   "id": "a4e52bdc",
   "metadata": {},
   "source": [
    "***"
   ]
  },
  {
   "cell_type": "markdown",
   "id": "1646424f",
   "metadata": {},
   "source": [
    "## Question 8\n",
    "Given an array of meeting time intervals where intervals[i] = [starti, endi],\n",
    "determine if a person could attend all meetings.\n",
    "\n",
    "```\n",
    "Example 1:\n",
    "Input: intervals = [[0,30],[5,10],[15,20]]\n",
    "Output: false\n",
    "```"
   ]
  },
  {
   "cell_type": "code",
   "execution_count": 207,
   "id": "fd2d266e",
   "metadata": {},
   "outputs": [],
   "source": [
    "class Solution8:\n",
    "    def canAttendMeetings(self, intervals):        \n",
    "        intervals.sort(key=lambda a: a[0])\n",
    "        for i in range(len(intervals)-1):\n",
    "            if intervals[i][1] > intervals[i+1][0]:\n",
    "                return False\n",
    "        return True\n",
    "    \n",
    "ans8 = Solution8()"
   ]
  },
  {
   "cell_type": "code",
   "execution_count": 208,
   "id": "456578af",
   "metadata": {},
   "outputs": [
    {
     "name": "stdout",
     "output_type": "stream",
     "text": [
      "False\n"
     ]
    }
   ],
   "source": [
    "intervals = [[0,30],[5,10],[15,20]]\n",
    "\n",
    "print(ans8.canAttendMeetings(intervals))"
   ]
  },
  {
   "cell_type": "code",
   "execution_count": null,
   "id": "588cf0c0",
   "metadata": {},
   "outputs": [],
   "source": []
  }
 ],
 "metadata": {
  "kernelspec": {
   "display_name": "Python 3 (ipykernel)",
   "language": "python",
   "name": "python3"
  },
  "language_info": {
   "codemirror_mode": {
    "name": "ipython",
    "version": 3
   },
   "file_extension": ".py",
   "mimetype": "text/x-python",
   "name": "python",
   "nbconvert_exporter": "python",
   "pygments_lexer": "ipython3",
   "version": "3.9.5"
  }
 },
 "nbformat": 4,
 "nbformat_minor": 5
}
