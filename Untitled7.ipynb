{
 "cells": [
  {
   "cell_type": "markdown",
   "id": "a81bfa0b-fdab-4749-a9f2-9acf9904df89",
   "metadata": {},
   "source": [
    "### 17. Write a function that takes a list of numbers as input and returns a new list containing only the even numbers from the input list. Use list comprehension to solve this problem.\n",
    "\n",
    "Example:\n",
    "\n",
    "Input: [1, 2, 3, 4, 5, 6, 7, 8, 9, 10]\n",
    "\n",
    "Output: [2, 4, 6, 8, 10]"
   ]
  },
  {
   "cell_type": "code",
   "execution_count": 2,
   "id": "366bd8b4",
   "metadata": {},
   "outputs": [
    {
     "name": "stdout",
     "output_type": "stream",
     "text": [
      "[2, 4, 6, 8, 10]\n"
     ]
    }
   ],
   "source": [
    "nums = [1, 2, 3, 4, 5, 6, 7, 8, 9, 10]\n",
    "\n",
    "even_n = [i for i in nums if i % 2 == 0] \n",
    "print(even_n)"
   ]
  },
  {
   "cell_type": "markdown",
   "id": "1d9270cd-0830-4164-9ff9-4de60c39310e",
   "metadata": {},
   "source": [
    "***"
   ]
  },
  {
   "cell_type": "markdown",
   "id": "4265adf7-887b-4c4d-b15a-fceecc42ac23",
   "metadata": {},
   "source": [
    "### 18. Implement a decorator function called ‘timer’ that measures the execution time of a function. The ‘timer’ decorator should print the time taken by the decorated function to execute. Use the ‘time’ module in Python to calculate the execution time.\n",
    "\n",
    "Example:\n",
    "```\n",
    "import time\n",
    "\n",
    "@timer\n",
    "def my_function():\n",
    "    # Function code goes here\n",
    "    time.sleep(2)\n",
    "\n",
    "my_function()\n",
    "\n",
    "Output:\n",
    "\"Execution time: 2.00123 seconds\"\n",
    "10 points\n",
    "```"
   ]
  },
  {
   "cell_type": "code",
   "execution_count": 3,
   "id": "9963ba0a-0878-4ba9-a46d-20d29d4dc510",
   "metadata": {},
   "outputs": [],
   "source": [
    "import time\n",
    "\n",
    "def timer(fun):\n",
    "    def wrapper(*args, **kwargs):\n",
    "        st_time = time.time()\n",
    "        res = fun(*args, **kwargs)\n",
    "        en_time = time.time()\n",
    "        \n",
    "        exe_time = en_time - st_time\n",
    "        print(f\"Execution time: {exe_time}\")\n",
    "        \n",
    "        return fun\n",
    "    return wrapper        "
   ]
  },
  {
   "cell_type": "code",
   "execution_count": 4,
   "id": "0f970dea-6dee-4445-b4f3-db9ada4d02fc",
   "metadata": {},
   "outputs": [
    {
     "name": "stdout",
     "output_type": "stream",
     "text": [
      "Execution time: 2.008197784423828\n"
     ]
    },
    {
     "data": {
      "text/plain": [
       "<function __main__.my_function()>"
      ]
     },
     "execution_count": 4,
     "metadata": {},
     "output_type": "execute_result"
    }
   ],
   "source": [
    "import time\n",
    "\n",
    "@timer\n",
    "def my_function():\n",
    "    # Function code goes here\n",
    "    time.sleep(2)\n",
    "\n",
    "my_function()"
   ]
  },
  {
   "cell_type": "markdown",
   "id": "87a6b5a0-0058-4f4a-9494-dc707b4762bf",
   "metadata": {},
   "source": [
    "***"
   ]
  },
  {
   "cell_type": "markdown",
   "id": "4537bd16-8c08-4ffc-88b8-41eeef4bc5ce",
   "metadata": {},
   "source": [
    "### 19.Write a function called ‘calculate_mean’ that takes a list of numbers as input and returns the mean (average) of the numbers. The function should calculate the mean using the sum of the numbers divided by the total count.\n",
    "\n",
    "Example:\n",
    "```\n",
    "def calculate_mean(numbers):\n",
    "    total = sum(numbers)\n",
    "    count = len(numbers)\n",
    "    mean = total / count\n",
    "    return mean\n",
    "\n",
    "data = [10, 15, 20, 25, 30]\n",
    "mean_value = calculate_mean(data)\n",
    "print(\"Mean:\", mean_value)\n",
    "\n",
    "Output: Mean: 20.0\n",
    "```"
   ]
  },
  {
   "cell_type": "code",
   "execution_count": 6,
   "id": "78da0772-e974-4291-b86c-2f7672aa17c0",
   "metadata": {},
   "outputs": [
    {
     "name": "stdout",
     "output_type": "stream",
     "text": [
      "Mean: 20.0\n"
     ]
    }
   ],
   "source": [
    "def calculate_mean(numbers):\n",
    "    \n",
    "    if not numbers:\n",
    "        return None\n",
    "    \n",
    "    total = sum(numbers)\n",
    "    count = len(numbers)\n",
    "    mean = total / count\n",
    "    return mean\n",
    "\n",
    "data = [10, 15, 20, 25, 30]\n",
    "mean_value = calculate_mean(data)\n",
    "print(\"Mean:\", mean_value)"
   ]
  },
  {
   "cell_type": "markdown",
   "id": "3f7e949b-b52d-4d45-9dd7-356a38f24d88",
   "metadata": {},
   "source": [
    "***"
   ]
  },
  {
   "cell_type": "markdown",
   "id": "2c45cec4-2399-47da-92f2-b9bbe4c90583",
   "metadata": {},
   "source": [
    "### 20. Write a function called ‘perform_hypothesis_test’ that takes two lists of numbers as input, representing two samples. The function should perform a two-sample t-test and return the p-value. Use the ‘scipy.stats’ module in Python to calculate the t-test and p-value.\n",
    "\n",
    "Example:\n",
    "```\n",
    "from scipy import stats\n",
    "\n",
    "def perform_hypothesis_test(sample1, sample2):\n",
    "    t_statistic, p_value = stats.ttest_ind(sample1, sample2)\n",
    "    return p_value\n",
    "\n",
    "sample1 = [5, 10, 15, 20, 25]\n",
    "sample2 = [10, 20, 30, 40, 50]\n",
    "p_value = perform_hypothesis_test(sample1, sample2)\n",
    "print(\"P-value:\", p_value)\n",
    "\n",
    "Output:\n",
    "P-value: 0.1064706396450037\n",
    "```"
   ]
  },
  {
   "cell_type": "code",
   "execution_count": 9,
   "id": "a90480ce-5c40-4f13-89ad-e63ea441acf0",
   "metadata": {},
   "outputs": [],
   "source": [
    "from scipy import stats\n",
    "\n",
    "def perform_hypothesis_test(l1, l2):\n",
    "    t_test, p_values = stats.ttest_ind(l1, l2)\n",
    "    return t_test, p_values"
   ]
  },
  {
   "cell_type": "code",
   "execution_count": 10,
   "id": "5a4535ed-3c12-46de-ba98-5239c9a6c1d6",
   "metadata": {},
   "outputs": [
    {
     "name": "stdout",
     "output_type": "stream",
     "text": [
      "-1.8973665961010275\n",
      "0.09434977284243756\n"
     ]
    }
   ],
   "source": [
    "s1 = [5, 10, 15, 20, 25]\n",
    "s2 = [10, 20, 30, 40, 50]\n",
    "\n",
    "test, value = perform_hypothesis_test(s1, s2)\n",
    "\n",
    "print(test)\n",
    "print(value)"
   ]
  },
  {
   "cell_type": "code",
   "execution_count": null,
   "id": "264cfa5a-315d-4396-ae80-3d619a6cf9c3",
   "metadata": {},
   "outputs": [],
   "source": []
  }
 ],
 "metadata": {
  "kernelspec": {
   "display_name": "Python 3 (ipykernel)",
   "language": "python",
   "name": "python3"
  },
  "language_info": {
   "codemirror_mode": {
    "name": "ipython",
    "version": 3
   },
   "file_extension": ".py",
   "mimetype": "text/x-python",
   "name": "python",
   "nbconvert_exporter": "python",
   "pygments_lexer": "ipython3",
   "version": "3.9.5"
  }
 },
 "nbformat": 4,
 "nbformat_minor": 5
}
