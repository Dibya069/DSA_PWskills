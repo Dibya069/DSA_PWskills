{
 "cells": [
  {
   "cell_type": "markdown",
   "id": "ade6bc0e",
   "metadata": {},
   "source": [
    "<aside>\n",
    "💡 **Question 1**\n",
    "\n",
    "Given two strings s and t, *determine if they are isomorphic*.\n",
    "\n",
    "Two strings s and t are isomorphic if the characters in s can be replaced to get t.\n",
    "\n",
    "All occurrences of a character must be replaced with another character while preserving the order of characters. No two characters may map to the same character, but a character may map to itself.\n",
    "\n",
    "**Example 1:**\n",
    "\n",
    "**Input:** s = \"egg\", t = \"add\"\n",
    "\n",
    "**Output:** true\n",
    "\n",
    "</aside>"
   ]
  },
  {
   "cell_type": "code",
   "execution_count": 109,
   "id": "1754e34f",
   "metadata": {},
   "outputs": [],
   "source": [
    "def isomorphic(str1, str2):\n",
    "    if len(str1) != len(str2):\n",
    "        return False\n",
    "    \n",
    "    charCount = dict()\n",
    "    c = \"a\"\n",
    "  \n",
    "    for i in range(len(str1)):\n",
    "        if str1[i] in charCount:\n",
    "            c = charCount[str1[i]]\n",
    "            if c != str2[i]:\n",
    "                return False\n",
    "        elif str2[i] not in charCount.values():\n",
    "            charCount[str1[i]] = str2[i]\n",
    "        else:\n",
    "            return False\n",
    "        \n",
    "    return True"
   ]
  },
  {
   "cell_type": "code",
   "execution_count": 112,
   "id": "2f949b8f",
   "metadata": {},
   "outputs": [
    {
     "name": "stdout",
     "output_type": "stream",
     "text": [
      "True\n"
     ]
    }
   ],
   "source": [
    "s = \"egg\"\n",
    "t = \"add\"\n",
    "\n",
    "print(isomorphic(s, t))"
   ]
  },
  {
   "cell_type": "markdown",
   "id": "f9a5d341",
   "metadata": {},
   "source": [
    "***"
   ]
  },
  {
   "cell_type": "markdown",
   "id": "2ea2ee39",
   "metadata": {},
   "source": [
    "<aside>\n",
    "💡 **Question 2**\n",
    "\n",
    "Given a string num which represents an integer, return true *if* num *is a **strobogrammatic number***.\n",
    "\n",
    "A **strobogrammatic number** is a number that looks the same when rotated 180 degrees (looked at upside down).\n",
    "\n",
    "**Example 1:**\n",
    "\n",
    "**Input:** num = \"69\"\n",
    "\n",
    "**Output:**\n",
    "\n",
    "true\n",
    "\n",
    "</aside>"
   ]
  },
  {
   "cell_type": "code",
   "execution_count": 113,
   "id": "b5f167d5",
   "metadata": {},
   "outputs": [],
   "source": [
    "def strobogrammatic(num):\n",
    "    strobogram_store = {\"0\":\"0\", \"1\":\"1\", \"6\":\"9\", \"9\":\"6\", \"8\":\"8\"}\n",
    "    \n",
    "    for i in range(len(num)):\n",
    "        if num[i] not in strobogram_store:\n",
    "            return False\n",
    "        \n",
    "    return True"
   ]
  },
  {
   "cell_type": "code",
   "execution_count": 115,
   "id": "69b4add6",
   "metadata": {},
   "outputs": [
    {
     "name": "stdout",
     "output_type": "stream",
     "text": [
      "True\n",
      "False\n"
     ]
    }
   ],
   "source": [
    "num1 = \"69\"\n",
    "num2 = \"87\"\n",
    "print(strobogrammatic(num1))\n",
    "print(strobogrammatic(num2))"
   ]
  },
  {
   "cell_type": "markdown",
   "id": "7b411058",
   "metadata": {},
   "source": [
    "***"
   ]
  },
  {
   "cell_type": "markdown",
   "id": "a37fc6de",
   "metadata": {},
   "source": [
    "<aside>\n",
    "💡 **Question 3**\n",
    "\n",
    "Given two non-negative integers, num1 and num2 represented as string, return *the sum of* num1 *and* num2 *as a string*.\n",
    "\n",
    "You must solve the problem without using any built-in library for handling large integers (such as BigInteger). You must also not convert the inputs to integers directly.\n",
    "\n",
    "**Example 1:**\n",
    "\n",
    "**Input:** num1 = \"11\", num2 = \"123\"\n",
    "\n",
    "**Output:**\n",
    "\n",
    "\"134\"\n",
    "\n",
    "</aside>"
   ]
  },
  {
   "cell_type": "code",
   "execution_count": 126,
   "id": "52bcfd98",
   "metadata": {},
   "outputs": [],
   "source": [
    "def string_sum(num1, num2):\n",
    "    res = \"\"\n",
    "    carr = 0\n",
    "\n",
    "    def equalLength(num1, num2):\n",
    "        if len(num1) < len(num2):\n",
    "            while len(num1) != len(num2):\n",
    "                num1 = \"0\" + num1\n",
    "        else:\n",
    "            while len(num1) != len(num2):\n",
    "                num2 = \"0\" + num2\n",
    "\n",
    "        return [num1, num2]\n",
    "\n",
    "    n1, n2 = equalLength(num1, num2)\n",
    "    ar1 = list(n1)\n",
    "    ar2 = list(n2)\n",
    "\n",
    "    while len(ar1) != 0:\n",
    "        add = int(ar1.pop()) + int(ar2.pop()) + int(carr)\n",
    "        carr = add // 10\n",
    "        res = str(add % 10) + res\n",
    "        print(res)\n",
    "\n",
    "    if carr != 0:\n",
    "        res = str(carr) + res\n",
    "    return res"
   ]
  },
  {
   "cell_type": "code",
   "execution_count": 127,
   "id": "291d7e18",
   "metadata": {},
   "outputs": [
    {
     "name": "stdout",
     "output_type": "stream",
     "text": [
      "4\n",
      "34\n",
      "134\n",
      "134\n"
     ]
    }
   ],
   "source": [
    "num1 = \"11\"\n",
    "num2 = \"123\"\n",
    "\n",
    "print(string_sum(num1, num2))"
   ]
  },
  {
   "cell_type": "markdown",
   "id": "4d2f28a0",
   "metadata": {},
   "source": [
    "***"
   ]
  },
  {
   "cell_type": "markdown",
   "id": "fbece8a5",
   "metadata": {},
   "source": [
    "<aside>\n",
    "💡 **Question 4**\n",
    "\n",
    "Given a string s, reverse the order of characters in each word within a sentence while still preserving whitespace and initial word order.\n",
    "\n",
    "**Example 1:**\n",
    "\n",
    "**Input:** s = \"Let's take LeetCode contest\"\n",
    "\n",
    "**Output:** \"s'teL ekat edoCteeL tsetnoc\"\n",
    "\n",
    "</aside>"
   ]
  },
  {
   "cell_type": "code",
   "execution_count": 154,
   "id": "586d584d",
   "metadata": {},
   "outputs": [],
   "source": [
    "def reverse_str(s):\n",
    "    s = s.split()\n",
    "    \n",
    "    \n",
    "    for i in range(len(s)):\n",
    "        w = list(s[i])\n",
    "        #print(w)\n",
    "        \n",
    "        p1 = 0\n",
    "        p2 = len(w)-1\n",
    "        \n",
    "        while p1 < p2:\n",
    "            w[p1], w[p2] = w[p2], w[p1]\n",
    "            p1 += 1\n",
    "            p2 -= 1\n",
    "        #print(w)\n",
    "        s[i] = \"\".join(w)\n",
    "        print(s[i])\n",
    "    return ' '.join(s)\n",
    "        "
   ]
  },
  {
   "cell_type": "code",
   "execution_count": 155,
   "id": "8dfe835d",
   "metadata": {},
   "outputs": [
    {
     "name": "stdout",
     "output_type": "stream",
     "text": [
      "s'teL\n",
      "ekat\n",
      "edoCteeL\n",
      "tsetnoc\n",
      "s'teL ekat edoCteeL tsetnoc\n"
     ]
    }
   ],
   "source": [
    "s = \"Let's take LeetCode contest\"\n",
    "print(reverse_str(s))"
   ]
  },
  {
   "cell_type": "markdown",
   "id": "21d5e5c7",
   "metadata": {},
   "source": [
    "***"
   ]
  },
  {
   "cell_type": "markdown",
   "id": "dc1684d1",
   "metadata": {},
   "source": [
    "<aside>\n",
    "💡 **Question 5**\n",
    "\n",
    "Given a string s and an integer k, reverse the first k characters for every 2k characters counting from the start of the string.\n",
    "\n",
    "If there are fewer than k characters left, reverse all of them. If there are less than 2k but greater than or equal to k characters, then reverse the first k characters and leave the other as original.\n",
    "\n",
    "**Example 1:**\n",
    "\n",
    "**Input:** s = \"abcdefg\", k = 2\n",
    "\n",
    "**Output:**\n",
    "\n",
    "\"bacdfeg\"\n",
    "\n",
    "</aside>"
   ]
  },
  {
   "cell_type": "code",
   "execution_count": 160,
   "id": "1c8b4687",
   "metadata": {},
   "outputs": [],
   "source": [
    "def reverseStr(s, k):\n",
    "        l = []\n",
    "\n",
    "        for i in range(len(s)):\n",
    "            if (i // k) % 2 == 0:\n",
    "                l.insert(i - i % k, s[i])\n",
    "                print(l)\n",
    "            else:\n",
    "                l.append(s[i])\n",
    "                print(l)\n",
    "\n",
    "        res = \"\"\n",
    "        for j in l:\n",
    "            res += j\n",
    "        return res"
   ]
  },
  {
   "cell_type": "code",
   "execution_count": 167,
   "id": "595d46bf",
   "metadata": {},
   "outputs": [
    {
     "name": "stdout",
     "output_type": "stream",
     "text": [
      "['a']\n",
      "['b', 'a']\n",
      "['b', 'a', 'c']\n",
      "['b', 'a', 'c', 'd']\n",
      "['b', 'a', 'c', 'd', 'e']\n",
      "['b', 'a', 'c', 'd', 'f', 'e']\n",
      "['b', 'a', 'c', 'd', 'f', 'e', 'g']\n",
      "bacdfeg\n"
     ]
    }
   ],
   "source": [
    "s = \"abcdefg\"\n",
    "k = 2\n",
    "\n",
    "print(reverseStr(s, k))"
   ]
  },
  {
   "cell_type": "markdown",
   "id": "f4362473",
   "metadata": {},
   "source": [
    "***"
   ]
  },
  {
   "cell_type": "markdown",
   "id": "fe55ffda",
   "metadata": {},
   "source": [
    "<aside>\n",
    "💡 **Question 6**\n",
    "\n",
    "Given two strings s and goal, return true *if and only if* s *can become* goal *after some number of **shifts** on* s.\n",
    "\n",
    "A **shift** on s consists of moving the leftmost character of s to the rightmost position.\n",
    "\n",
    "- For example, if s = \"abcde\", then it will be \"bcdea\" after one shift.\n",
    "\n",
    "**Example 1:**\n",
    "\n",
    "**Input:** s = \"abcde\", goal = \"cdeab\"\n",
    "\n",
    "**Output:**\n",
    "\n",
    "true\n",
    "\n",
    "</aside>"
   ]
  },
  {
   "cell_type": "code",
   "execution_count": 178,
   "id": "8d5c0e5a",
   "metadata": {},
   "outputs": [],
   "source": [
    "def shift(s, goal):\n",
    "    for i in range(len(s)):\n",
    "        s = s[1:] + s[0]\n",
    "        \n",
    "        if (s == goal):\n",
    "            return True\n",
    "    return False\n",
    "        "
   ]
  },
  {
   "cell_type": "code",
   "execution_count": 179,
   "id": "bbfd6245",
   "metadata": {},
   "outputs": [
    {
     "name": "stdout",
     "output_type": "stream",
     "text": [
      "True\n"
     ]
    }
   ],
   "source": [
    "s = \"abcde\"\n",
    "goal = \"cdeab\"\n",
    "\n",
    "print(shift(s, goal))"
   ]
  },
  {
   "cell_type": "markdown",
   "id": "38368c49",
   "metadata": {},
   "source": [
    "***"
   ]
  },
  {
   "cell_type": "markdown",
   "id": "4a3457f1",
   "metadata": {},
   "source": [
    "<aside>\n",
    "💡 **Question 7**\n",
    "\n",
    "Given two strings s and t, return true *if they are equal when both are typed into empty text editors*. '#' means a backspace character.\n",
    "\n",
    "Note that after backspacing an empty text, the text will continue empty.\n",
    "\n",
    "**Example 1:**\n",
    "\n",
    "**Input:** s = \"ab#c\", t = \"ad#c\"\n",
    "\n",
    "**Output:** true\n",
    "\n",
    "**Explanation:**\n",
    "\n",
    "Both s and t become \"ac\".\n",
    "\n",
    "</aside>"
   ]
  },
  {
   "cell_type": "code",
   "execution_count": 180,
   "id": "f220e56b",
   "metadata": {},
   "outputs": [],
   "source": [
    "def backspaceCompare(s, t):\n",
    "        t1 = []\n",
    "        t2 = []\n",
    "\n",
    "        for i in range(max(len(s), len(t))):\n",
    "            if i <= len(s) - 1:\n",
    "                if len(t1) == 0 and s[i] != '#':\n",
    "                    t1.append(s[i])\n",
    "                elif s[i] == \"#\"and len(t1) > 0:\n",
    "                    t1.pop()\n",
    "                elif s[i] != \"#\":\n",
    "                    t1.append(s[i])\n",
    "\n",
    "            if i <= len(t) - 1:\n",
    "                if len(t2) == 0 and t[i] != '#':\n",
    "                    t2.append(t[i])\n",
    "                elif t[i] == \"#\"and len(t2) > 0:\n",
    "                    t2.pop()\n",
    "                elif t[i] != \"#\":\n",
    "                    t2.append(t[i])\n",
    "\n",
    "        if \"\".join(t1) == \"\".join(t2):\n",
    "            return True\n",
    "        else:\n",
    "            return False"
   ]
  },
  {
   "cell_type": "code",
   "execution_count": 181,
   "id": "08bbbfdd",
   "metadata": {},
   "outputs": [
    {
     "name": "stdout",
     "output_type": "stream",
     "text": [
      "True\n"
     ]
    }
   ],
   "source": [
    "s = \"ab#c\"\n",
    "t = \"ad#c\"\n",
    "\n",
    "print(backspaceCompare(s, t))"
   ]
  },
  {
   "cell_type": "markdown",
   "id": "95908035",
   "metadata": {},
   "source": [
    "***"
   ]
  },
  {
   "cell_type": "markdown",
   "id": "03732486",
   "metadata": {},
   "source": [
    "Question 8\n",
    "\n",
    "You are given an array coordinates, coordinates[i] = [x, y], where [x, y] represents the coordinate of a point. Check if these points make a straight line in the XY plane.\n",
    "\n",
    "**Example 1:**\n",
    "\n",
    "![Screenshot 2023-05-29 010117.png](https://s3-us-west-2.amazonaws.com/secure.notion-static.com/012b0a97-4e4b-49b6-bc95-0531fc712978/Screenshot_2023-05-29_010117.png)\n",
    "\n",
    "**Input:** coordinates = [[1,2],[2,3],[3,4],[4,5],[5,6],[6,7]]\n",
    "\n",
    "**Output:** true"
   ]
  },
  {
   "cell_type": "code",
   "execution_count": 187,
   "id": "7d71fbdb",
   "metadata": {},
   "outputs": [],
   "source": [
    "def checkStraightLine(coordinates):\n",
    "        (x1, y1), (x2, y2) = coordinates[0], coordinates[1]\n",
    "\n",
    "        ## => (y2 - y1) / (x2 - x1) = (y3 - y1) / (x3 - x1)\n",
    "        ## => (y2 - y1) * (x3 - x1) = (y3 - y1) * (x2 - x1)\n",
    "\n",
    "        for x3, y3 in coordinates[2:]:\n",
    "            if (y2 - y1) * (x3 - x1) != (y3 - y1) * (x2 - x1):\n",
    "                return False\n",
    "            return True"
   ]
  },
  {
   "cell_type": "code",
   "execution_count": 188,
   "id": "a973111a",
   "metadata": {},
   "outputs": [
    {
     "name": "stdout",
     "output_type": "stream",
     "text": [
      "True\n"
     ]
    }
   ],
   "source": [
    "coordinates = [[1,2],[2,3],[3,4],[4,5],[5,6],[6,7]]\n",
    "\n",
    "print(checkStraightLine(coordinates))"
   ]
  },
  {
   "cell_type": "code",
   "execution_count": null,
   "id": "e222c238",
   "metadata": {},
   "outputs": [],
   "source": []
  }
 ],
 "metadata": {
  "kernelspec": {
   "display_name": "Python 3 (ipykernel)",
   "language": "python",
   "name": "python3"
  },
  "language_info": {
   "codemirror_mode": {
    "name": "ipython",
    "version": 3
   },
   "file_extension": ".py",
   "mimetype": "text/x-python",
   "name": "python",
   "nbconvert_exporter": "python",
   "pygments_lexer": "ipython3",
   "version": "3.9.5"
  }
 },
 "nbformat": 4,
 "nbformat_minor": 5
}
