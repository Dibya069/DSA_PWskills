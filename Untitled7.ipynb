{
 "cells": [
  {
   "cell_type": "markdown",
   "id": "1bb101b8",
   "metadata": {},
   "source": [
    "<aside>\n",
    "💡 **Question 1**\n",
    "Given three integer arrays arr1, arr2 and arr3 **sorted** in **strictly increasing** order, return a sorted array of **only** the integers that appeared in **all** three arrays.\n",
    "\n",
    "**Example 1:**\n",
    "\n",
    "Input: arr1 = [1,2,3,4,5], arr2 = [1,2,5,7,9], arr3 = [1,3,4,5,8]\n",
    "\n",
    "Output: [1,5]\n",
    "\n",
    "**Explanation:** Only 1 and 5 appeared in the three arrays.\n",
    "\n",
    "</aside>"
   ]
  },
  {
   "cell_type": "code",
   "execution_count": 225,
   "id": "d5bb0d9d",
   "metadata": {},
   "outputs": [],
   "source": [
    "import sys\n",
    "def tom(ar1, ar2, ar3):\n",
    "    i = j = k = 0\n",
    "    n1 = len(ar1)\n",
    "    n2 = len(ar2)\n",
    "    n3 = len(ar3)\n",
    "    \n",
    "    prev1 = prev2 = prev3 = -sys.maxsize - 1\n",
    " \n",
    "    while (i < n1 and j < n2 and k < n3):\n",
    "        while (ar1[i] == prev1 and i < n1-1):\n",
    "            i += 1\n",
    "        while (ar2[j] == prev2 and j < n2):\n",
    "            j += 1\n",
    "        while (ar3[k] == prev3 and k < n3):\n",
    "            k += 1\n",
    " \n",
    "        if (ar1[i] == ar2[j] and ar2[j] == ar3[k]):\n",
    "            print(ar1[i], end=\" \")\n",
    "            prev1 = ar1[i]\n",
    "            prev2 = ar2[j]\n",
    "            prev3 = ar3[k]\n",
    "            i += 1\n",
    "            j += 1\n",
    "            k += 1\n",
    "        elif (ar1[i] < ar2[j]):\n",
    "            prev1 = ar1[i]\n",
    "            i += 1\n",
    "        elif (ar2[j] < ar3[k]):\n",
    "            prev2 = ar2[j]\n",
    "            j += 1\n",
    "        else:\n",
    "            prev3 = ar3[k]\n",
    "            k += 1"
   ]
  },
  {
   "cell_type": "code",
   "execution_count": 226,
   "id": "e364f573",
   "metadata": {},
   "outputs": [
    {
     "name": "stdout",
     "output_type": "stream",
     "text": [
      "1 5 None\n"
     ]
    }
   ],
   "source": [
    "arr1 = [1,2,3,4,5]\n",
    "arr2 = [1,2,5,7,9] \n",
    "arr3 = [1,3,4,5,8]\n",
    "\n",
    "print(tom(arr1, arr2, arr3))"
   ]
  },
  {
   "cell_type": "markdown",
   "id": "7173ba79",
   "metadata": {},
   "source": [
    "***"
   ]
  },
  {
   "cell_type": "markdown",
   "id": "f16b670e",
   "metadata": {},
   "source": [
    "<aside>\n",
    "💡 **Question 2**\n",
    "\n",
    "Given two **0-indexed** integer arrays nums1 and nums2, return *a list* answer *of size* 2 *where:*\n",
    "\n",
    "- answer[0] *is a list of all **distinct** integers in* nums1 *which are **not** present in* nums2*.*\n",
    "- answer[1] *is a list of all **distinct** integers in* nums2 *which are **not** present in* nums1.\n",
    "\n",
    "**Note** that the integers in the lists may be returned in **any** order.\n",
    "\n",
    "**Example 1:**\n",
    "\n",
    "**Input:** nums1 = [1,2,3], nums2 = [2,4,6]\n",
    "\n",
    "**Output:** [[1,3],[4,6]]\n",
    "\n",
    "**Explanation:**\n",
    "\n",
    "For nums1, nums1[1] = 2 is present at index 0 of nums2, whereas nums1[0] = 1 and nums1[2] = 3 are not present in nums2. Therefore, answer[0] = [1,3].\n",
    "\n",
    "For nums2, nums2[0] = 2 is present at index 1 of nums1, whereas nums2[1] = 4 and nums2[2] = 6 are not present in nums2. Therefore, answer[1] = [4,6].\n",
    "\n",
    "</aside>"
   ]
  },
  {
   "cell_type": "code",
   "execution_count": 228,
   "id": "5683921b",
   "metadata": {},
   "outputs": [],
   "source": [
    "def index(n1, n2):\n",
    "    s1 = set(n1)\n",
    "    s2 = set(n2)\n",
    "    \n",
    "    res = [[], []]\n",
    "    \n",
    "    for i in s1:\n",
    "        if i not in s2:\n",
    "            res[0].append(i)\n",
    "        \n",
    "    for j in s2:\n",
    "        if j not in s1:\n",
    "            res[1].append(j)\n",
    "    return res"
   ]
  },
  {
   "cell_type": "code",
   "execution_count": 229,
   "id": "1e46bca7",
   "metadata": {},
   "outputs": [
    {
     "name": "stdout",
     "output_type": "stream",
     "text": [
      "[[1, 3], [4, 6]]\n"
     ]
    }
   ],
   "source": [
    "nums1 = [1,2,3]\n",
    "nums2 = [2,4,6]\n",
    "\n",
    "print(index(nums1, nums2))"
   ]
  },
  {
   "cell_type": "markdown",
   "id": "30298b78",
   "metadata": {},
   "source": [
    "***"
   ]
  },
  {
   "cell_type": "markdown",
   "id": "0b406b17",
   "metadata": {},
   "source": [
    "<aside>\n",
    "💡 **Question 3**\n",
    "Given a 2D integer array matrix, return *the **transpose** of* matrix.\n",
    "\n",
    "The **transpose** of a matrix is the matrix flipped over its main diagonal, switching the matrix's row and column indices.\n",
    "\n",
    "**Example 1:**\n",
    "\n",
    "Input: matrix = [[1,2,3],[4,5,6],[7,8,9]]\n",
    "\n",
    "Output: [[1,4,7],[2,5,8],[3,6,9]]\n",
    "\n",
    "</aside>"
   ]
  },
  {
   "cell_type": "code",
   "execution_count": 230,
   "id": "73382bf5",
   "metadata": {},
   "outputs": [],
   "source": [
    "def trans(mat):\n",
    "    m, n = len(mat), len(mat[0])\n",
    "    trans = []\n",
    "    \n",
    "    for i in range(n):\n",
    "        nrow = []\n",
    "        for j in range(m):\n",
    "            nrow.append(mat[j][i])\n",
    "        trans.append(nrow)\n",
    "        \n",
    "    return trans"
   ]
  },
  {
   "cell_type": "code",
   "execution_count": 231,
   "id": "1602bb16",
   "metadata": {},
   "outputs": [
    {
     "name": "stdout",
     "output_type": "stream",
     "text": [
      "[[1, 4, 7], [2, 5, 8], [3, 6, 9]]\n"
     ]
    }
   ],
   "source": [
    "matrix = [[1,2,3],[4,5,6],[7,8,9]]\n",
    "print(trans(matrix))"
   ]
  },
  {
   "cell_type": "markdown",
   "id": "5228b855",
   "metadata": {},
   "source": [
    "***"
   ]
  },
  {
   "cell_type": "markdown",
   "id": "2c9e3d8d",
   "metadata": {},
   "source": [
    "<aside>\n",
    "💡 **Question 4**\n",
    "Given an integer array nums of 2n integers, group these integers into n pairs (a1, b1), (a2, b2), ..., (an, bn) such that the sum of min(ai, bi) for all i is **maximized**. Return *the maximized sum*.\n",
    "\n",
    "**Example 1:**\n",
    "\n",
    "Input: nums = [1,4,3,2]\n",
    "\n",
    "Output: 4\n",
    "\n",
    "**Explanation:** All possible pairings (ignoring the ordering of elements) are:\n",
    "\n",
    "1. (1, 4), (2, 3) -> min(1, 4) + min(2, 3) = 1 + 2 = 3\n",
    "\n",
    "2. (1, 3), (2, 4) -> min(1, 3) + min(2, 4) = 1 + 2 = 3\n",
    "\n",
    "3. (1, 2), (3, 4) -> min(1, 2) + min(3, 4) = 1 + 3 = 4\n",
    "\n",
    "So the maximum possible sum is 4.\n",
    "\n",
    "</aside>"
   ]
  },
  {
   "cell_type": "code",
   "execution_count": 232,
   "id": "273a2de6",
   "metadata": {},
   "outputs": [],
   "source": [
    "def min_sum(nums):\n",
    "    return sum(sorted(nums)[::2])"
   ]
  },
  {
   "cell_type": "code",
   "execution_count": 233,
   "id": "ac433d56",
   "metadata": {},
   "outputs": [
    {
     "name": "stdout",
     "output_type": "stream",
     "text": [
      "4\n"
     ]
    }
   ],
   "source": [
    "nums = [1,4,3,2]\n",
    "print(min_sum(nums))"
   ]
  },
  {
   "cell_type": "markdown",
   "id": "39dd1fde",
   "metadata": {},
   "source": [
    "***"
   ]
  },
  {
   "cell_type": "markdown",
   "id": "2a94086d",
   "metadata": {},
   "source": [
    "<aside>\n",
    "💡 **Question 5**\n",
    "You have n coins and you want to build a staircase with these coins. The staircase consists of k rows where the ith row has exactly i coins. The last row of the staircase **may be** incomplete.\n",
    "\n",
    "Given the integer n, return *the number of **complete rows** of the staircase you will build*.\n",
    "\n",
    "**Example 1:**\n",
    "\n",
    "[]()\n",
    "\n",
    "![v2.jpg](https://s3-us-west-2.amazonaws.com/secure.notion-static.com/4bd91cfa-d2b1-47b3-8197-a72e8dcfff4b/v2.jpg)\n",
    "\n",
    "**Input:** n = 5\n",
    "\n",
    "**Output:** 2\n",
    "\n",
    "**Explanation:** Because the 3rd row is incomplete, we return 2.\n",
    "\n",
    "</aside>"
   ]
  },
  {
   "cell_type": "code",
   "execution_count": 236,
   "id": "fa51bb83",
   "metadata": {},
   "outputs": [],
   "source": [
    "import math\n",
    "\n",
    "def coin(n):\n",
    "    return int(math.sqrt(2 * n + 0.25) - 0.50)"
   ]
  },
  {
   "cell_type": "code",
   "execution_count": 237,
   "id": "8f7951de",
   "metadata": {},
   "outputs": [
    {
     "name": "stdout",
     "output_type": "stream",
     "text": [
      "2\n"
     ]
    }
   ],
   "source": [
    "n = 5\n",
    "print(coin(n))"
   ]
  },
  {
   "cell_type": "markdown",
   "id": "d711f6cc",
   "metadata": {},
   "source": [
    "***"
   ]
  },
  {
   "cell_type": "markdown",
   "id": "2d4f469b",
   "metadata": {},
   "source": [
    "<aside>\n",
    "💡 **Question 6**\n",
    "Given an integer array nums sorted in **non-decreasing** order, return *an array of **the squares of each number** sorted in non-decreasing order*.\n",
    "\n",
    "**Example 1:**\n",
    "\n",
    "Input: nums = [-4,-1,0,3,10]\n",
    "\n",
    "Output: [0,1,9,16,100]\n",
    "\n",
    "**Explanation:** After squaring, the array becomes [16,1,0,9,100].\n",
    "After sorting, it becomes [0,1,9,16,100]\n",
    "\n",
    "</aside>"
   ]
  },
  {
   "cell_type": "code",
   "execution_count": 240,
   "id": "1f32af1d",
   "metadata": {},
   "outputs": [],
   "source": [
    "def sq_de(nums):\n",
    "    for i, n in enumerate(nums):\n",
    "        nums[i] = n ** 2\n",
    "    return sorted(nums)"
   ]
  },
  {
   "cell_type": "code",
   "execution_count": 241,
   "id": "4c35a0a1",
   "metadata": {},
   "outputs": [
    {
     "name": "stdout",
     "output_type": "stream",
     "text": [
      "[0, 1, 9, 16, 100]\n"
     ]
    }
   ],
   "source": [
    "nums = [-4,-1,0,3,10]\n",
    "print(sq_de(nums))"
   ]
  },
  {
   "cell_type": "markdown",
   "id": "813ceccf",
   "metadata": {},
   "source": [
    "***"
   ]
  },
  {
   "cell_type": "markdown",
   "id": "41f4138f",
   "metadata": {},
   "source": [
    "<aside>\n",
    "💡 **Question 7**\n",
    "You are given an m x n matrix M initialized with all 0's and an array of operations ops, where ops[i] = [ai, bi] means M[x][y] should be incremented by one for all 0 <= x < ai and 0 <= y < bi.\n",
    "\n",
    "Count and return *the number of maximum integers in the matrix after performing all the operations*\n",
    "\n",
    "**Example 1:**\n",
    "\n",
    "![q4.jpg](https://s3-us-west-2.amazonaws.com/secure.notion-static.com/4d0890d0-7bc7-4f59-be8e-352d9f3c1c52/q4.jpg)\n",
    "\n",
    "**Input:** m = 3, n = 3, ops = [[2,2],[3,3]]\n",
    "\n",
    "**Output:** 4\n",
    "\n",
    "**Explanation:** The maximum integer in M is 2, and there are four of it in M. So return 4.\n",
    "\n",
    "</aside>"
   ]
  },
  {
   "cell_type": "code",
   "execution_count": 242,
   "id": "eb9a30fc",
   "metadata": {},
   "outputs": [],
   "source": [
    "def mxInt(m, n, ops):\n",
    "    for y, x in ops:\n",
    "        n = min(y, n)\n",
    "        m = min(x, m)\n",
    "    return m*n"
   ]
  },
  {
   "cell_type": "code",
   "execution_count": 244,
   "id": "0adca73f",
   "metadata": {},
   "outputs": [
    {
     "name": "stdout",
     "output_type": "stream",
     "text": [
      "4\n"
     ]
    }
   ],
   "source": [
    "m = 3\n",
    "n = 3\n",
    "ops = [[2,2],[3,3]]\n",
    "\n",
    "print(mxInt(m, n, ops))"
   ]
  },
  {
   "cell_type": "markdown",
   "id": "d31c7e3c",
   "metadata": {},
   "source": [
    "***"
   ]
  },
  {
   "cell_type": "markdown",
   "id": "076de0d7",
   "metadata": {},
   "source": [
    "<aside>\n",
    "💡 **Question 8**\n",
    "\n",
    "Given the array nums consisting of 2n elements in the form [x1,x2,...,xn,y1,y2,...,yn].\n",
    "\n",
    "*Return the array in the form* [x1,y1,x2,y2,...,xn,yn].\n",
    "\n",
    "**Example 1:**\n",
    "\n",
    "**Input:** nums = [2,5,1,3,4,7], n = 3\n",
    "\n",
    "**Output:** [2,3,5,4,1,7]\n",
    "\n",
    "**Explanation:** Since x1=2, x2=5, x3=1, y1=3, y2=4, y3=7 then the answer is [2,3,5,4,1,7].\n",
    "\n",
    "</aside>"
   ]
  },
  {
   "cell_type": "code",
   "execution_count": 245,
   "id": "10fbe0d3",
   "metadata": {},
   "outputs": [],
   "source": [
    "def arr2(nums, n):\n",
    "    res = []\n",
    "    for i, j in zip(nums[:n], nums[n:]):\n",
    "        res += [i, j]\n",
    "    return res"
   ]
  },
  {
   "cell_type": "code",
   "execution_count": 246,
   "id": "d13ab077",
   "metadata": {},
   "outputs": [
    {
     "name": "stdout",
     "output_type": "stream",
     "text": [
      "[2, 3, 5, 4, 1, 7]\n"
     ]
    }
   ],
   "source": [
    "nums = [2,5,1,3,4,7]\n",
    "n = 3\n",
    "\n",
    "print(arr2(nums, n))"
   ]
  },
  {
   "cell_type": "code",
   "execution_count": null,
   "id": "fe8e5bcc",
   "metadata": {},
   "outputs": [],
   "source": []
  }
 ],
 "metadata": {
  "kernelspec": {
   "display_name": "Python 3 (ipykernel)",
   "language": "python",
   "name": "python3"
  },
  "language_info": {
   "codemirror_mode": {
    "name": "ipython",
    "version": 3
   },
   "file_extension": ".py",
   "mimetype": "text/x-python",
   "name": "python",
   "nbconvert_exporter": "python",
   "pygments_lexer": "ipython3",
   "version": "3.9.5"
  }
 },
 "nbformat": 4,
 "nbformat_minor": 5
}
