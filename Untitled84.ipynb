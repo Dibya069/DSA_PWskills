{
 "cells": [
  {
   "cell_type": "markdown",
   "id": "7a5125bb",
   "metadata": {},
   "source": [
    "<aside>\n",
    "💡 **Question 1**\n",
    "\n",
    "A permutation perm of n + 1 integers of all the integers in the range [0, n] can be represented as a string s of length n where:\n",
    "\n",
    "- s[i] == 'I' if perm[i] < perm[i + 1], and\n",
    "- s[i] == 'D' if perm[i] > perm[i + 1].\n",
    "\n",
    "Given a string s, reconstruct the permutation perm and return it. If there are multiple valid permutations perm, return **any of them**.\n",
    "\n",
    "**Example 1:**\n",
    "\n",
    "**Input:** s = \"IDID\"\n",
    "\n",
    "**Output:**\n",
    "\n",
    "[0,4,1,3,2]\n",
    "\n",
    "</aside>"
   ]
  },
  {
   "cell_type": "code",
   "execution_count": 1,
   "id": "b81215a9",
   "metadata": {},
   "outputs": [],
   "source": [
    "class Solution1:\n",
    "    def diStringMatch(self, s):\n",
    "        ans=[0]*(len(s)+1)\n",
    "        count=0\n",
    "        high=len(s)\n",
    "        for i in range(len(s)):\n",
    "            if s[i]==\"I\":\n",
    "                ans[i]=count\n",
    "                count+=1\n",
    "            else:\n",
    "                ans[i]=high\n",
    "                high-=1\n",
    "        ans[-1]=count\n",
    "        return ans\n",
    "    \n",
    "ans1 = Solution1()"
   ]
  },
  {
   "cell_type": "code",
   "execution_count": 2,
   "id": "f3975207",
   "metadata": {},
   "outputs": [
    {
     "name": "stdout",
     "output_type": "stream",
     "text": [
      "[0, 4, 1, 3, 2]\n"
     ]
    }
   ],
   "source": [
    "s = \"IDID\"\n",
    "\n",
    "print(ans1.diStringMatch(s))"
   ]
  },
  {
   "cell_type": "markdown",
   "id": "9ba0fb16",
   "metadata": {},
   "source": [
    "***"
   ]
  },
  {
   "cell_type": "markdown",
   "id": "ab993f1a",
   "metadata": {},
   "source": [
    "<aside>\n",
    "💡 **Question 2**\n",
    "\n",
    "You are given an m x n integer matrix matrix with the following two properties:\n",
    "\n",
    "- Each row is sorted in non-decreasing order.\n",
    "- The first integer of each row is greater than the last integer of the previous row.\n",
    "\n",
    "Given an integer target, return true *if* target *is in* matrix *or* false *otherwise*.\n",
    "\n",
    "You must write a solution in O(log(m * n)) time complexity.\n",
    "\n",
    "**Example 1:**\n",
    "\n",
    "![Screenshot 2023-05-29 005303.png](https://s3-us-west-2.amazonaws.com/secure.notion-static.com/e4b0271f-15f0-4744-826b-18500ccfcb75/Screenshot_2023-05-29_005303.png)\n",
    "\n",
    "**Input:** matrix = [[1,3,5,7],[10,11,16,20],[23,30,34,60]], target = 3\n",
    "\n",
    "**Output:** true\n",
    "\n",
    "</aside>"
   ]
  },
  {
   "cell_type": "code",
   "execution_count": 3,
   "id": "61314ad6",
   "metadata": {},
   "outputs": [],
   "source": [
    "class Solution2:\n",
    "    def searchMatrix(self, matrix, target):\n",
    "        row,col=len(matrix),len(matrix[0])\n",
    "        left,right=0,row*col-1\n",
    "        while left<=right:\n",
    "            mid=(left+right)//2\n",
    "            num=matrix[mid//col][mid%col]\n",
    "            if num==target:\n",
    "                return True\n",
    "            if num>target:\n",
    "                right=mid-1\n",
    "            else:\n",
    "                left=mid+1\n",
    "        return False\n",
    "\n",
    "ans2 = Solution2()"
   ]
  },
  {
   "cell_type": "code",
   "execution_count": 4,
   "id": "4605ee63",
   "metadata": {},
   "outputs": [
    {
     "name": "stdout",
     "output_type": "stream",
     "text": [
      "True\n"
     ]
    }
   ],
   "source": [
    "matrix = [[1,3,5,7],[10,11,16,20],[23,30,34,60]]\n",
    "target = 3\n",
    "\n",
    "print(ans2.searchMatrix(matrix, target))"
   ]
  },
  {
   "cell_type": "markdown",
   "id": "290c7c2b",
   "metadata": {},
   "source": [
    "***"
   ]
  },
  {
   "cell_type": "markdown",
   "id": "12d16197",
   "metadata": {},
   "source": [
    "<aside>\n",
    "💡 **Question 3**\n",
    "\n",
    "Given an array of integers arr, return *true if and only if it is a valid mountain array*.\n",
    "\n",
    "Recall that arr is a mountain array if and only if:\n",
    "\n",
    "- arr.length >= 3\n",
    "- There exists some i with 0 < i < arr.length - 1 such that:\n",
    "    - arr[0] < arr[1] < ... < arr[i - 1] < arr[i]\n",
    "    - arr[i] > arr[i + 1] > ... > arr[arr.length - 1]\n",
    "\n",
    "![Screenshot 2023-05-29 005352.png](https://s3-us-west-2.amazonaws.com/secure.notion-static.com/5565e778-ac57-4ced-85a2-ccb13268bdf6/Screenshot_2023-05-29_005352.png)\n",
    "\n",
    "**Example 1:**\n",
    "\n",
    "**Input:** arr = [2,1]\n",
    "\n",
    "**Output:**\n",
    "\n",
    "false\n",
    "\n",
    "</aside>"
   ]
  },
  {
   "cell_type": "code",
   "execution_count": 5,
   "id": "a60f7363",
   "metadata": {},
   "outputs": [],
   "source": [
    "class Solution3:\n",
    "    def validMountainArray(self, A):\n",
    "        if not A:\n",
    "            return False\n",
    "        p1=0\n",
    "        p2=len(A)-1\n",
    "        peak=max(A)\n",
    "        peakAt=A.index(peak)\n",
    "        \n",
    "        if peakAt==p2 or peakAt==p1: #peak cant be first or last\n",
    "            return False\n",
    "        \n",
    "        while p1<peakAt: #making sure going up is OK\n",
    "            if A[p1] >=A[p1+1]:\n",
    "                return False\n",
    "            p1+=1 \n",
    "            \n",
    "        while p2>peakAt: #making sure going down is OK\n",
    "            if A[p2]>=A[p2-1]:\n",
    "                return False\n",
    "            p2-=1   \n",
    "            \n",
    "        return True   \n",
    "    \n",
    "ans3 = Solution3()"
   ]
  },
  {
   "cell_type": "code",
   "execution_count": 6,
   "id": "646fbf0e",
   "metadata": {},
   "outputs": [
    {
     "name": "stdout",
     "output_type": "stream",
     "text": [
      "False\n"
     ]
    }
   ],
   "source": [
    "a = [2, 1]\n",
    "\n",
    "print(ans3.validMountainArray(a))"
   ]
  },
  {
   "cell_type": "markdown",
   "id": "f7f36586",
   "metadata": {},
   "source": [
    "***"
   ]
  },
  {
   "cell_type": "markdown",
   "id": "a3013aef",
   "metadata": {},
   "source": [
    "<aside>\n",
    "💡 **Question 4**\n",
    "\n",
    "Given a binary array nums, return *the maximum length of a contiguous subarray with an equal number of* 0 *and* 1.\n",
    "\n",
    "**Example 1:**\n",
    "\n",
    "**Input:** nums = [0,1]\n",
    "\n",
    "**Output:** 2\n",
    "\n",
    "**Explanation:**\n",
    "\n",
    "[0, 1] is the longest contiguous subarray with an equal number of 0 and 1.\n",
    "\n",
    "</aside>"
   ]
  },
  {
   "cell_type": "code",
   "execution_count": 7,
   "id": "e85cc49c",
   "metadata": {},
   "outputs": [],
   "source": [
    "class Solution4:\n",
    "    def findMaxLength(self, nums):\n",
    "        partial_sum = 0\n",
    "        table = { 0: -1}\n",
    "        \n",
    "        max_length = 0\n",
    "        \n",
    "        for idx, number in enumerate( nums ):\n",
    "            if number:\n",
    "                partial_sum += 1\n",
    "            else:\n",
    "                partial_sum -= 1\n",
    "                \n",
    "            \n",
    "            if partial_sum in table:                \n",
    "                max_length = max( max_length, ( idx - table[partial_sum] ) )\n",
    "                \n",
    "            else:\n",
    "                table[ partial_sum ] = idx\n",
    "                \n",
    "        return max_length\n",
    "    \n",
    "ans4 = Solution4()"
   ]
  },
  {
   "cell_type": "code",
   "execution_count": 8,
   "id": "67dc8271",
   "metadata": {},
   "outputs": [
    {
     "name": "stdout",
     "output_type": "stream",
     "text": [
      "2\n"
     ]
    }
   ],
   "source": [
    "nums = [0, 1]\n",
    "print(ans4.findMaxLength(nums))"
   ]
  },
  {
   "cell_type": "markdown",
   "id": "e9f670b2",
   "metadata": {},
   "source": [
    "***"
   ]
  },
  {
   "cell_type": "markdown",
   "id": "ebcbaac0",
   "metadata": {},
   "source": [
    "<aside>\n",
    "💡 **Question 5**\n",
    "\n",
    "The **product sum** of two equal-length arrays a and b is equal to the sum of a[i] * b[i] for all 0 <= i < a.length (**0-indexed**).\n",
    "\n",
    "- For example, if a = [1,2,3,4] and b = [5,2,3,1], the **product sum** would be 1*5 + 2*2 + 3*3 + 4*1 = 22.\n",
    "\n",
    "Given two arrays nums1 and nums2 of length n, return *the **minimum product sum** if you are allowed to **rearrange** the **order** of the elements in* nums1.\n",
    "\n",
    "**Example 1:**\n",
    "\n",
    "**Input:** nums1 = [5,3,4,2], nums2 = [4,2,2,5]\n",
    "\n",
    "**Output:** 40\n",
    "\n",
    "**Explanation:**\n",
    "\n",
    "We can rearrange nums1 to become [3,5,4,2]. The product sum of [3,5,4,2] and [4,2,2,5] is 3*4 + 5*2 + 4*2 + 2*5 = 40.\n",
    "\n",
    "</aside>"
   ]
  },
  {
   "cell_type": "code",
   "execution_count": 9,
   "id": "15d75994",
   "metadata": {},
   "outputs": [],
   "source": [
    "class Solution5:\n",
    "    def minProductSum(self, nums1, nums2):\n",
    "        nums1.sort()\n",
    "        nums2.sort()\n",
    "        n, res = len(nums1), 0\n",
    "        for i in range(n):\n",
    "            res += nums1[i] * nums2[n - i - 1]\n",
    "        return res\n",
    "    \n",
    "ans5 = Solution5()"
   ]
  },
  {
   "cell_type": "code",
   "execution_count": 10,
   "id": "8b950c3d",
   "metadata": {},
   "outputs": [
    {
     "name": "stdout",
     "output_type": "stream",
     "text": [
      "40\n"
     ]
    }
   ],
   "source": [
    "nums1 = [5,3,4,2]\n",
    "nums2 = [4,2,2,5]\n",
    "\n",
    "print(ans5.minProductSum(nums1, nums2))"
   ]
  },
  {
   "cell_type": "markdown",
   "id": "4906144a",
   "metadata": {},
   "source": [
    "***"
   ]
  },
  {
   "cell_type": "markdown",
   "id": "0fa4f44c",
   "metadata": {},
   "source": [
    "<aside>\n",
    "💡 **Question 6**\n",
    "\n",
    "An integer array original is transformed into a **doubled** array changed by appending **twice the value** of every element in original, and then randomly **shuffling** the resulting array.\n",
    "\n",
    "Given an array changed, return original *if* changed *is a **doubled** array. If* changed *is not a **doubled** array, return an empty array. The elements in* original *may be returned in **any** order*.\n",
    "\n",
    "**Example 1:**\n",
    "\n",
    "**Input:** changed = [1,3,4,2,6,8]\n",
    "\n",
    "**Output:** [1,3,4]\n",
    "\n",
    "**Explanation:** One possible original array could be [1,3,4]:\n",
    "\n",
    "- Twice the value of 1 is 1 * 2 = 2.\n",
    "- Twice the value of 3 is 3 * 2 = 6.\n",
    "- Twice the value of 4 is 4 * 2 = 8.\n",
    "\n",
    "Other original arrays could be [4,3,1] or [3,1,4].\n",
    "\n",
    "</aside>"
   ]
  },
  {
   "cell_type": "code",
   "execution_count": 16,
   "id": "d3276df8",
   "metadata": {},
   "outputs": [],
   "source": [
    "from collections import Counter\n",
    "class Solution6:\n",
    "    def findOriginalArray(self, changed):\n",
    "        cnt, ans = Counter(changed), []\n",
    "        if len(changed) % 2: return []\n",
    "        for x in sorted(cnt.keys()):\n",
    "            if cnt[x] > cnt[x * 2]: return []\n",
    "            if x == 0:\n",
    "                if cnt[x] % 2:\n",
    "                    return []\n",
    "                else: \n",
    "                    ans += [0] * (cnt[x] // 2)\n",
    "            else:\n",
    "                ans += [x] * cnt[x]\n",
    "            cnt[2 * x] -= cnt[x]\n",
    "        return ans\n",
    "    \n",
    "ans6 = Solution6()"
   ]
  },
  {
   "cell_type": "code",
   "execution_count": 17,
   "id": "742486e0",
   "metadata": {},
   "outputs": [
    {
     "name": "stdout",
     "output_type": "stream",
     "text": [
      "[1, 3, 4]\n"
     ]
    }
   ],
   "source": [
    "changed = [1,3,4,2,6,8]\n",
    "print(ans6.findOriginalArray(changed))"
   ]
  },
  {
   "cell_type": "markdown",
   "id": "4cc9777b",
   "metadata": {},
   "source": [
    "***"
   ]
  },
  {
   "cell_type": "markdown",
   "id": "2e8f2ee8",
   "metadata": {},
   "source": [
    "<aside>\n",
    "💡 **Question 7**\n",
    "\n",
    "Given a positive integer n, generate an n x n matrix filled with elements from 1 to n2 in spiral order.\n",
    "\n",
    "**Example 1:**\n",
    "\n",
    "![Screenshot 2023-05-29 005522.png](https://s3-us-west-2.amazonaws.com/secure.notion-static.com/00c8517f-7682-4e0b-bdd9-ce0e087f3f94/Screenshot_2023-05-29_005522.png)\n",
    "\n",
    "\n",
    "**Input:** n = 3\n",
    "\n",
    "**Output:** [[1,2,3],[8,9,4],[7,6,5]]\n",
    "\n",
    "</aside>"
   ]
  },
  {
   "cell_type": "code",
   "execution_count": 18,
   "id": "cbc43a02",
   "metadata": {},
   "outputs": [],
   "source": [
    "class Solution7:\n",
    "    def generateMatrix(self, n):\n",
    "        if not n:\n",
    "            return []\n",
    "        matrix = [[0 for _ in range(n)] for _ in range(n)]\n",
    "        left, right, top, bottom, num = 0, n-1, 0, n-1, 1\n",
    "        while left <= right and top <= bottom:\n",
    "            for i in range(left, right+1):\n",
    "                matrix[top][i] = num \n",
    "                num += 1\n",
    "            top += 1\n",
    "            for i in range(top, bottom+1):\n",
    "                matrix[i][right] = num\n",
    "                num += 1\n",
    "            right -= 1\n",
    "            if top <= bottom:\n",
    "                for i in range(right, left-1, -1):\n",
    "                    matrix[bottom][i] = num\n",
    "                    num += 1\n",
    "                bottom -= 1\n",
    "            if left <= right:\n",
    "                for i in range(bottom, top-1, -1):\n",
    "                    matrix[i][left] = num\n",
    "                    num += 1\n",
    "                left += 1\n",
    "        return matrix\n",
    "    \n",
    "ans7 = Solution7()"
   ]
  },
  {
   "cell_type": "code",
   "execution_count": 19,
   "id": "d8380375",
   "metadata": {},
   "outputs": [
    {
     "name": "stdout",
     "output_type": "stream",
     "text": [
      "[[1, 2, 3], [8, 9, 4], [7, 6, 5]]\n"
     ]
    }
   ],
   "source": [
    "n = 3\n",
    "\n",
    "print(ans7.generateMatrix(n))"
   ]
  },
  {
   "cell_type": "markdown",
   "id": "6e507d87",
   "metadata": {},
   "source": [
    "***"
   ]
  },
  {
   "cell_type": "markdown",
   "id": "3944eff3",
   "metadata": {},
   "source": [
    "<aside>\n",
    "💡 **Question 8**\n",
    "\n",
    "Given two [sparse matrices](https://en.wikipedia.org/wiki/Sparse_matrix) mat1 of size m x k and mat2 of size k x n, return the result of mat1 x mat2. You may assume that multiplication is always possible.\n",
    "\n",
    "**Example 1:**\n",
    "\n",
    "![Screenshot 2023-05-29 005557.png](https://s3-us-west-2.amazonaws.com/secure.notion-static.com/df57e793-12bf-4104-a17b-4e6a88dc7955/Screenshot_2023-05-29_005557.png)\n",
    "\n",
    "\n",
    "**Input:** mat1 = [[1,0,0],[-1,0,3]], mat2 = [[7,0,0],[0,0,0],[0,0,1]]\n",
    "\n",
    "**Output:**\n",
    "\n",
    "[[7,0,0],[-7,0,3]]\n",
    "\n",
    "</aside>"
   ]
  },
  {
   "cell_type": "code",
   "execution_count": 20,
   "id": "9ebb39ff",
   "metadata": {},
   "outputs": [],
   "source": [
    "class Solution8:\n",
    "    def productofSparematrix(self, mat1, mat2):\n",
    "        r1, c1, c2 = len(mat1), len(mat1[0]), len(mat2[0])\n",
    "        res = [[0] * c2 for _ in range(r1)]\n",
    "        for i in range(r1):\n",
    "            for j in range(c2):\n",
    "                for k in range(c1):\n",
    "                    res[i][j] += mat1[i][k] * mat2[k][j]\n",
    "        return res\n",
    "    \n",
    "ans8 = Solution8()"
   ]
  },
  {
   "cell_type": "code",
   "execution_count": null,
   "id": "6609c1a8",
   "metadata": {},
   "outputs": [],
   "source": []
  },
  {
   "cell_type": "code",
   "execution_count": null,
   "id": "4886d806",
   "metadata": {},
   "outputs": [],
   "source": []
  }
 ],
 "metadata": {
  "kernelspec": {
   "display_name": "Python 3 (ipykernel)",
   "language": "python",
   "name": "python3"
  },
  "language_info": {
   "codemirror_mode": {
    "name": "ipython",
    "version": 3
   },
   "file_extension": ".py",
   "mimetype": "text/x-python",
   "name": "python",
   "nbconvert_exporter": "python",
   "pygments_lexer": "ipython3",
   "version": "3.9.5"
  }
 },
 "nbformat": 4,
 "nbformat_minor": 5
}
