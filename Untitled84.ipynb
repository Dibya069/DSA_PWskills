{
 "cells": [
  {
   "cell_type": "markdown",
   "id": "181f1b84",
   "metadata": {},
   "source": [
    "<aside>\n",
    "💡 **Question 1**\n",
    "\n",
    "Given two strings s1 and s2, return *the lowest **ASCII** sum of deleted characters to make two strings equal*.\n",
    "\n",
    "**Example 1:**\n",
    "\n",
    "**Input:** s1 = \"sea\", s2 = \"eat\"\n",
    "\n",
    "**Output:** 231\n",
    "\n",
    "**Explanation:** Deleting \"s\" from \"sea\" adds the ASCII value of \"s\" (115) to the sum.\n",
    "\n",
    "Deleting \"t\" from \"eat\" adds 116 to the sum.\n",
    "\n",
    "At the end, both strings are equal, and 115 + 116 = 231 is the minimum sum possible to achieve this.\n",
    "\n",
    "</aside>"
   ]
  },
  {
   "cell_type": "code",
   "execution_count": 21,
   "id": "709b270d",
   "metadata": {},
   "outputs": [],
   "source": [
    "def ascii_code(s1, s2):\n",
    "    rows = len(s1)\n",
    "    cols = len(s2)\n",
    "\n",
    "    dp = [[0] * (cols + 1) for _ in range(rows + 1)]\n",
    "\n",
    "    for i in range(1, rows + 1):\n",
    "        dp[i][0] = dp[i - 1][0] + ord(s1[i - 1])\n",
    "\n",
    "    for j in range(1, cols + 1):\n",
    "        dp[0][j] = dp[0][j - 1] + ord(s2[j - 1])\n",
    "\n",
    "    for i in range(1, rows + 1):\n",
    "        for j in range(1, cols + 1):\n",
    "            if s1[i - 1] == s2[j - 1]:\n",
    "                dp[i][j] = dp[i - 1][j - 1]\n",
    "            else:\n",
    "                dp[i][j] = min(ord(s1[i - 1]) + dp[i - 1][j], ord(s2[j - 1]) + dp[i][j - 1])\n",
    "\n",
    "    return dp[-1][-1]"
   ]
  },
  {
   "cell_type": "code",
   "execution_count": 22,
   "id": "8a6764b5",
   "metadata": {},
   "outputs": [
    {
     "name": "stdout",
     "output_type": "stream",
     "text": [
      "231\n"
     ]
    }
   ],
   "source": [
    "s1 = \"sea\"\n",
    "s2 = \"eat\"\n",
    "print(ascii_code(s1, s2))"
   ]
  },
  {
   "cell_type": "markdown",
   "id": "5e37ef86",
   "metadata": {},
   "source": [
    "***"
   ]
  },
  {
   "cell_type": "markdown",
   "id": "c892726d",
   "metadata": {},
   "source": [
    "<aside>\n",
    "💡 **Question 2**\n",
    "\n",
    "Given a string s containing only three types of characters: '(', ')' and '*', return true *if* s *is **valid***.\n",
    "\n",
    "The following rules define a **valid** string:\n",
    "\n",
    "- Any left parenthesis '(' must have a corresponding right parenthesis ')'.\n",
    "- Any right parenthesis ')' must have a corresponding left parenthesis '('.\n",
    "- Left parenthesis '(' must go before the corresponding right parenthesis ')'.\n",
    "- '*' could be treated as a single right parenthesis ')' or a single left parenthesis '(' or an empty string \"\".\n",
    "\n",
    "**Example 1:**\n",
    "\n",
    "**Input:** s = \"()\"\n",
    "\n",
    "**Output:**\n",
    "\n",
    "true\n",
    "\n",
    "</aside>"
   ]
  },
  {
   "cell_type": "code",
   "execution_count": 23,
   "id": "e97270a4",
   "metadata": {},
   "outputs": [],
   "source": [
    "def braces(s):    \n",
    "    st=[]\n",
    "    sr=[]\n",
    "    for i in range(len(s)):\n",
    "        if s[i]=='(':\n",
    "            st.append(i)\n",
    "        elif s[i]== '*':\n",
    "            sr.append(i)\n",
    "        else:\n",
    "            if st:\n",
    "                st.pop()\n",
    "            elif sr:\n",
    "                sr.pop()\n",
    "            else:\n",
    "                return False\n",
    "    while st:\n",
    "        if len(sr)==0:\n",
    "            return False\n",
    "        elif st[-1]< sr[-1]:\n",
    "            st.pop()\n",
    "            sr.pop()\n",
    "        else:\n",
    "            return False\n",
    "    return True\n"
   ]
  },
  {
   "cell_type": "code",
   "execution_count": 24,
   "id": "8463a502",
   "metadata": {},
   "outputs": [
    {
     "name": "stdout",
     "output_type": "stream",
     "text": [
      "True\n"
     ]
    }
   ],
   "source": [
    "s = \"(*)\"\n",
    "print(braces(s))"
   ]
  },
  {
   "cell_type": "markdown",
   "id": "6cb4ec00",
   "metadata": {},
   "source": [
    "***"
   ]
  },
  {
   "cell_type": "markdown",
   "id": "60732607",
   "metadata": {},
   "source": [
    "Question 3\n",
    "\n",
    "Given two strings word1 and word2, return *the minimum number of **steps** required to make* word1 *and* word2 *the same*.\n",
    "\n",
    "In one **step**, you can delete exactly one character in either string.\n",
    "\n",
    "**Example 1:**\n",
    "\n",
    "**Input:** word1 = \"sea\", word2 = \"eat\"\n",
    "\n",
    "**Output:** 2\n",
    "\n",
    "**Explanation:** You need one step to make \"sea\" to \"ea\" and another step to make \"eat\" to \"ea\"."
   ]
  },
  {
   "cell_type": "code",
   "execution_count": 1,
   "id": "15bb337e",
   "metadata": {},
   "outputs": [],
   "source": [
    "class Solution3:\n",
    "    def minDistance(self, word1, word2):\n",
    "        m=len(word1)\n",
    "        n=len(word2)\n",
    "        dp=[]\n",
    "        for i in range (m+1):\n",
    "            dp.append([0]*(n+1))\n",
    "        for i in range (m+1):\n",
    "            dp[i][0]=i\n",
    "        for i in range (n+1):\n",
    "            dp[0][i]=i\n",
    "        for i in range (1,m+1):\n",
    "            for j in range (1,n+1):\n",
    "                if word1[i-1]==word2[j-1]:\n",
    "                    dp[i][j]=dp[i-1][j-1]\n",
    "                else:\n",
    "                    dp[i][j]=min(dp[i][j-1],dp[i-1][j])+1\n",
    "        return dp[-1][-1]\n",
    "    \n",
    "    \n",
    "ans3 = Solution3()"
   ]
  },
  {
   "cell_type": "code",
   "execution_count": 2,
   "id": "0b379a54",
   "metadata": {},
   "outputs": [
    {
     "name": "stdout",
     "output_type": "stream",
     "text": [
      "2\n"
     ]
    }
   ],
   "source": [
    "word1 = \"sea\"\n",
    "word2 = \"eat\"\n",
    "\n",
    "print(ans3.minDistance(word1, word2))"
   ]
  },
  {
   "cell_type": "markdown",
   "id": "66dada01",
   "metadata": {},
   "source": [
    "***"
   ]
  },
  {
   "cell_type": "markdown",
   "id": "e18452b2",
   "metadata": {},
   "source": [
    "<aside>\n",
    "💡 **Question 4**\n",
    "\n",
    "You need to construct a binary tree from a string consisting of parenthesis and integers.\n",
    "\n",
    "The whole input represents a binary tree. It contains an integer followed by zero, one or two pairs of parenthesis. The integer represents the root's value and a pair of parenthesis contains a child binary tree with the same structure.\n",
    "You always start to construct the **left** child node of the parent first if it exists.\n",
    "\n",
    "![Screenshot 2023-05-29 010548.png](https://s3-us-west-2.amazonaws.com/secure.notion-static.com/bdbea2d1-34a4-4c4b-a450-ea6db7410c43/Screenshot_2023-05-29_010548.png)\n",
    "\n",
    "**Input:** s = \"4(2(3)(1))(6(5))\"\n",
    "\n",
    "**Output:** [4,2,6,3,1,5]\n",
    "\n",
    "</aside>"
   ]
  },
  {
   "cell_type": "code",
   "execution_count": 45,
   "id": "bd5864d6",
   "metadata": {},
   "outputs": [
    {
     "data": {
      "text/plain": [
       "\"Can't able to do it...\""
      ]
     },
     "execution_count": 45,
     "metadata": {},
     "output_type": "execute_result"
    }
   ],
   "source": [
    "\"Can't able to do it...\""
   ]
  },
  {
   "cell_type": "markdown",
   "id": "64fdcd59",
   "metadata": {},
   "source": [
    "***"
   ]
  },
  {
   "cell_type": "markdown",
   "id": "2b00165d",
   "metadata": {},
   "source": [
    "<aside>\n",
    "💡 **Question 5**\n",
    "\n",
    "Given an array of characters chars, compress it using the following algorithm:\n",
    "\n",
    "Begin with an empty string s. For each group of **consecutive repeating characters** in chars:\n",
    "\n",
    "- If the group's length is 1, append the character to s.\n",
    "- Otherwise, append the character followed by the group's length.\n",
    "\n",
    "The compressed string s **should not be returned separately**, but instead, be stored **in the input character array chars**. Note that group lengths that are 10 or longer will be split into multiple characters in chars.\n",
    "\n",
    "After you are done **modifying the input array,** return *the new length of the array*.\n",
    "\n",
    "You must write an algorithm that uses only constant extra space.\n",
    "\n",
    "**Example 1:**\n",
    "\n",
    "**Input:** chars = [\"a\",\"a\",\"b\",\"b\",\"c\",\"c\",\"c\"]\n",
    "\n",
    "**Output:** Return 6, and the first 6 characters of the input array should be: [\"a\",\"2\",\"b\",\"2\",\"c\",\"3\"]\n",
    "\n",
    "**Explanation:**\n",
    "\n",
    "The groups are \"aa\", \"bb\", and \"ccc\". This compresses to \"a2b2c3\".\n",
    "\n",
    "</aside>"
   ]
  },
  {
   "cell_type": "code",
   "execution_count": 35,
   "id": "a20398dc",
   "metadata": {},
   "outputs": [],
   "source": [
    "class Solution5:\n",
    "    def compress(self, chars):\n",
    "        d=[]\n",
    "        c=1\n",
    "        for i in range(1,len(chars)):\n",
    "            if chars[i]==chars[i-1]:\n",
    "                c+=1\n",
    "            else:\n",
    "                d.append([chars[i-1],c])\n",
    "                c=1\n",
    "        d.append([chars[-1],c]) \n",
    "        i=0\n",
    "        for k,v in d:\n",
    "            chars[i]=k\n",
    "            i+=1\n",
    "            if v>1:\n",
    "                for item in str(v):\n",
    "                    chars[i]=str(item)\n",
    "                    i+=1\n",
    "        return i\n",
    "    \n",
    "ans5 = Solution5()"
   ]
  },
  {
   "cell_type": "code",
   "execution_count": 36,
   "id": "a9e832a4",
   "metadata": {},
   "outputs": [
    {
     "name": "stdout",
     "output_type": "stream",
     "text": [
      "6\n"
     ]
    }
   ],
   "source": [
    "chars = [\"a\",\"a\",\"b\",\"b\",\"c\",\"c\",\"c\"]\n",
    "\n",
    "print(ans5.compress(chars))"
   ]
  },
  {
   "cell_type": "markdown",
   "id": "0ed103a5",
   "metadata": {},
   "source": [
    "***"
   ]
  },
  {
   "cell_type": "markdown",
   "id": "a9af2986",
   "metadata": {},
   "source": [
    "<aside>\n",
    "💡 **Question 6**\n",
    "\n",
    "Given two strings s and p, return *an array of all the start indices of* p*'s anagrams in* s. You may return the answer in **any order**.\n",
    "\n",
    "An **Anagram** is a word or phrase formed by rearranging the letters of a different word or phrase, typically using all the original letters exactly once.\n",
    "\n",
    "**Example 1:**\n",
    "\n",
    "**Input:** s = \"cbaebabacd\", p = \"abc\"\n",
    "\n",
    "**Output:** [0,6]\n",
    "\n",
    "**Explanation:**\n",
    "\n",
    "The substring with start index = 0 is \"cba\", which is an anagram of \"abc\".\n",
    "\n",
    "The substring with start index = 6 is \"bac\", which is an anagram of \"abc\".\n",
    "\n",
    "</aside>"
   ]
  },
  {
   "cell_type": "code",
   "execution_count": 38,
   "id": "d8c7b9e3",
   "metadata": {},
   "outputs": [],
   "source": [
    "class Solution6:\n",
    "    def findAnagrams(self, s, p):\n",
    "        res = []\n",
    "        p = sorted(p)\n",
    "        for i in range(len(s) - len(p) + 1):\n",
    "            if p == sorted(s[i:i+len(p)]):\n",
    "                res.append(i)\n",
    "        return res\n",
    "    \n",
    "ans6 = Solution6()"
   ]
  },
  {
   "cell_type": "code",
   "execution_count": 39,
   "id": "ec5a9772",
   "metadata": {},
   "outputs": [
    {
     "name": "stdout",
     "output_type": "stream",
     "text": [
      "[0, 6]\n"
     ]
    }
   ],
   "source": [
    "s = \"cbaebabacd\"\n",
    "p = \"abc\"\n",
    "\n",
    "print(ans6.findAnagrams(s, p))"
   ]
  },
  {
   "cell_type": "markdown",
   "id": "df195830",
   "metadata": {},
   "source": [
    "***"
   ]
  },
  {
   "cell_type": "markdown",
   "id": "3d761c91",
   "metadata": {},
   "source": [
    "<aside>\n",
    "💡 **Question 7**\n",
    "\n",
    "Given an encoded string, return its decoded string.\n",
    "\n",
    "The encoding rule is: k[encoded_string], where the encoded_string inside the square brackets is being repeated exactly k times. Note that k is guaranteed to be a positive integer.\n",
    "\n",
    "You may assume that the input string is always valid; there are no extra white spaces, square brackets are well-formed, etc. Furthermore, you may assume that the original data does not contain any digits and that digits are only for those repeat numbers, k. For example, there will not be input like 3a or 2[4].\n",
    "\n",
    "The test cases are generated so that the length of the output will never exceed 105.\n",
    "\n",
    "**Example 1:**\n",
    "\n",
    "**Input:** s = \"3[a]2[bc]\"\n",
    "\n",
    "**Output:** \"aaabcbc\"\n",
    "\n",
    "</aside>"
   ]
  },
  {
   "cell_type": "code",
   "execution_count": 41,
   "id": "eedee11a",
   "metadata": {},
   "outputs": [],
   "source": [
    "class Solution7:\n",
    "    def decodeString(self, s):\n",
    "        nums = \"0123456789\"\n",
    "        stack = []\n",
    "        for char in s:\n",
    "            #print(stack)\n",
    "            if char == ']':\n",
    "                temp_s = ''\n",
    "                num=''\n",
    "                while stack[-1] != '[':\n",
    "                    temp_s = stack.pop()+temp_s\n",
    "                stack.pop()\n",
    "                while stack and stack[-1] in nums:\n",
    "                    num+= stack.pop()\n",
    "                num = int(num[::-1])\n",
    "                while num:\n",
    "                    stack.append(temp_s)\n",
    "                    num-=1\n",
    "            else:\n",
    "                stack.append(char)\n",
    "        l = \"\".join(map(str,stack))\n",
    "        return l\n",
    "    \n",
    "ans7 = Solution7()"
   ]
  },
  {
   "cell_type": "code",
   "execution_count": 42,
   "id": "9efa9c9c",
   "metadata": {},
   "outputs": [
    {
     "name": "stdout",
     "output_type": "stream",
     "text": [
      "aaabcbc\n"
     ]
    }
   ],
   "source": [
    " s = \"3[a]2[bc]\"\n",
    "    \n",
    "print(ans7.decodeString(s))"
   ]
  },
  {
   "cell_type": "markdown",
   "id": "ffd18ddc",
   "metadata": {},
   "source": [
    "***"
   ]
  },
  {
   "cell_type": "markdown",
   "id": "b9c95b7e",
   "metadata": {},
   "source": [
    "<aside>\n",
    "💡 **Question 8**\n",
    "\n",
    "Given two strings s and goal, return true *if you can swap two letters in* s *so the result is equal to* goal*, otherwise, return* false*.*\n",
    "\n",
    "Swapping letters is defined as taking two indices i and j (0-indexed) such that i != j and swapping the characters at s[i] and s[j].\n",
    "\n",
    "- For example, swapping at indices 0 and 2 in \"abcd\" results in \"cbad\".\n",
    "\n",
    "**Example 1:**\n",
    "\n",
    "**Input:** s = \"ab\", goal = \"ba\"\n",
    "\n",
    "**Output:** true\n",
    "\n",
    "**Explanation:** You can swap s[0] = 'a' and s[1] = 'b' to get \"ba\", which is equal to goal.\n",
    "\n",
    "</aside>"
   ]
  },
  {
   "cell_type": "code",
   "execution_count": 43,
   "id": "29463dba",
   "metadata": {},
   "outputs": [],
   "source": [
    "class Solution8:\n",
    "    def buddyStrings(self, s: str, goal: str) -> bool:\n",
    "        if len(s) != len(goal):\n",
    "            return False\n",
    "        \n",
    "        if s == goal and len(set(s)) < len(s):\n",
    "            return True\n",
    "        \n",
    "        diffs = [(a, b) for a, b in zip(s, goal) if a != b]\n",
    "        \n",
    "        return len(diffs) == 2 and diffs[0] == diffs[1][::-1]\n",
    "    \n",
    "ans8 = Solution8()"
   ]
  },
  {
   "cell_type": "code",
   "execution_count": 44,
   "id": "88d24af2",
   "metadata": {},
   "outputs": [
    {
     "name": "stdout",
     "output_type": "stream",
     "text": [
      "True\n"
     ]
    }
   ],
   "source": [
    "s = \"ab\"\n",
    "goal = \"ba\"\n",
    "\n",
    "print(ans8.buddyStrings(s, goal))"
   ]
  },
  {
   "cell_type": "code",
   "execution_count": null,
   "id": "cd94a250",
   "metadata": {},
   "outputs": [],
   "source": []
  }
 ],
 "metadata": {
  "kernelspec": {
   "display_name": "Python 3 (ipykernel)",
   "language": "python",
   "name": "python3"
  },
  "language_info": {
   "codemirror_mode": {
    "name": "ipython",
    "version": 3
   },
   "file_extension": ".py",
   "mimetype": "text/x-python",
   "name": "python",
   "nbconvert_exporter": "python",
   "pygments_lexer": "ipython3",
   "version": "3.9.5"
  }
 },
 "nbformat": 4,
 "nbformat_minor": 5
}
